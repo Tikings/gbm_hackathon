{
 "cells": [
  {
   "cell_type": "markdown",
   "metadata": {},
   "source": [
    "# Starter notebook to work on the Spatial Transcriptomic data from Mosaic"
   ]
  },
  {
   "cell_type": "markdown",
   "metadata": {},
   "source": [
    "##### Credit goes to Quentin Bayard at Owkin"
   ]
  },
  {
   "cell_type": "markdown",
   "metadata": {},
   "source": [
    "## Load relevant python libraries"
   ]
  },
  {
   "cell_type": "code",
   "execution_count": null,
   "metadata": {},
   "outputs": [],
   "source": [
    "import os\n",
    "import anndata as ad\n",
    "import scanpy as sc\n",
    "import pandas as pd\n",
    "import numpy as np\n",
    "import json\n",
    "from typing import Dict, List, Optional, Union\n",
    "from matplotlib.pyplot import imread\n",
    "import liana as li\n",
    "import decoupler as dc\n",
    "import omnipath\n",
    "\n",
    "from gbmhackathon.utils.visium_functions import (\n",
    "    normalize_anndata_wrapper,\n",
    "    convert_obsm_to_adata\n",
    ")\n",
    "from gbmhackathon.viz.visium_functions import (\n",
    "    plot_spatial_expression,\n",
    "    plot_obsm\n",
    ")\n",
    "from gbmhackathon.stats.visium_functions import (\n",
    "    perform_multi_clustering,\n",
    "    quantify_cell_population_activity\n",
    ")\n",
    "from gbmhackathon import MosaicDataset\n",
    "\n",
    "import matplotlib as mpl\n",
    "mpl.rcParams['figure.dpi'] = 1200"
   ]
  },
  {
   "cell_type": "markdown",
   "metadata": {},
   "source": [
    "## Load Visium data and create a anndata object"
   ]
  },
  {
   "cell_type": "code",
   "execution_count": null,
   "metadata": {},
   "outputs": [],
   "source": [
    "visium_dict = MosaicDataset.load_visium(\n",
    "    sample_list=[\"HK_G_022a_vis\", \"HK_G_024a_vis\", \"HK_G_030a_vis\"], # remove this argument to load all available samples)\n",
    "    resolution=\"hires\"\n",
    ")\n",
    "# Note that loading all the samples may take up to 4 minutes and requires more memory"
   ]
  },
  {
   "cell_type": "markdown",
   "metadata": {},
   "source": [
    "### Access coordinates of spots (array or pixel coordinates are available)"
   ]
  },
  {
   "cell_type": "code",
   "execution_count": null,
   "metadata": {},
   "outputs": [],
   "source": [
    "visium_dict[\"HK_G_030a_vis\"].obs"
   ]
  },
  {
   "cell_type": "code",
   "execution_count": null,
   "metadata": {},
   "outputs": [],
   "source": [
    "visium_dict[\"HK_G_030a_vis\"].obsm[\"spatial\"]"
   ]
  },
  {
   "cell_type": "markdown",
   "metadata": {},
   "source": [
    "## Normalize data\n",
    "#### - Here we will normalize data using CPM normalization, see scanpy [documentation](https://scanpy.readthedocs.io/en/stable/generated/scanpy.pp.normalize_total.html) for more informations\n",
    "#### - In addition to normalize data, the function will create the `layers` element in anndata to easily access either `raw` counts, `CPM` or `log_CPM` arrays"
   ]
  },
  {
   "cell_type": "code",
   "execution_count": null,
   "metadata": {},
   "outputs": [],
   "source": [
    "visium_obj = normalize_anndata_wrapper(visium_dict, target_sum=1e6)"
   ]
  },
  {
   "cell_type": "code",
   "execution_count": null,
   "metadata": {},
   "outputs": [],
   "source": [
    "visium_obj[\"HK_G_030a_vis\"].layers"
   ]
  },
  {
   "cell_type": "code",
   "execution_count": null,
   "metadata": {},
   "outputs": [],
   "source": [
    "print(visium_obj[\"HK_G_030a_vis\"].layers[\"raw\"].toarray())"
   ]
  },
  {
   "cell_type": "code",
   "execution_count": null,
   "metadata": {},
   "outputs": [],
   "source": [
    "print(visium_obj[\"HK_G_030a_vis\"].layers[\"log_CPM\"].toarray())"
   ]
  },
  {
   "cell_type": "markdown",
   "metadata": {},
   "source": [
    "### Visualisation of genes of interest"
   ]
  },
  {
   "cell_type": "code",
   "execution_count": null,
   "metadata": {},
   "outputs": [],
   "source": [
    "plot_spatial_expression(visium_obj,\n",
    "                        gene_list = [\"EGFR\", \"CD4\", \"COL1A1\", \"CD8A\", \"SPP1\", \"HIF1A\", \"VCAN\"],\n",
    "                        layer = \"log_CPM\",\n",
    "                        sample_list = [\"HK_G_022a_vis\", \"HK_G_024a_vis\", \"HK_G_030a_vis\"],\n",
    "                        img_key=\"hires\",\n",
    "                        save_output=\"gene_expression.png\")"
   ]
  },
  {
   "cell_type": "markdown",
   "metadata": {},
   "source": [
    "## Perform unsupervised clustering of spots"
   ]
  },
  {
   "cell_type": "code",
   "execution_count": null,
   "metadata": {},
   "outputs": [],
   "source": [
    "visium_obj = perform_multi_clustering(visium_obj,\n",
    "                                       resolution = [0.5, 1],\n",
    "                                       save_output=\"clustering.png\")"
   ]
  },
  {
   "cell_type": "markdown",
   "metadata": {},
   "source": [
    "### Access clustering results in obs dataframe of a given sample"
   ]
  },
  {
   "cell_type": "code",
   "execution_count": null,
   "metadata": {},
   "outputs": [],
   "source": [
    "visium_obj[\"HK_G_030a_vis\"].obs"
   ]
  },
  {
   "cell_type": "markdown",
   "metadata": {},
   "source": [
    "## Quantify cell population activity using biomarker genes"
   ]
  },
  {
   "cell_type": "code",
   "execution_count": null,
   "metadata": {},
   "outputs": [],
   "source": [
    "visium_obj = quantify_cell_population_activity(\n",
    "    visium_obj,\n",
    "    biomarker_dict = {\n",
    "            \"ECM_remodeling\": [\"COL1A1\", \"COL3A1\", \"FN1\", \"MMP2\"],\n",
    "            \"Lymphocytes\": [\"CD3E\", \"CD8A\", \"CD4\", \"CD19\", \"CD20\", \"CD79A\"],\n",
    "            \"TAMs\": [\"CCL4\",\"ADRB2\",\"NAV3\",\"ADORA3\",\"SIGLEC8\",\"SPRY1\",\"TAL1\",\"RHOB\",\"BIN1\",\"SALL1\",\"KLF2\",\"BHLHE41\",\"SLC1A3\",\"P2RY12\"],\n",
    "            \"Tumor_cells\": [\"EGFR\", \"HER2\", \"MKI67\", \"VEGFA\", \"CD44\", \"GPC3\"],\n",
    "        }\n",
    "    #biomarker_dict=None # you can give a dictionary of cell types of interests,\n",
    "    # with one key per cell type, and as values a list of marker genes\n",
    "    # otherwise with None, it will use a default dictionary\n",
    "    # tips: you can look at the \"GBMap extended\" catalogue to defined your cell types of interests!\n",
    ")"
   ]
  },
  {
   "cell_type": "code",
   "execution_count": null,
   "metadata": {},
   "outputs": [],
   "source": [
    "plot_obsm(visium_obj[\"HK_G_030a_vis\"], \"cell_population_activity_normalized\", features=[\"ECM_remodeling\", \"Lymphocytes\", \"TAMs\", \"Tumor_cells\"], save_output=\"cell_population_activity.png\")"
   ]
  },
  {
   "cell_type": "markdown",
   "metadata": {},
   "source": [
    "## Perform pathway enrichment analysis and quantify TF activity using Liana+\n",
    "### We will use decoupler-py with pathways genesets from PROGENy. See this [tutorial](https://liana-py.readthedocs.io/en/latest/notebooks/misty.html) for details.\n"
   ]
  },
  {
   "cell_type": "code",
   "execution_count": null,
   "metadata": {},
   "outputs": [],
   "source": [
    "sample_focus = \"HK_G_030a_vis\""
   ]
  },
  {
   "cell_type": "code",
   "execution_count": null,
   "metadata": {},
   "outputs": [],
   "source": [
    "adata_test = visium_obj[sample_focus]"
   ]
  },
  {
   "cell_type": "markdown",
   "metadata": {},
   "source": [
    "### First, let’s estimate pathway activities as a way to make the data a bit more interpretable. "
   ]
  },
  {
   "cell_type": "code",
   "execution_count": null,
   "metadata": {},
   "outputs": [],
   "source": [
    "# obtain genesets\n",
    "progeny = dc.get_progeny(organism='human', top=500)"
   ]
  },
  {
   "cell_type": "code",
   "execution_count": null,
   "metadata": {},
   "outputs": [],
   "source": [
    "# use multivariate linear model to estimate activity\n",
    "dc.run_mlm(\n",
    "    mat=adata_test,\n",
    "    net=progeny,\n",
    "    source='source',\n",
    "    target='target',\n",
    "    weight='weight',\n",
    "    verbose=True,\n",
    "    use_raw=False,\n",
    ")"
   ]
  },
  {
   "cell_type": "code",
   "execution_count": null,
   "metadata": {},
   "outputs": [],
   "source": [
    "# extract progeny activities as an AnnData object\n",
    "acts_progeny = convert_obsm_to_adata(adata_test, 'mlm_estimate')\n"
   ]
  },
  {
   "cell_type": "code",
   "execution_count": null,
   "metadata": {},
   "outputs": [],
   "source": [
    "sc.pl.spatial(acts_progeny, color=['Hypoxia', 'JAK-STAT', 'p53'], cmap='RdBu_r', size=1.3, save=f\"{sample_focus}_progeny_activities.png\", show=True)\n"
   ]
  },
  {
   "cell_type": "markdown",
   "metadata": {},
   "source": [
    "### Second, use decoupler and liana to estimate Transcription Factor (TF) activities"
   ]
  },
  {
   "cell_type": "code",
   "execution_count": null,
   "metadata": {},
   "outputs": [],
   "source": [
    "# get TF prior knowledge\n",
    "net = dc.get_collectri()"
   ]
  },
  {
   "cell_type": "code",
   "execution_count": null,
   "metadata": {},
   "outputs": [],
   "source": [
    "# Estimate activities\n",
    "dc.run_ulm(\n",
    "    mat=adata_test,\n",
    "    net=net,\n",
    "    verbose=True,\n",
    "    use_raw=False,\n",
    ")"
   ]
  },
  {
   "cell_type": "code",
   "execution_count": null,
   "metadata": {},
   "outputs": [],
   "source": [
    "adata_test.obsm[\"ulm_estimate\"].head()"
   ]
  },
  {
   "cell_type": "code",
   "execution_count": null,
   "metadata": {},
   "outputs": [],
   "source": [
    "plot_obsm(adata_test, \"ulm_estimate\", features=[\"HIF1A\", \"STAT1\", \"TP53\"], save=f\"{sample_focus}_TF_activities.png\", show=True)"
   ]
  }
 ],
 "metadata": {
  "kernelspec": {
   "display_name": "gbmosaic",
   "language": "python",
   "name": "gbmosaic"
  },
  "language_info": {
   "codemirror_mode": {
    "name": "ipython",
    "version": 3
   },
   "file_extension": ".py",
   "mimetype": "text/x-python",
   "name": "python",
   "nbconvert_exporter": "python",
   "pygments_lexer": "ipython3",
   "version": "3.10.16"
  }
 },
 "nbformat": 4,
 "nbformat_minor": 4
}
