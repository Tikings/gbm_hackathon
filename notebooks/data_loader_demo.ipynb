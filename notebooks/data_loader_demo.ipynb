{
 "cells": [
  {
   "cell_type": "markdown",
   "metadata": {},
   "source": [
    "# Demo notebook to start working on the GBM Hackathon data\n",
    "This notebook demonstrates how the MOSAIC ([Owkin](https://www.mosaic-research.com/)) and BRUCE ([PICI](https://www.parkerici.org/)) data can be loaded."
   ]
  },
  {
   "cell_type": "markdown",
   "metadata": {},
   "source": [
    "## Setup"
   ]
  },
  {
   "cell_type": "code",
   "execution_count": null,
   "metadata": {},
   "outputs": [],
   "source": [
    "# Load packages and classes\n",
    "import pandas as pd\n",
    "import numpy as np\n",
    "import matplotlib.pyplot as plt\n",
    "import tiffslide\n",
    "import seaborn as sns\n",
    "import gget\n",
    "import tifffile\n",
    "import zarr\n",
    "\n",
    "# MosaicDataset and BruceDataset classes allow loading and visualisation of the different data sources\n",
    "from gbmhackathon import MosaicDataset, BruceDataset"
   ]
  },
  {
   "cell_type": "markdown",
   "metadata": {},
   "source": [
    "## Start exploring the MOSAIC data"
   ]
  },
  {
   "cell_type": "code",
   "execution_count": null,
   "metadata": {},
   "outputs": [],
   "source": [
    "# Look at the available data sources\n",
    "MosaicDataset.sources.keys()"
   ]
  },
  {
   "cell_type": "code",
   "execution_count": null,
   "metadata": {},
   "outputs": [],
   "source": [
    "# The following cell will returns a dictionary with the data sources in the\n",
    "# keys and the list of files (and path) used to return the data.\n",
    "source_dict_mosaic = MosaicDataset.load_tabular()"
   ]
  },
  {
   "cell_type": "markdown",
   "metadata": {},
   "source": [
    "### Load the MOSAIC sample table\n",
    "Not every data modality is available for each MOSAIC sample. The following table provides information on which modality is available for each sample."
   ]
  },
  {
   "cell_type": "code",
   "execution_count": null,
   "metadata": {},
   "outputs": [],
   "source": [
    "filename_sample_table = \"/home/ec2-user/SageMaker/data/mosaic_dataset/Data availibility per modality per patient.csv\"\n",
    "sample_table = pd.read_csv(filename_sample_table, index_col=0)\n",
    "sample_table.head(2)"
   ]
  },
  {
   "cell_type": "markdown",
   "metadata": {},
   "source": [
    "### Load and explore the six MOSAIC data modalities"
   ]
  },
  {
   "cell_type": "markdown",
   "metadata": {},
   "source": [
    "#### 1. Clinical data"
   ]
  },
  {
   "cell_type": "code",
   "execution_count": null,
   "metadata": {},
   "outputs": [],
   "source": [
    "# To access the clinical data, specify the correct keys\n",
    "clin_df = source_dict_mosaic[\"clinical\"][\"processed gbm clinical\"]\n",
    "clin_df.head(2)"
   ]
  },
  {
   "cell_type": "code",
   "execution_count": null,
   "metadata": {},
   "outputs": [],
   "source": [
    "# For the clinical data, you also have access to a dictionary to understand the\n",
    "# variable's name\n",
    "data_dict = source_dict_mosaic[\"clinical\"][\"data dictionary\"]\n",
    "data_dict.head(3)"
   ]
  },
  {
   "cell_type": "markdown",
   "metadata": {},
   "source": [
    "#### 2. Bulk RNA sequencing data"
   ]
  },
  {
   "cell_type": "code",
   "execution_count": null,
   "metadata": {},
   "outputs": [],
   "source": [
    "# To access the bulk RNAseq data, you can specify a particular normalization\n",
    "print(source_dict_mosaic[\"bulk_rna\"].keys())\n",
    "bRNA_TPM = source_dict_mosaic[\"bulk_rna\"][\"TPM counts\"]\n",
    "bRNA_TPM.head(2)"
   ]
  },
  {
   "cell_type": "code",
   "execution_count": null,
   "metadata": {},
   "outputs": [],
   "source": [
    "# A quick way to convert ensemblID to gene names, using gget, but other tools exist\n",
    "# ensembl_ids = bRNA_TPM.index.astype(str).tolist()[:10]\n",
    "# result = gget.info(ensembl_ids, verbose=False)\n",
    "# result[\"ensembl_gene_name\"]"
   ]
  },
  {
   "cell_type": "markdown",
   "metadata": {},
   "source": [
    "#### 3. Whole exome sequencing (WES) data\n",
    "\n",
    "The single nucleotide variant (SNV) and small insertion and deletion (indel) information are stored in a DataFrame, with rows representing samples and columns representing genes. Each cell contains a Boolean value (True/False) indicating whether a gene contains a potentially oncogenic SNV or indel in that sample.\n",
    "\n",
    "A gene is considered to have a potentially oncogenic alteration if it meets one of these criteria:\n",
    "- The variant creates a nonsense mutation in a known tumour suppressor gene (TSG)\n",
    "- The variant results in a previously documented amino acid change at a known cancer hotspot\n",
    "\n",
    "Note that the TSGs and hotspots used in this analysis are not specific to GBM. To focus specifically on likely GBM drivers, you may want to use a more restricted gene list.\n",
    "\n",
    "WES was performed on tumour samples only and we are therefore not always able to distinguish between somatic and germline variants. Some genes, such as HLA genes, likely contain false positives."
   ]
  },
  {
   "cell_type": "code",
   "execution_count": null,
   "metadata": {},
   "outputs": [],
   "source": [
    "# Access SNVs and indels\n",
    "snvs_indels = source_dict_mosaic[\"wes\"][\"WES mutations\"]\n",
    "snvs_indels.head(2)"
   ]
  },
  {
   "cell_type": "code",
   "execution_count": null,
   "metadata": {},
   "outputs": [],
   "source": [
    "snvs_indels.sum().sort_values(ascending=False).head()"
   ]
  },
  {
   "cell_type": "markdown",
   "metadata": {},
   "source": [
    "Copy number variant (CNV) information is stored across three distinct DataFrames:\n",
    "- A binary matrix indicating which genes are affected by deletions in each sample\n",
    "- A binary matrix indicating which genes are affected by amplifications in each sample\n",
    "- A binary matrix indicating which genes are affected by potentially oncogenic CNVs in each sample\n",
    "\n",
    "A gene is considered to be affected by a potentially oncogenic CNV if it meets either of these criteria:\n",
    "- It is a known TSG and is affected by a deletion\n",
    "- It is a known oncogene and is affected by a duplication\n",
    "\n",
    "The lists of known TSGs and oncogenes are obtained from the IntOGen database. While TSGs and oncogenes can be cancer-specific, our analysis considers all TSGs and oncogenes identified in any cancer type, not just those specific to GBM."
   ]
  },
  {
   "cell_type": "code",
   "execution_count": null,
   "metadata": {},
   "outputs": [],
   "source": [
    "# Access amplifications\n",
    "CNVamp = source_dict_mosaic[\"wes\"][\"WES CNV amplification\"]\n",
    "CNVamp.head(2)"
   ]
  },
  {
   "cell_type": "code",
   "execution_count": null,
   "metadata": {},
   "outputs": [],
   "source": [
    "# You can also access the deletions\n",
    "CNVdel = source_dict_mosaic[\"wes\"][\"WES CNV deletion\"]\n",
    "CNVdel.head(2)"
   ]
  },
  {
   "cell_type": "code",
   "execution_count": null,
   "metadata": {},
   "outputs": [],
   "source": [
    "print(\"Number of samples with information on CNV alterations: \", CNVdel.shape[0])"
   ]
  },
  {
   "cell_type": "code",
   "execution_count": null,
   "metadata": {},
   "outputs": [],
   "source": [
    "# Show the top deleted genes\n",
    "CNVdel.sum().sort_values(ascending=False).head()"
   ]
  },
  {
   "cell_type": "code",
   "execution_count": null,
   "metadata": {},
   "outputs": [],
   "source": [
    "# Access the potentially oncogenic CNVs and show the top genes\n",
    "CNVoncogenic = source_dict_mosaic[\"wes\"][\"WES CNV oncogenic\"]\n",
    "CNVoncogenic.sum().sort_values(ascending=False).head()"
   ]
  },
  {
   "cell_type": "markdown",
   "metadata": {},
   "source": [
    "#### 4. Single-cell RNA sequencing (Chromium) data\n",
    "Processed single-cell RNA sequencing data are stored as an AnnData object. Ambient RNA has been removed using [SoupX](https://academic.oup.com/gigascience/article/9/12/giaa151/6049831) and doublets identified and removed using [ScDblFinder](https://pmc.ncbi.nlm.nih.gov/articles/PMC9204188/)."
   ]
  },
  {
   "cell_type": "code",
   "execution_count": null,
   "metadata": {},
   "outputs": [],
   "source": [
    "# Note that it can take up to 12 minutes to load the single-cell data because it is heavy\n",
    "single_cell_obj = MosaicDataset.load_singlecell()\n",
    "# Display the content of the anndata object\n",
    "single_cell_obj.__dict__.keys()"
   ]
  },
  {
   "cell_type": "markdown",
   "metadata": {},
   "source": [
    "Various normalisations have been applied to the data. The unnormalised and normalised gene expression data can be accessed as follows."
   ]
  },
  {
   "cell_type": "code",
   "execution_count": null,
   "metadata": {},
   "outputs": [],
   "source": [
    "# .layers[\"ambient_rna_removed\"] contains the unnormalised counts\n",
    "single_cell_obj.layers[\"ambient_rna_removed\"]"
   ]
  },
  {
   "cell_type": "code",
   "execution_count": null,
   "metadata": {},
   "outputs": [],
   "source": [
    "# .layers[\"LogNormalize\"] contains log-normalised counts\n",
    "single_cell_obj.layers[\"LogNormalize\"]"
   ]
  },
  {
   "cell_type": "code",
   "execution_count": null,
   "metadata": {},
   "outputs": [],
   "source": [
    "# .X contains the log of the SCTransform-corrected counts plus one\n",
    "single_cell_obj.X"
   ]
  },
  {
   "cell_type": "markdown",
   "metadata": {},
   "source": [
    "The `.obs` property contains cell-level meta-data. Each row represents a cell. The most useful columns are:\n",
    "- `orig.ident` The sample ID.\n",
    "- `celltype_level1_scanvi` Level 1 cell type annotations. These are the annotations at the lowest resolution, and comprise the following five cell types: *Immune*, *Malignant*, *Neuroglia*, *Neuron*, *Stromal*.\n",
    "- `celltype_level2_scanvi` Level 2 cell type annotations. These are higher resolution than level 1 annotations.\n",
    "- `celltype_level3_scanvi` Level 3 cell type annotations. Malignant cells from each sample are annotated separately, for example, *Tu_HK_G_001* are malignant cells from sample *HK_G_001*.\n",
    "- `celltype_level4_scanvi` Level 4 cell type annotations. These are the highest-resolution annotations. Malignant cells from each sample have been subclustered based on transcriptional similarity. For example, malignant cells from *Tu_HK_G_111b* have been subclustered into *Tu_HK_G_111b_c01*, *Tu_HK_G_111b_c02*, *Tu_HK_G_111b_c03*, and *Tu_HK_G_111b_nos*."
   ]
  },
  {
   "cell_type": "code",
   "execution_count": null,
   "metadata": {},
   "outputs": [],
   "source": [
    "single_cell_obj.obs.head(2)"
   ]
  },
  {
   "cell_type": "markdown",
   "metadata": {},
   "source": [
    "PCA and UMAP embedding have already been computed. These are stored in the `.obsm` property."
   ]
  },
  {
   "cell_type": "code",
   "execution_count": null,
   "metadata": {},
   "outputs": [],
   "source": [
    "# Visualize single-cell UMAP coloured by level 2 cell type annotations\n",
    "embedding = single_cell_obj.obsm[\"X_umap\"][:, :2]\n",
    "df = pd.DataFrame(embedding, columns=[\"UMAP1\", \"UMAP2\"])\n",
    "df[\"cell_type\"] = single_cell_obj.obs[\"celltype_level2_scanvi\"].values\n",
    "sns.scatterplot(\n",
    "    data=df,\n",
    "    x=\"UMAP1\",\n",
    "    y=\"UMAP2\",\n",
    "    hue=\"cell_type\",\n",
    "    palette=\"tab10\",\n",
    "    s=10,\n",
    "    alpha=0.7\n",
    ")\n",
    "plt.title(\"UMAP Embedding with level 2 cell type annotations\")\n",
    "plt.show()"
   ]
  },
  {
   "cell_type": "markdown",
   "metadata": {},
   "source": [
    "#### 5. Spatial transcriptomic (Visium) data\n",
    "The `notebooks/visium_starter_mosaic.ipynb` Notebook provides more information on how to process and explore Visium data."
   ]
  },
  {
   "cell_type": "code",
   "execution_count": null,
   "metadata": {},
   "outputs": [],
   "source": [
    "# Load Visium data\n",
    "visium_obj = MosaicDataset.load_visium(\n",
    "    sample_list=[\"HK_G_022a_vis\", \"HK_G_024a_vis\", \"HK_G_030a_vis\"], # remove this argument to load all available samples\n",
    "    resolution=\"hires\"\n",
    ")"
   ]
  },
  {
   "cell_type": "markdown",
   "metadata": {},
   "source": [
    "#### 6. Aligned H&E images"
   ]
  },
  {
   "cell_type": "code",
   "execution_count": null,
   "metadata": {},
   "outputs": [],
   "source": [
    "# Load the H&E slides\n",
    "he = source_dict_mosaic[\"he\"][\"HE files\"]\n",
    "he.head(2)"
   ]
  },
  {
   "cell_type": "code",
   "execution_count": null,
   "metadata": {},
   "outputs": [],
   "source": [
    "# Display a H&E slide\n",
    "slide_idx = 12  # pick a H&E slide to display\n",
    "\n",
    "slide = tiffslide.TiffSlide(he.path.values[slide_idx])\n",
    "\n",
    "# Display the slide\n",
    "slide_img = slide.get_thumbnail(slide.level_dimensions[-2])\n",
    "fig, ax = plt.subplots()\n",
    "ax.imshow(slide_img)\n",
    "ax.set_axis_off()\n",
    "plt.show()"
   ]
  },
  {
   "cell_type": "code",
   "execution_count": null,
   "metadata": {},
   "outputs": [],
   "source": [
    "# Load the H1 Bioptimus features paths for each subject\n",
    "h1 = source_dict_mosaic[\"he\"][\"H1 features\"]\n",
    "h1.head(2)"
   ]
  },
  {
   "cell_type": "code",
   "execution_count": null,
   "metadata": {},
   "outputs": [],
   "source": [
    "# Load the H1 features for one sample\n",
    "\n",
    "slide_idx = 12  # pick a H&E slide to display\n",
    "\n",
    "# Load the H1 zarr object for the selected slide\n",
    "h1_zarr = zarr.open(h1.path.values[slide_idx], mode='r')\n",
    "\n",
    "h1_emb = h1_zarr[\"emb\"][:]  # (n tiles, n features) np array H1 features\n",
    "h1_coords = h1_zarr[\"coords\"][:]  # (n tiles, 2) np array coordinates\n",
    "h1_level = h1_zarr[\"level\"][:]  # (n tiles, 1) np array level of resolution\n"
   ]
  },
  {
   "cell_type": "markdown",
   "metadata": {},
   "source": [
    "## Start exploring the BRUCE Data"
   ]
  },
  {
   "cell_type": "code",
   "execution_count": null,
   "metadata": {},
   "outputs": [],
   "source": [
    "# Look at the available data sources\n",
    "BruceDataset.sources.keys()"
   ]
  },
  {
   "cell_type": "code",
   "execution_count": null,
   "metadata": {},
   "outputs": [],
   "source": [
    "# Load the metadata table\n",
    "source_dict_bruce = BruceDataset.load_tabular()"
   ]
  },
  {
   "cell_type": "code",
   "execution_count": null,
   "metadata": {},
   "outputs": [],
   "source": [
    "metadata = source_dict_bruce[\"metadata\"][\"metadata\"]\n",
    "metadata.head(2)"
   ]
  },
  {
   "cell_type": "markdown",
   "metadata": {},
   "source": [
    "### Load a MIBI image"
   ]
  },
  {
   "cell_type": "code",
   "execution_count": null,
   "metadata": {},
   "outputs": [],
   "source": [
    "source_dict_bruce.keys()"
   ]
  },
  {
   "cell_type": "code",
   "execution_count": null,
   "metadata": {},
   "outputs": [],
   "source": [
    "# Load the information on the image\n",
    "mibi_immune = source_dict_bruce[\"mibi_images\"][\"immune\"] # you can also choose \"tumor\"\n",
    "mibi_immune.head(2)"
   ]
  },
  {
   "cell_type": "code",
   "execution_count": null,
   "metadata": {},
   "outputs": [],
   "source": [
    "# Display for one sample and one immune marker of interest\n",
    "img_idx = 1\n",
    "img = tifffile.imread(mibi_immune.path.values[img_idx])\n",
    "\n",
    "# Normalize the image to the range [0, 1]\n",
    "img_normalized = (img - img.min()) / (img.max() - img.min())\n",
    "\n",
    "# Display the normalized image\n",
    "plt.imshow(img_normalized)\n",
    "plt.axis('off')\n",
    "plt.show()"
   ]
  }
 ],
 "metadata": {
  "kernelspec": {
   "display_name": "gbmosaic",
   "language": "python",
   "name": "python3"
  },
  "language_info": {
   "codemirror_mode": {
    "name": "ipython",
    "version": 3
   },
   "file_extension": ".py",
   "mimetype": "text/x-python",
   "name": "python",
   "nbconvert_exporter": "python",
   "pygments_lexer": "ipython3",
   "version": "3.9.19"
  }
 },
 "nbformat": 4,
 "nbformat_minor": 4
}
