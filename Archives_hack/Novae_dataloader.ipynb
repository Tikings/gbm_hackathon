{
 "cells": [
  {
   "cell_type": "code",
   "execution_count": 1,
   "id": "8a49b4f5-202e-45d0-8fbc-74b7972bdbda",
   "metadata": {},
   "outputs": [
    {
     "name": "stderr",
     "output_type": "stream",
     "text": [
      "Downloading data from `https://omnipathdb.org/queries/enzsub?format=json`\n",
      "Downloading data from `https://omnipathdb.org/queries/interactions?format=json`\n",
      "Downloading data from `https://omnipathdb.org/queries/complexes?format=json`\n",
      "Downloading data from `https://omnipathdb.org/queries/annotations?format=json`\n",
      "Downloading data from `https://omnipathdb.org/queries/intercell?format=json`\n",
      "Downloading data from `https://omnipathdb.org/about?format=text`\n"
     ]
    }
   ],
   "source": [
    "## Importing the librairies\n",
    "\n",
    "import os\n",
    "import anndata as ad\n",
    "import scanpy as sc\n",
    "import pandas as pd\n",
    "import numpy as np\n",
    "import json\n",
    "from typing import Dict, List, Optional, Union\n",
    "from matplotlib.pyplot import imread\n",
    "import liana as li\n",
    "import decoupler as dc\n",
    "import omnipath\n",
    "import novae\n",
    "\n",
    "from gbmhackathon.utils.visium_functions import (\n",
    "    normalize_anndata_wrapper,\n",
    "    convert_obsm_to_adata\n",
    ")\n",
    "from gbmhackathon.viz.visium_functions import (\n",
    "    plot_spatial_expression,\n",
    "    plot_obsm\n",
    ")\n",
    "from gbmhackathon.stats.visium_functions import (\n",
    "    perform_multi_clustering,\n",
    "    quantify_cell_population_activity\n",
    ")\n",
    "from gbmhackathon import MosaicDataset\n",
    "\n",
    "import matplotlib as mpl\n",
    "mpl.rcParams['figure.dpi'] = 1200"
   ]
  },
  {
   "cell_type": "markdown",
   "id": "4432c1c8-cd07-42b7-a261-9c4a0e947e0b",
   "metadata": {},
   "source": [
    "### Hyperparameters choice \n",
    "\n"
   ]
  },
  {
   "cell_type": "code",
   "execution_count": 18,
   "id": "54daf772-45f5-4423-ae36-1ad324e8b135",
   "metadata": {},
   "outputs": [],
   "source": [
    "FUNDATION_NOVAE = \"MICS-Lab/novae-human-0\"\n",
    "RADIUS_SPATIAL_N = 200"
   ]
  },
  {
   "cell_type": "markdown",
   "id": "ae38968a-5a44-4102-9330-daa03edb3b10",
   "metadata": {},
   "source": [
    "# Retrieving the data from a pretrained model"
   ]
  },
  {
   "cell_type": "markdown",
   "id": "e4498561-8a44-4030-86ce-9767aa87061b",
   "metadata": {},
   "source": [
    "This part aims to focus on the branch that will be learned using the Spatial-Omics data"
   ]
  },
  {
   "cell_type": "code",
   "execution_count": 2,
   "id": "e52d8f92-8d1c-41dc-a490-ca7c05a58915",
   "metadata": {},
   "outputs": [
    {
     "name": "stdout",
     "output_type": "stream",
     "text": [
      "Resolution of the spatial image to load:  hires\n",
      "You can change the resolution by setting the resolution parameter using the resolution argument.\n",
      "Loading Visium data, this can take few minutes...\n"
     ]
    },
    {
     "name": "stderr",
     "output_type": "stream",
     "text": [
      "/home/ec2-user/SageMaker/.conda/envs/gbmhackathon/lib/python3.10/site-packages/anndata/_core/anndata.py:1758: UserWarning: Variable names are not unique. To make them unique, call `.var_names_make_unique`.\n",
      "/home/ec2-user/SageMaker/.conda/envs/gbmhackathon/lib/python3.10/site-packages/anndata/_core/anndata.py:1758: UserWarning: Variable names are not unique. To make them unique, call `.var_names_make_unique`.\n",
      "/home/ec2-user/SageMaker/.conda/envs/gbmhackathon/lib/python3.10/site-packages/anndata/_core/anndata.py:1758: UserWarning: Variable names are not unique. To make them unique, call `.var_names_make_unique`.\n",
      "/home/ec2-user/SageMaker/.conda/envs/gbmhackathon/lib/python3.10/site-packages/anndata/_core/anndata.py:1758: UserWarning: Variable names are not unique. To make them unique, call `.var_names_make_unique`.\n",
      "/home/ec2-user/SageMaker/.conda/envs/gbmhackathon/lib/python3.10/site-packages/anndata/_core/anndata.py:1758: UserWarning: Variable names are not unique. To make them unique, call `.var_names_make_unique`.\n",
      "/home/ec2-user/SageMaker/.conda/envs/gbmhackathon/lib/python3.10/site-packages/anndata/_core/anndata.py:1758: UserWarning: Variable names are not unique. To make them unique, call `.var_names_make_unique`.\n"
     ]
    }
   ],
   "source": [
    "visium_dict = MosaicDataset.load_visium(\n",
    "    sample_list=[\"HK_G_022a_vis\", \"HK_G_024a_vis\", \"HK_G_030a_vis\"], # remove this argument to load all available samples)\n",
    "    resolution=\"hires\"\n",
    ")\n"
   ]
  },
  {
   "cell_type": "code",
   "execution_count": 5,
   "id": "01329ca2-0993-430a-aa02-891dc32601d7",
   "metadata": {},
   "outputs": [
    {
     "data": {
      "text/plain": [
       "{'HK_G_022a_vis': AnnData object with n_obs × n_vars = 2236 × 16927\n",
       "     obs: 'in_tissue', 'array_row', 'array_col'\n",
       "     var: 'gene_ids', 'feature_types', 'genome'\n",
       "     uns: 'spatial', 'log1p'\n",
       "     obsm: 'spatial'\n",
       "     layers: 'raw', 'CPM', 'log_CPM',\n",
       " 'HK_G_024a_vis': AnnData object with n_obs × n_vars = 4576 × 16927\n",
       "     obs: 'in_tissue', 'array_row', 'array_col'\n",
       "     var: 'gene_ids', 'feature_types', 'genome'\n",
       "     uns: 'spatial', 'log1p'\n",
       "     obsm: 'spatial'\n",
       "     layers: 'raw', 'CPM', 'log_CPM',\n",
       " 'HK_G_030a_vis': AnnData object with n_obs × n_vars = 4522 × 16927\n",
       "     obs: 'in_tissue', 'array_row', 'array_col'\n",
       "     var: 'gene_ids', 'feature_types', 'genome'\n",
       "     uns: 'spatial', 'log1p'\n",
       "     obsm: 'spatial'\n",
       "     layers: 'raw', 'CPM', 'log_CPM'}"
      ]
     },
     "execution_count": 5,
     "metadata": {},
     "output_type": "execute_result"
    }
   ],
   "source": [
    "visium_dict"
   ]
  },
  {
   "cell_type": "code",
   "execution_count": 3,
   "id": "371cca8a-c249-4d84-9fb6-32060d58e899",
   "metadata": {},
   "outputs": [],
   "source": [
    "# Normalization of the data\n",
    "visium_obj = normalize_anndata_wrapper(visium_dict, target_sum=1e6)"
   ]
  },
  {
   "cell_type": "code",
   "execution_count": 6,
   "id": "d75a8d1e-ccfd-4acc-be6d-435533c31d7d",
   "metadata": {},
   "outputs": [
    {
     "data": {
      "text/plain": [
       "{'HK_G_022a_vis': AnnData object with n_obs × n_vars = 2236 × 16927\n",
       "     obs: 'in_tissue', 'array_row', 'array_col'\n",
       "     var: 'gene_ids', 'feature_types', 'genome'\n",
       "     uns: 'spatial', 'log1p'\n",
       "     obsm: 'spatial'\n",
       "     layers: 'raw', 'CPM', 'log_CPM',\n",
       " 'HK_G_024a_vis': AnnData object with n_obs × n_vars = 4576 × 16927\n",
       "     obs: 'in_tissue', 'array_row', 'array_col'\n",
       "     var: 'gene_ids', 'feature_types', 'genome'\n",
       "     uns: 'spatial', 'log1p'\n",
       "     obsm: 'spatial'\n",
       "     layers: 'raw', 'CPM', 'log_CPM',\n",
       " 'HK_G_030a_vis': AnnData object with n_obs × n_vars = 4522 × 16927\n",
       "     obs: 'in_tissue', 'array_row', 'array_col'\n",
       "     var: 'gene_ids', 'feature_types', 'genome'\n",
       "     uns: 'spatial', 'log1p'\n",
       "     obsm: 'spatial'\n",
       "     layers: 'raw', 'CPM', 'log_CPM'}"
      ]
     },
     "execution_count": 6,
     "metadata": {},
     "output_type": "execute_result"
    }
   ],
   "source": [
    "visium_obj"
   ]
  },
  {
   "cell_type": "code",
   "execution_count": 10,
   "id": "0966c330-9b49-4457-90d9-be5c464e2364",
   "metadata": {},
   "outputs": [
    {
     "data": {
      "text/plain": [
       "['HK_G_022a_vis', 'HK_G_024a_vis', 'HK_G_030a_vis']"
      ]
     },
     "execution_count": 10,
     "metadata": {},
     "output_type": "execute_result"
    }
   ],
   "source": [
    "# Getting the Ann_datas as a list\n",
    "list_ids = list(visium_obj.keys())\n",
    "list_ids"
   ]
  },
  {
   "cell_type": "code",
   "execution_count": 14,
   "id": "e8ef40ad-d5a8-4f46-b16f-c7346e13e848",
   "metadata": {},
   "outputs": [
    {
     "data": {
      "text/plain": [
       "AnnData object with n_obs × n_vars = 2236 × 16927\n",
       "    obs: 'in_tissue', 'array_row', 'array_col'\n",
       "    var: 'gene_ids', 'feature_types', 'genome'\n",
       "    uns: 'spatial', 'log1p'\n",
       "    obsm: 'spatial'\n",
       "    layers: 'raw', 'CPM', 'log_CPM'"
      ]
     },
     "execution_count": 14,
     "metadata": {},
     "output_type": "execute_result"
    }
   ],
   "source": [
    "list_anndata = list(visium_obj.values())\n",
    "list_anndata[0]"
   ]
  },
  {
   "cell_type": "code",
   "execution_count": 16,
   "id": "f57915f7-7264-4c61-803a-af6692f76b50",
   "metadata": {},
   "outputs": [
    {
     "name": "stderr",
     "output_type": "stream",
     "text": [
      "\u001b[36;20m[INFO] (novae.utils._build)\u001b[0m Computing graph on 2,236 cells (coord_type=generic, delaunay=True, radius=[0.0, 200.0], n_neighs=None)\n",
      "\u001b[36;20m[INFO] (novae.utils._build)\u001b[0m Computing graph on 4,576 cells (coord_type=generic, delaunay=True, radius=[0.0, 200.0], n_neighs=None)\n",
      "\u001b[36;20m[INFO] (novae.utils._build)\u001b[0m Computing graph on 4,522 cells (coord_type=generic, delaunay=True, radius=[0.0, 200.0], n_neighs=None)\n"
     ]
    }
   ],
   "source": [
    "# Getting the spatial neighbors of each spatial\n",
    "novae.utils.spatial_neighbors(list_anndata, radius=RADIUS_SPATIAL_N)"
   ]
  },
  {
   "cell_type": "code",
   "execution_count": 17,
   "id": "853ec5de-1ed4-454d-a246-3fde8a69a50c",
   "metadata": {},
   "outputs": [
    {
     "data": {
      "text/plain": [
       "AnnData object with n_obs × n_vars = 2236 × 16927\n",
       "    obs: 'in_tissue', 'array_row', 'array_col', 'novae_sid'\n",
       "    var: 'gene_ids', 'feature_types', 'genome'\n",
       "    uns: 'spatial', 'log1p', 'spatial_neighbors'\n",
       "    obsm: 'spatial'\n",
       "    layers: 'raw', 'CPM', 'log_CPM'\n",
       "    obsp: 'spatial_connectivities', 'spatial_distances'"
      ]
     },
     "execution_count": 17,
     "metadata": {},
     "output_type": "execute_result"
    }
   ],
   "source": [
    "list_anndata[0]"
   ]
  },
  {
   "cell_type": "markdown",
   "id": "49141d0f-9eae-4d9e-b206-09b9ff9b26ca",
   "metadata": {},
   "source": [
    "## Importation of the fundation model"
   ]
  },
  {
   "cell_type": "code",
   "execution_count": 28,
   "id": "7321cf7f-347d-465a-9891-f4af70825cf7",
   "metadata": {},
   "outputs": [
    {
     "name": "stdout",
     "output_type": "stream",
     "text": [
      "Novae model\n",
      "   ├── Known genes: 60697\n",
      "   ├── Parameters: 32.0M\n",
      "   └── Model name: MICS-Lab/novae-human-0\n"
     ]
    }
   ],
   "source": [
    "model = novae.Novae.from_pretrained(FUNDATION_NOVAE)\n",
    "print(model)"
   ]
  },
  {
   "cell_type": "code",
   "execution_count": 21,
   "id": "7292f6ab-e237-47ab-a220-176db9762984",
   "metadata": {},
   "outputs": [
    {
     "name": "stderr",
     "output_type": "stream",
     "text": [
      "\u001b[33;20m[WARNING] (novae.utils._validate)\u001b[0m adata.X has high values. We recommend processing the data before running the model (e.g., with sc.pp.log1p).\n",
      "\u001b[33;20m[WARNING] (novae.utils._validate)\u001b[0m adata.X has high values. We recommend processing the data before running the model (e.g., with sc.pp.log1p).\n",
      "\u001b[33;20m[WARNING] (novae.utils._validate)\u001b[0m adata.X has high values. We recommend processing the data before running the model (e.g., with sc.pp.log1p).\n",
      "/home/ec2-user/SageMaker/.conda/envs/gbmhackathon/lib/python3.10/site-packages/anndata/_core/anndata.py:1756: UserWarning: Observation names are not unique. To make them unique, call `.obs_names_make_unique`.\n"
     ]
    },
    {
     "data": {
      "application/vnd.jupyter.widget-view+json": {
       "model_id": "a05c19f4eae2477793e32477314779b8",
       "version_major": 2,
       "version_minor": 0
      },
      "text/plain": [
       "Computing representations:   0%|          | 0/5 [00:00<?, ?it/s]"
      ]
     },
     "metadata": {},
     "output_type": "display_data"
    },
    {
     "data": {
      "application/vnd.jupyter.widget-view+json": {
       "model_id": "446a738caea24c7db8f7c4fab3295c29",
       "version_major": 2,
       "version_minor": 0
      },
      "text/plain": [
       "Computing representations:   0%|          | 0/9 [00:00<?, ?it/s]"
      ]
     },
     "metadata": {},
     "output_type": "display_data"
    },
    {
     "data": {
      "application/vnd.jupyter.widget-view+json": {
       "model_id": "693f1bc10ac94a6990358036ca4a0b08",
       "version_major": 2,
       "version_minor": 0
      },
      "text/plain": [
       "Computing representations:   0%|          | 0/9 [00:00<?, ?it/s]"
      ]
     },
     "metadata": {},
     "output_type": "display_data"
    }
   ],
   "source": [
    "model.compute_representations(list_anndata) "
   ]
  },
  {
   "cell_type": "code",
   "execution_count": 18,
   "id": "effeca89-d61f-49f7-a47e-fade259aa9df",
   "metadata": {},
   "outputs": [
    {
     "ename": "NameError",
     "evalue": "name 'list_anndata' is not defined",
     "output_type": "error",
     "traceback": [
      "\u001b[0;31m---------------------------------------------------------------------------\u001b[0m",
      "\u001b[0;31mNameError\u001b[0m                                 Traceback (most recent call last)",
      "Cell \u001b[0;32mIn[18], line 1\u001b[0m\n\u001b[0;32m----> 1\u001b[0m \u001b[43mlist_anndata\u001b[49m[\u001b[38;5;241m0\u001b[39m]\n",
      "\u001b[0;31mNameError\u001b[0m: name 'list_anndata' is not defined"
     ]
    }
   ],
   "source": [
    "list_anndata[0]"
   ]
  },
  {
   "cell_type": "code",
   "execution_count": 24,
   "id": "a9a13136-bab1-4360-bb00-31f4d1dc4eae",
   "metadata": {},
   "outputs": [],
   "source": [
    "list_latent = [anndata.obsm[\"novae_latent\"] for anndata in list_anndata]"
   ]
  },
  {
   "cell_type": "code",
   "execution_count": 26,
   "id": "2d6e892d-9159-42e8-b951-8ea401383e54",
   "metadata": {},
   "outputs": [],
   "source": [
    "dict_latent = dict(zip(list_ids, list_latent))"
   ]
  },
  {
   "cell_type": "code",
   "execution_count": 27,
   "id": "cf263fca-932d-4685-b977-d19cb93a02be",
   "metadata": {},
   "outputs": [
    {
     "data": {
      "text/plain": [
       "{'HK_G_022a_vis': array([[-0.26502377, -0.06550228,  0.34204012, ..., -0.2073409 ,\n",
       "         -0.10982005, -0.03834625],\n",
       "        [-0.36333096,  0.02693802,  0.48565754, ..., -0.23571926,\n",
       "         -0.21825948, -0.12070286],\n",
       "        [-0.16917296, -0.24793334,  0.16761912, ..., -0.28157625,\n",
       "         -0.28407103,  0.05712069],\n",
       "        ...,\n",
       "        [ 0.1000764 , -0.0395981 ,  0.16909938, ..., -0.37550184,\n",
       "         -0.44573182,  0.09734674],\n",
       "        [ 0.14575958, -0.12620066,  0.20363583, ..., -0.43433014,\n",
       "         -0.39884344, -0.00474053],\n",
       "        [-0.30047482, -0.00350424,  0.4448367 , ..., -0.39232376,\n",
       "         -0.29894692, -0.14154384]], dtype=float32),\n",
       " 'HK_G_024a_vis': array([[ 0.33391577, -0.14146209,  0.02248746, ..., -0.31324652,\n",
       "         -0.5771508 ,  0.12117112],\n",
       "        [-0.41974166, -0.09113917,  0.29026487, ..., -0.16136858,\n",
       "         -0.03506573, -0.21532953],\n",
       "        [ 0.20964031, -0.07997781,  0.05296602, ..., -0.37983233,\n",
       "         -0.6108271 ,  0.04950904],\n",
       "        ...,\n",
       "        [-0.07625346,  0.15282667,  0.4007903 , ..., -0.45890507,\n",
       "         -0.17909311, -0.05032121],\n",
       "        [-0.3412484 , -0.088346  ,  0.2289826 , ..., -0.06570341,\n",
       "          0.04104308, -0.32697785],\n",
       "        [ 0.1865275 , -0.03457244,  0.21613523, ..., -0.53206336,\n",
       "         -0.48387825, -0.00096754]], dtype=float32),\n",
       " 'HK_G_030a_vis': array([[-0.21666478, -0.04211352,  0.2945455 , ..., -0.0737237 ,\n",
       "          0.01967663, -0.25600728],\n",
       "        [-0.17790139, -0.07964255,  0.3154348 , ..., -0.41361332,\n",
       "         -0.2633079 , -0.18837857],\n",
       "        [-0.22378474, -0.01656814,  0.17410256, ..., -0.11599413,\n",
       "          0.04383528, -0.35840788],\n",
       "        ...,\n",
       "        [ 0.16418532, -0.05535685,  0.12743498, ..., -0.5233647 ,\n",
       "         -0.44943976,  0.06459674],\n",
       "        [-0.1499366 ,  0.01135856,  0.39669645, ..., -0.39553854,\n",
       "         -0.2905612 , -0.1373467 ],\n",
       "        [-0.05262892, -0.14842923,  0.3730301 , ..., -0.4520439 ,\n",
       "         -0.26835787, -0.18108138]], dtype=float32)}"
      ]
     },
     "execution_count": 27,
     "metadata": {},
     "output_type": "execute_result"
    }
   ],
   "source": [
    "dict_latent"
   ]
  },
  {
   "cell_type": "code",
   "execution_count": 2,
   "id": "c278c235-be4c-4176-b35e-c29c946c9ade",
   "metadata": {},
   "outputs": [
    {
     "name": "stderr",
     "output_type": "stream",
     "text": [
      "Downloading data from `https://omnipathdb.org/queries/enzsub?format=json`\n",
      "Downloading data from `https://omnipathdb.org/queries/interactions?format=json`\n",
      "Downloading data from `https://omnipathdb.org/queries/complexes?format=json`\n",
      "Downloading data from `https://omnipathdb.org/queries/annotations?format=json`\n",
      "Downloading data from `https://omnipathdb.org/queries/intercell?format=json`\n",
      "Downloading data from `https://omnipathdb.org/about?format=text`\n"
     ]
    }
   ],
   "source": [
    "from utils_gbm import retrieve_visium_embedding"
   ]
  },
  {
   "cell_type": "code",
   "execution_count": 3,
   "id": "2b1d2840-27bb-4d05-aad8-15b85c4842b9",
   "metadata": {},
   "outputs": [
    {
     "name": "stdout",
     "output_type": "stream",
     "text": [
      "No sample list provided. Loading all samples.\n",
      "Resolution of the spatial image to load:  hires\n",
      "You can change the resolution by setting the resolution parameter using the resolution argument.\n",
      "Loading Visium data, this can take few minutes...\n"
     ]
    },
    {
     "name": "stderr",
     "output_type": "stream",
     "text": [
      "/home/ec2-user/SageMaker/.conda/envs/gbmhackathon/lib/python3.10/site-packages/anndata/_core/anndata.py:1758: UserWarning: Variable names are not unique. To make them unique, call `.var_names_make_unique`.\n",
      "/home/ec2-user/SageMaker/.conda/envs/gbmhackathon/lib/python3.10/site-packages/anndata/_core/anndata.py:1758: UserWarning: Variable names are not unique. To make them unique, call `.var_names_make_unique`.\n",
      "/home/ec2-user/SageMaker/.conda/envs/gbmhackathon/lib/python3.10/site-packages/anndata/_core/anndata.py:1758: UserWarning: Variable names are not unique. To make them unique, call `.var_names_make_unique`.\n",
      "/home/ec2-user/SageMaker/.conda/envs/gbmhackathon/lib/python3.10/site-packages/anndata/_core/anndata.py:1758: UserWarning: Variable names are not unique. To make them unique, call `.var_names_make_unique`.\n",
      "/home/ec2-user/SageMaker/.conda/envs/gbmhackathon/lib/python3.10/site-packages/anndata/_core/anndata.py:1758: UserWarning: Variable names are not unique. To make them unique, call `.var_names_make_unique`.\n",
      "/home/ec2-user/SageMaker/.conda/envs/gbmhackathon/lib/python3.10/site-packages/anndata/_core/anndata.py:1758: UserWarning: Variable names are not unique. To make them unique, call `.var_names_make_unique`.\n",
      "/home/ec2-user/SageMaker/.conda/envs/gbmhackathon/lib/python3.10/site-packages/anndata/_core/anndata.py:1758: UserWarning: Variable names are not unique. To make them unique, call `.var_names_make_unique`.\n",
      "/home/ec2-user/SageMaker/.conda/envs/gbmhackathon/lib/python3.10/site-packages/anndata/_core/anndata.py:1758: UserWarning: Variable names are not unique. To make them unique, call `.var_names_make_unique`.\n",
      "/home/ec2-user/SageMaker/.conda/envs/gbmhackathon/lib/python3.10/site-packages/anndata/_core/anndata.py:1758: UserWarning: Variable names are not unique. To make them unique, call `.var_names_make_unique`.\n",
      "/home/ec2-user/SageMaker/.conda/envs/gbmhackathon/lib/python3.10/site-packages/anndata/_core/anndata.py:1758: UserWarning: Variable names are not unique. To make them unique, call `.var_names_make_unique`.\n",
      "/home/ec2-user/SageMaker/.conda/envs/gbmhackathon/lib/python3.10/site-packages/anndata/_core/anndata.py:1758: UserWarning: Variable names are not unique. To make them unique, call `.var_names_make_unique`.\n",
      "/home/ec2-user/SageMaker/.conda/envs/gbmhackathon/lib/python3.10/site-packages/anndata/_core/anndata.py:1758: UserWarning: Variable names are not unique. To make them unique, call `.var_names_make_unique`.\n",
      "/home/ec2-user/SageMaker/.conda/envs/gbmhackathon/lib/python3.10/site-packages/anndata/_core/anndata.py:1758: UserWarning: Variable names are not unique. To make them unique, call `.var_names_make_unique`.\n",
      "/home/ec2-user/SageMaker/.conda/envs/gbmhackathon/lib/python3.10/site-packages/anndata/_core/anndata.py:1758: UserWarning: Variable names are not unique. To make them unique, call `.var_names_make_unique`.\n",
      "/home/ec2-user/SageMaker/.conda/envs/gbmhackathon/lib/python3.10/site-packages/anndata/_core/anndata.py:1758: UserWarning: Variable names are not unique. To make them unique, call `.var_names_make_unique`.\n",
      "/home/ec2-user/SageMaker/.conda/envs/gbmhackathon/lib/python3.10/site-packages/anndata/_core/anndata.py:1758: UserWarning: Variable names are not unique. To make them unique, call `.var_names_make_unique`.\n",
      "/home/ec2-user/SageMaker/.conda/envs/gbmhackathon/lib/python3.10/site-packages/anndata/_core/anndata.py:1758: UserWarning: Variable names are not unique. To make them unique, call `.var_names_make_unique`.\n",
      "/home/ec2-user/SageMaker/.conda/envs/gbmhackathon/lib/python3.10/site-packages/anndata/_core/anndata.py:1758: UserWarning: Variable names are not unique. To make them unique, call `.var_names_make_unique`.\n",
      "/home/ec2-user/SageMaker/.conda/envs/gbmhackathon/lib/python3.10/site-packages/anndata/_core/anndata.py:1758: UserWarning: Variable names are not unique. To make them unique, call `.var_names_make_unique`.\n",
      "/home/ec2-user/SageMaker/.conda/envs/gbmhackathon/lib/python3.10/site-packages/anndata/_core/anndata.py:1758: UserWarning: Variable names are not unique. To make them unique, call `.var_names_make_unique`.\n",
      "/home/ec2-user/SageMaker/.conda/envs/gbmhackathon/lib/python3.10/site-packages/anndata/_core/anndata.py:1758: UserWarning: Variable names are not unique. To make them unique, call `.var_names_make_unique`.\n",
      "/home/ec2-user/SageMaker/.conda/envs/gbmhackathon/lib/python3.10/site-packages/anndata/_core/anndata.py:1758: UserWarning: Variable names are not unique. To make them unique, call `.var_names_make_unique`.\n",
      "/home/ec2-user/SageMaker/.conda/envs/gbmhackathon/lib/python3.10/site-packages/anndata/_core/anndata.py:1758: UserWarning: Variable names are not unique. To make them unique, call `.var_names_make_unique`.\n",
      "/home/ec2-user/SageMaker/.conda/envs/gbmhackathon/lib/python3.10/site-packages/anndata/_core/anndata.py:1758: UserWarning: Variable names are not unique. To make them unique, call `.var_names_make_unique`.\n",
      "/home/ec2-user/SageMaker/.conda/envs/gbmhackathon/lib/python3.10/site-packages/anndata/_core/anndata.py:1758: UserWarning: Variable names are not unique. To make them unique, call `.var_names_make_unique`.\n",
      "/home/ec2-user/SageMaker/.conda/envs/gbmhackathon/lib/python3.10/site-packages/anndata/_core/anndata.py:1758: UserWarning: Variable names are not unique. To make them unique, call `.var_names_make_unique`.\n",
      "/home/ec2-user/SageMaker/.conda/envs/gbmhackathon/lib/python3.10/site-packages/anndata/_core/anndata.py:1758: UserWarning: Variable names are not unique. To make them unique, call `.var_names_make_unique`.\n",
      "/home/ec2-user/SageMaker/.conda/envs/gbmhackathon/lib/python3.10/site-packages/anndata/_core/anndata.py:1758: UserWarning: Variable names are not unique. To make them unique, call `.var_names_make_unique`.\n",
      "/home/ec2-user/SageMaker/.conda/envs/gbmhackathon/lib/python3.10/site-packages/anndata/_core/anndata.py:1758: UserWarning: Variable names are not unique. To make them unique, call `.var_names_make_unique`.\n",
      "/home/ec2-user/SageMaker/.conda/envs/gbmhackathon/lib/python3.10/site-packages/anndata/_core/anndata.py:1758: UserWarning: Variable names are not unique. To make them unique, call `.var_names_make_unique`.\n",
      "/home/ec2-user/SageMaker/.conda/envs/gbmhackathon/lib/python3.10/site-packages/anndata/_core/anndata.py:1758: UserWarning: Variable names are not unique. To make them unique, call `.var_names_make_unique`.\n",
      "/home/ec2-user/SageMaker/.conda/envs/gbmhackathon/lib/python3.10/site-packages/anndata/_core/anndata.py:1758: UserWarning: Variable names are not unique. To make them unique, call `.var_names_make_unique`.\n",
      "/home/ec2-user/SageMaker/.conda/envs/gbmhackathon/lib/python3.10/site-packages/anndata/_core/anndata.py:1758: UserWarning: Variable names are not unique. To make them unique, call `.var_names_make_unique`.\n",
      "/home/ec2-user/SageMaker/.conda/envs/gbmhackathon/lib/python3.10/site-packages/anndata/_core/anndata.py:1758: UserWarning: Variable names are not unique. To make them unique, call `.var_names_make_unique`.\n",
      "/home/ec2-user/SageMaker/.conda/envs/gbmhackathon/lib/python3.10/site-packages/anndata/_core/anndata.py:1758: UserWarning: Variable names are not unique. To make them unique, call `.var_names_make_unique`.\n",
      "/home/ec2-user/SageMaker/.conda/envs/gbmhackathon/lib/python3.10/site-packages/anndata/_core/anndata.py:1758: UserWarning: Variable names are not unique. To make them unique, call `.var_names_make_unique`.\n",
      "/home/ec2-user/SageMaker/.conda/envs/gbmhackathon/lib/python3.10/site-packages/anndata/_core/anndata.py:1758: UserWarning: Variable names are not unique. To make them unique, call `.var_names_make_unique`.\n",
      "/home/ec2-user/SageMaker/.conda/envs/gbmhackathon/lib/python3.10/site-packages/anndata/_core/anndata.py:1758: UserWarning: Variable names are not unique. To make them unique, call `.var_names_make_unique`.\n",
      "/home/ec2-user/SageMaker/.conda/envs/gbmhackathon/lib/python3.10/site-packages/anndata/_core/anndata.py:1758: UserWarning: Variable names are not unique. To make them unique, call `.var_names_make_unique`.\n",
      "/home/ec2-user/SageMaker/.conda/envs/gbmhackathon/lib/python3.10/site-packages/anndata/_core/anndata.py:1758: UserWarning: Variable names are not unique. To make them unique, call `.var_names_make_unique`.\n",
      "/home/ec2-user/SageMaker/.conda/envs/gbmhackathon/lib/python3.10/site-packages/anndata/_core/anndata.py:1758: UserWarning: Variable names are not unique. To make them unique, call `.var_names_make_unique`.\n",
      "/home/ec2-user/SageMaker/.conda/envs/gbmhackathon/lib/python3.10/site-packages/anndata/_core/anndata.py:1758: UserWarning: Variable names are not unique. To make them unique, call `.var_names_make_unique`.\n",
      "/home/ec2-user/SageMaker/.conda/envs/gbmhackathon/lib/python3.10/site-packages/anndata/_core/anndata.py:1758: UserWarning: Variable names are not unique. To make them unique, call `.var_names_make_unique`.\n",
      "/home/ec2-user/SageMaker/.conda/envs/gbmhackathon/lib/python3.10/site-packages/anndata/_core/anndata.py:1758: UserWarning: Variable names are not unique. To make them unique, call `.var_names_make_unique`.\n",
      "/home/ec2-user/SageMaker/.conda/envs/gbmhackathon/lib/python3.10/site-packages/anndata/_core/anndata.py:1758: UserWarning: Variable names are not unique. To make them unique, call `.var_names_make_unique`.\n",
      "/home/ec2-user/SageMaker/.conda/envs/gbmhackathon/lib/python3.10/site-packages/anndata/_core/anndata.py:1758: UserWarning: Variable names are not unique. To make them unique, call `.var_names_make_unique`.\n",
      "/home/ec2-user/SageMaker/.conda/envs/gbmhackathon/lib/python3.10/site-packages/anndata/_core/anndata.py:1758: UserWarning: Variable names are not unique. To make them unique, call `.var_names_make_unique`.\n",
      "/home/ec2-user/SageMaker/.conda/envs/gbmhackathon/lib/python3.10/site-packages/anndata/_core/anndata.py:1758: UserWarning: Variable names are not unique. To make them unique, call `.var_names_make_unique`.\n",
      "/home/ec2-user/SageMaker/.conda/envs/gbmhackathon/lib/python3.10/site-packages/anndata/_core/anndata.py:1758: UserWarning: Variable names are not unique. To make them unique, call `.var_names_make_unique`.\n",
      "/home/ec2-user/SageMaker/.conda/envs/gbmhackathon/lib/python3.10/site-packages/anndata/_core/anndata.py:1758: UserWarning: Variable names are not unique. To make them unique, call `.var_names_make_unique`.\n",
      "/home/ec2-user/SageMaker/.conda/envs/gbmhackathon/lib/python3.10/site-packages/anndata/_core/anndata.py:1758: UserWarning: Variable names are not unique. To make them unique, call `.var_names_make_unique`.\n",
      "/home/ec2-user/SageMaker/.conda/envs/gbmhackathon/lib/python3.10/site-packages/anndata/_core/anndata.py:1758: UserWarning: Variable names are not unique. To make them unique, call `.var_names_make_unique`.\n",
      "/home/ec2-user/SageMaker/.conda/envs/gbmhackathon/lib/python3.10/site-packages/anndata/_core/anndata.py:1758: UserWarning: Variable names are not unique. To make them unique, call `.var_names_make_unique`.\n",
      "/home/ec2-user/SageMaker/.conda/envs/gbmhackathon/lib/python3.10/site-packages/anndata/_core/anndata.py:1758: UserWarning: Variable names are not unique. To make them unique, call `.var_names_make_unique`.\n",
      "/home/ec2-user/SageMaker/.conda/envs/gbmhackathon/lib/python3.10/site-packages/anndata/_core/anndata.py:1758: UserWarning: Variable names are not unique. To make them unique, call `.var_names_make_unique`.\n",
      "/home/ec2-user/SageMaker/.conda/envs/gbmhackathon/lib/python3.10/site-packages/anndata/_core/anndata.py:1758: UserWarning: Variable names are not unique. To make them unique, call `.var_names_make_unique`.\n",
      "/home/ec2-user/SageMaker/.conda/envs/gbmhackathon/lib/python3.10/site-packages/anndata/_core/anndata.py:1758: UserWarning: Variable names are not unique. To make them unique, call `.var_names_make_unique`.\n",
      "/home/ec2-user/SageMaker/.conda/envs/gbmhackathon/lib/python3.10/site-packages/anndata/_core/anndata.py:1758: UserWarning: Variable names are not unique. To make them unique, call `.var_names_make_unique`.\n",
      "/home/ec2-user/SageMaker/.conda/envs/gbmhackathon/lib/python3.10/site-packages/anndata/_core/anndata.py:1758: UserWarning: Variable names are not unique. To make them unique, call `.var_names_make_unique`.\n",
      "/home/ec2-user/SageMaker/.conda/envs/gbmhackathon/lib/python3.10/site-packages/anndata/_core/anndata.py:1758: UserWarning: Variable names are not unique. To make them unique, call `.var_names_make_unique`.\n",
      "/home/ec2-user/SageMaker/.conda/envs/gbmhackathon/lib/python3.10/site-packages/anndata/_core/anndata.py:1758: UserWarning: Variable names are not unique. To make them unique, call `.var_names_make_unique`.\n",
      "/home/ec2-user/SageMaker/.conda/envs/gbmhackathon/lib/python3.10/site-packages/anndata/_core/anndata.py:1758: UserWarning: Variable names are not unique. To make them unique, call `.var_names_make_unique`.\n",
      "/home/ec2-user/SageMaker/.conda/envs/gbmhackathon/lib/python3.10/site-packages/anndata/_core/anndata.py:1758: UserWarning: Variable names are not unique. To make them unique, call `.var_names_make_unique`.\n",
      "/home/ec2-user/SageMaker/.conda/envs/gbmhackathon/lib/python3.10/site-packages/anndata/_core/anndata.py:1758: UserWarning: Variable names are not unique. To make them unique, call `.var_names_make_unique`.\n",
      "/home/ec2-user/SageMaker/.conda/envs/gbmhackathon/lib/python3.10/site-packages/anndata/_core/anndata.py:1758: UserWarning: Variable names are not unique. To make them unique, call `.var_names_make_unique`.\n",
      "/home/ec2-user/SageMaker/.conda/envs/gbmhackathon/lib/python3.10/site-packages/anndata/_core/anndata.py:1758: UserWarning: Variable names are not unique. To make them unique, call `.var_names_make_unique`.\n",
      "/home/ec2-user/SageMaker/.conda/envs/gbmhackathon/lib/python3.10/site-packages/anndata/_core/anndata.py:1758: UserWarning: Variable names are not unique. To make them unique, call `.var_names_make_unique`.\n",
      "/home/ec2-user/SageMaker/.conda/envs/gbmhackathon/lib/python3.10/site-packages/anndata/_core/anndata.py:1758: UserWarning: Variable names are not unique. To make them unique, call `.var_names_make_unique`.\n",
      "/home/ec2-user/SageMaker/.conda/envs/gbmhackathon/lib/python3.10/site-packages/anndata/_core/anndata.py:1758: UserWarning: Variable names are not unique. To make them unique, call `.var_names_make_unique`.\n",
      "/home/ec2-user/SageMaker/.conda/envs/gbmhackathon/lib/python3.10/site-packages/anndata/_core/anndata.py:1758: UserWarning: Variable names are not unique. To make them unique, call `.var_names_make_unique`.\n",
      "/home/ec2-user/SageMaker/.conda/envs/gbmhackathon/lib/python3.10/site-packages/anndata/_core/anndata.py:1758: UserWarning: Variable names are not unique. To make them unique, call `.var_names_make_unique`.\n",
      "/home/ec2-user/SageMaker/.conda/envs/gbmhackathon/lib/python3.10/site-packages/anndata/_core/anndata.py:1758: UserWarning: Variable names are not unique. To make them unique, call `.var_names_make_unique`.\n",
      "/home/ec2-user/SageMaker/.conda/envs/gbmhackathon/lib/python3.10/site-packages/anndata/_core/anndata.py:1758: UserWarning: Variable names are not unique. To make them unique, call `.var_names_make_unique`.\n",
      "/home/ec2-user/SageMaker/.conda/envs/gbmhackathon/lib/python3.10/site-packages/anndata/_core/anndata.py:1758: UserWarning: Variable names are not unique. To make them unique, call `.var_names_make_unique`.\n",
      "/home/ec2-user/SageMaker/.conda/envs/gbmhackathon/lib/python3.10/site-packages/anndata/_core/anndata.py:1758: UserWarning: Variable names are not unique. To make them unique, call `.var_names_make_unique`.\n",
      "/home/ec2-user/SageMaker/.conda/envs/gbmhackathon/lib/python3.10/site-packages/anndata/_core/anndata.py:1758: UserWarning: Variable names are not unique. To make them unique, call `.var_names_make_unique`.\n",
      "/home/ec2-user/SageMaker/.conda/envs/gbmhackathon/lib/python3.10/site-packages/anndata/_core/anndata.py:1758: UserWarning: Variable names are not unique. To make them unique, call `.var_names_make_unique`.\n",
      "/home/ec2-user/SageMaker/.conda/envs/gbmhackathon/lib/python3.10/site-packages/anndata/_core/anndata.py:1758: UserWarning: Variable names are not unique. To make them unique, call `.var_names_make_unique`.\n",
      "/home/ec2-user/SageMaker/.conda/envs/gbmhackathon/lib/python3.10/site-packages/anndata/_core/anndata.py:1758: UserWarning: Variable names are not unique. To make them unique, call `.var_names_make_unique`.\n",
      "/home/ec2-user/SageMaker/.conda/envs/gbmhackathon/lib/python3.10/site-packages/anndata/_core/anndata.py:1758: UserWarning: Variable names are not unique. To make them unique, call `.var_names_make_unique`.\n",
      "/home/ec2-user/SageMaker/.conda/envs/gbmhackathon/lib/python3.10/site-packages/anndata/_core/anndata.py:1758: UserWarning: Variable names are not unique. To make them unique, call `.var_names_make_unique`.\n",
      "/home/ec2-user/SageMaker/.conda/envs/gbmhackathon/lib/python3.10/site-packages/anndata/_core/anndata.py:1758: UserWarning: Variable names are not unique. To make them unique, call `.var_names_make_unique`.\n",
      "/home/ec2-user/SageMaker/.conda/envs/gbmhackathon/lib/python3.10/site-packages/anndata/_core/anndata.py:1758: UserWarning: Variable names are not unique. To make them unique, call `.var_names_make_unique`.\n",
      "/home/ec2-user/SageMaker/.conda/envs/gbmhackathon/lib/python3.10/site-packages/anndata/_core/anndata.py:1758: UserWarning: Variable names are not unique. To make them unique, call `.var_names_make_unique`.\n",
      "/home/ec2-user/SageMaker/.conda/envs/gbmhackathon/lib/python3.10/site-packages/anndata/_core/anndata.py:1758: UserWarning: Variable names are not unique. To make them unique, call `.var_names_make_unique`.\n",
      "/home/ec2-user/SageMaker/.conda/envs/gbmhackathon/lib/python3.10/site-packages/anndata/_core/anndata.py:1758: UserWarning: Variable names are not unique. To make them unique, call `.var_names_make_unique`.\n",
      "/home/ec2-user/SageMaker/.conda/envs/gbmhackathon/lib/python3.10/site-packages/anndata/_core/anndata.py:1758: UserWarning: Variable names are not unique. To make them unique, call `.var_names_make_unique`.\n",
      "/home/ec2-user/SageMaker/.conda/envs/gbmhackathon/lib/python3.10/site-packages/anndata/_core/anndata.py:1758: UserWarning: Variable names are not unique. To make them unique, call `.var_names_make_unique`.\n",
      "/home/ec2-user/SageMaker/.conda/envs/gbmhackathon/lib/python3.10/site-packages/anndata/_core/anndata.py:1758: UserWarning: Variable names are not unique. To make them unique, call `.var_names_make_unique`.\n",
      "/home/ec2-user/SageMaker/.conda/envs/gbmhackathon/lib/python3.10/site-packages/anndata/_core/anndata.py:1758: UserWarning: Variable names are not unique. To make them unique, call `.var_names_make_unique`.\n",
      "/home/ec2-user/SageMaker/.conda/envs/gbmhackathon/lib/python3.10/site-packages/anndata/_core/anndata.py:1758: UserWarning: Variable names are not unique. To make them unique, call `.var_names_make_unique`.\n",
      "/home/ec2-user/SageMaker/.conda/envs/gbmhackathon/lib/python3.10/site-packages/anndata/_core/anndata.py:1758: UserWarning: Variable names are not unique. To make them unique, call `.var_names_make_unique`.\n",
      "/home/ec2-user/SageMaker/.conda/envs/gbmhackathon/lib/python3.10/site-packages/anndata/_core/anndata.py:1758: UserWarning: Variable names are not unique. To make them unique, call `.var_names_make_unique`.\n",
      "/home/ec2-user/SageMaker/.conda/envs/gbmhackathon/lib/python3.10/site-packages/anndata/_core/anndata.py:1758: UserWarning: Variable names are not unique. To make them unique, call `.var_names_make_unique`.\n",
      "/home/ec2-user/SageMaker/.conda/envs/gbmhackathon/lib/python3.10/site-packages/anndata/_core/anndata.py:1758: UserWarning: Variable names are not unique. To make them unique, call `.var_names_make_unique`.\n",
      "/home/ec2-user/SageMaker/.conda/envs/gbmhackathon/lib/python3.10/site-packages/anndata/_core/anndata.py:1758: UserWarning: Variable names are not unique. To make them unique, call `.var_names_make_unique`.\n",
      "/home/ec2-user/SageMaker/.conda/envs/gbmhackathon/lib/python3.10/site-packages/anndata/_core/anndata.py:1758: UserWarning: Variable names are not unique. To make them unique, call `.var_names_make_unique`.\n",
      "/home/ec2-user/SageMaker/.conda/envs/gbmhackathon/lib/python3.10/site-packages/anndata/_core/anndata.py:1758: UserWarning: Variable names are not unique. To make them unique, call `.var_names_make_unique`.\n",
      "/home/ec2-user/SageMaker/.conda/envs/gbmhackathon/lib/python3.10/site-packages/anndata/_core/anndata.py:1758: UserWarning: Variable names are not unique. To make them unique, call `.var_names_make_unique`.\n",
      "/home/ec2-user/SageMaker/.conda/envs/gbmhackathon/lib/python3.10/site-packages/anndata/_core/anndata.py:1758: UserWarning: Variable names are not unique. To make them unique, call `.var_names_make_unique`.\n",
      "/home/ec2-user/SageMaker/.conda/envs/gbmhackathon/lib/python3.10/site-packages/anndata/_core/anndata.py:1758: UserWarning: Variable names are not unique. To make them unique, call `.var_names_make_unique`.\n",
      "/home/ec2-user/SageMaker/.conda/envs/gbmhackathon/lib/python3.10/site-packages/anndata/_core/anndata.py:1758: UserWarning: Variable names are not unique. To make them unique, call `.var_names_make_unique`.\n",
      "/home/ec2-user/SageMaker/.conda/envs/gbmhackathon/lib/python3.10/site-packages/anndata/_core/anndata.py:1758: UserWarning: Variable names are not unique. To make them unique, call `.var_names_make_unique`.\n",
      "/home/ec2-user/SageMaker/.conda/envs/gbmhackathon/lib/python3.10/site-packages/anndata/_core/anndata.py:1758: UserWarning: Variable names are not unique. To make them unique, call `.var_names_make_unique`.\n",
      "/home/ec2-user/SageMaker/.conda/envs/gbmhackathon/lib/python3.10/site-packages/anndata/_core/anndata.py:1758: UserWarning: Variable names are not unique. To make them unique, call `.var_names_make_unique`.\n",
      "/home/ec2-user/SageMaker/.conda/envs/gbmhackathon/lib/python3.10/site-packages/anndata/_core/anndata.py:1758: UserWarning: Variable names are not unique. To make them unique, call `.var_names_make_unique`.\n",
      "/home/ec2-user/SageMaker/.conda/envs/gbmhackathon/lib/python3.10/site-packages/anndata/_core/anndata.py:1758: UserWarning: Variable names are not unique. To make them unique, call `.var_names_make_unique`.\n",
      "/home/ec2-user/SageMaker/.conda/envs/gbmhackathon/lib/python3.10/site-packages/anndata/_core/anndata.py:1758: UserWarning: Variable names are not unique. To make them unique, call `.var_names_make_unique`.\n",
      "/home/ec2-user/SageMaker/.conda/envs/gbmhackathon/lib/python3.10/site-packages/anndata/_core/anndata.py:1758: UserWarning: Variable names are not unique. To make them unique, call `.var_names_make_unique`.\n",
      "/home/ec2-user/SageMaker/.conda/envs/gbmhackathon/lib/python3.10/site-packages/anndata/_core/anndata.py:1758: UserWarning: Variable names are not unique. To make them unique, call `.var_names_make_unique`.\n",
      "/home/ec2-user/SageMaker/.conda/envs/gbmhackathon/lib/python3.10/site-packages/anndata/_core/anndata.py:1758: UserWarning: Variable names are not unique. To make them unique, call `.var_names_make_unique`.\n",
      "/home/ec2-user/SageMaker/.conda/envs/gbmhackathon/lib/python3.10/site-packages/anndata/_core/anndata.py:1758: UserWarning: Variable names are not unique. To make them unique, call `.var_names_make_unique`.\n",
      "/home/ec2-user/SageMaker/.conda/envs/gbmhackathon/lib/python3.10/site-packages/anndata/_core/anndata.py:1758: UserWarning: Variable names are not unique. To make them unique, call `.var_names_make_unique`.\n",
      "/home/ec2-user/SageMaker/.conda/envs/gbmhackathon/lib/python3.10/site-packages/anndata/_core/anndata.py:1758: UserWarning: Variable names are not unique. To make them unique, call `.var_names_make_unique`.\n",
      "/home/ec2-user/SageMaker/.conda/envs/gbmhackathon/lib/python3.10/site-packages/anndata/_core/anndata.py:1758: UserWarning: Variable names are not unique. To make them unique, call `.var_names_make_unique`.\n",
      "/home/ec2-user/SageMaker/.conda/envs/gbmhackathon/lib/python3.10/site-packages/anndata/_core/anndata.py:1758: UserWarning: Variable names are not unique. To make them unique, call `.var_names_make_unique`.\n",
      "/home/ec2-user/SageMaker/.conda/envs/gbmhackathon/lib/python3.10/site-packages/anndata/_core/anndata.py:1758: UserWarning: Variable names are not unique. To make them unique, call `.var_names_make_unique`.\n",
      "/home/ec2-user/SageMaker/.conda/envs/gbmhackathon/lib/python3.10/site-packages/anndata/_core/anndata.py:1758: UserWarning: Variable names are not unique. To make them unique, call `.var_names_make_unique`.\n",
      "/home/ec2-user/SageMaker/.conda/envs/gbmhackathon/lib/python3.10/site-packages/anndata/_core/anndata.py:1758: UserWarning: Variable names are not unique. To make them unique, call `.var_names_make_unique`.\n",
      "/home/ec2-user/SageMaker/.conda/envs/gbmhackathon/lib/python3.10/site-packages/anndata/_core/anndata.py:1758: UserWarning: Variable names are not unique. To make them unique, call `.var_names_make_unique`.\n",
      "/home/ec2-user/SageMaker/.conda/envs/gbmhackathon/lib/python3.10/site-packages/anndata/_core/anndata.py:1758: UserWarning: Variable names are not unique. To make them unique, call `.var_names_make_unique`.\n",
      "/home/ec2-user/SageMaker/.conda/envs/gbmhackathon/lib/python3.10/site-packages/anndata/_core/anndata.py:1758: UserWarning: Variable names are not unique. To make them unique, call `.var_names_make_unique`.\n",
      "/home/ec2-user/SageMaker/.conda/envs/gbmhackathon/lib/python3.10/site-packages/anndata/_core/anndata.py:1758: UserWarning: Variable names are not unique. To make them unique, call `.var_names_make_unique`.\n",
      "/home/ec2-user/SageMaker/.conda/envs/gbmhackathon/lib/python3.10/site-packages/anndata/_core/anndata.py:1758: UserWarning: Variable names are not unique. To make them unique, call `.var_names_make_unique`.\n",
      "/home/ec2-user/SageMaker/.conda/envs/gbmhackathon/lib/python3.10/site-packages/anndata/_core/anndata.py:1758: UserWarning: Variable names are not unique. To make them unique, call `.var_names_make_unique`.\n",
      "/home/ec2-user/SageMaker/.conda/envs/gbmhackathon/lib/python3.10/site-packages/anndata/_core/anndata.py:1758: UserWarning: Variable names are not unique. To make them unique, call `.var_names_make_unique`.\n",
      "/home/ec2-user/SageMaker/.conda/envs/gbmhackathon/lib/python3.10/site-packages/anndata/_core/anndata.py:1758: UserWarning: Variable names are not unique. To make them unique, call `.var_names_make_unique`.\n",
      "/home/ec2-user/SageMaker/.conda/envs/gbmhackathon/lib/python3.10/site-packages/anndata/_core/anndata.py:1758: UserWarning: Variable names are not unique. To make them unique, call `.var_names_make_unique`.\n",
      "/home/ec2-user/SageMaker/.conda/envs/gbmhackathon/lib/python3.10/site-packages/anndata/_core/anndata.py:1758: UserWarning: Variable names are not unique. To make them unique, call `.var_names_make_unique`.\n",
      "/home/ec2-user/SageMaker/.conda/envs/gbmhackathon/lib/python3.10/site-packages/anndata/_core/anndata.py:1758: UserWarning: Variable names are not unique. To make them unique, call `.var_names_make_unique`.\n",
      "/home/ec2-user/SageMaker/.conda/envs/gbmhackathon/lib/python3.10/site-packages/anndata/_core/anndata.py:1758: UserWarning: Variable names are not unique. To make them unique, call `.var_names_make_unique`.\n",
      "/home/ec2-user/SageMaker/.conda/envs/gbmhackathon/lib/python3.10/site-packages/anndata/_core/anndata.py:1758: UserWarning: Variable names are not unique. To make them unique, call `.var_names_make_unique`.\n",
      "/home/ec2-user/SageMaker/.conda/envs/gbmhackathon/lib/python3.10/site-packages/anndata/_core/anndata.py:1758: UserWarning: Variable names are not unique. To make them unique, call `.var_names_make_unique`.\n",
      "/home/ec2-user/SageMaker/.conda/envs/gbmhackathon/lib/python3.10/site-packages/anndata/_core/anndata.py:1758: UserWarning: Variable names are not unique. To make them unique, call `.var_names_make_unique`.\n",
      "/home/ec2-user/SageMaker/.conda/envs/gbmhackathon/lib/python3.10/site-packages/anndata/_core/anndata.py:1758: UserWarning: Variable names are not unique. To make them unique, call `.var_names_make_unique`.\n",
      "/home/ec2-user/SageMaker/.conda/envs/gbmhackathon/lib/python3.10/site-packages/anndata/_core/anndata.py:1758: UserWarning: Variable names are not unique. To make them unique, call `.var_names_make_unique`.\n",
      "/home/ec2-user/SageMaker/.conda/envs/gbmhackathon/lib/python3.10/site-packages/anndata/_core/anndata.py:1758: UserWarning: Variable names are not unique. To make them unique, call `.var_names_make_unique`.\n",
      "/home/ec2-user/SageMaker/.conda/envs/gbmhackathon/lib/python3.10/site-packages/anndata/_core/anndata.py:1758: UserWarning: Variable names are not unique. To make them unique, call `.var_names_make_unique`.\n",
      "/home/ec2-user/SageMaker/.conda/envs/gbmhackathon/lib/python3.10/site-packages/anndata/_core/anndata.py:1758: UserWarning: Variable names are not unique. To make them unique, call `.var_names_make_unique`.\n",
      "/home/ec2-user/SageMaker/.conda/envs/gbmhackathon/lib/python3.10/site-packages/anndata/_core/anndata.py:1758: UserWarning: Variable names are not unique. To make them unique, call `.var_names_make_unique`.\n",
      "/home/ec2-user/SageMaker/.conda/envs/gbmhackathon/lib/python3.10/site-packages/anndata/_core/anndata.py:1758: UserWarning: Variable names are not unique. To make them unique, call `.var_names_make_unique`.\n",
      "/home/ec2-user/SageMaker/.conda/envs/gbmhackathon/lib/python3.10/site-packages/anndata/_core/anndata.py:1758: UserWarning: Variable names are not unique. To make them unique, call `.var_names_make_unique`.\n",
      "/home/ec2-user/SageMaker/.conda/envs/gbmhackathon/lib/python3.10/site-packages/anndata/_core/anndata.py:1758: UserWarning: Variable names are not unique. To make them unique, call `.var_names_make_unique`.\n",
      "/home/ec2-user/SageMaker/.conda/envs/gbmhackathon/lib/python3.10/site-packages/anndata/_core/anndata.py:1758: UserWarning: Variable names are not unique. To make them unique, call `.var_names_make_unique`.\n",
      "/home/ec2-user/SageMaker/.conda/envs/gbmhackathon/lib/python3.10/site-packages/anndata/_core/anndata.py:1758: UserWarning: Variable names are not unique. To make them unique, call `.var_names_make_unique`.\n",
      "/home/ec2-user/SageMaker/.conda/envs/gbmhackathon/lib/python3.10/site-packages/anndata/_core/anndata.py:1758: UserWarning: Variable names are not unique. To make them unique, call `.var_names_make_unique`.\n",
      "/home/ec2-user/SageMaker/.conda/envs/gbmhackathon/lib/python3.10/site-packages/anndata/_core/anndata.py:1758: UserWarning: Variable names are not unique. To make them unique, call `.var_names_make_unique`.\n",
      "/home/ec2-user/SageMaker/.conda/envs/gbmhackathon/lib/python3.10/site-packages/anndata/_core/anndata.py:1758: UserWarning: Variable names are not unique. To make them unique, call `.var_names_make_unique`.\n",
      "/home/ec2-user/SageMaker/.conda/envs/gbmhackathon/lib/python3.10/site-packages/anndata/_core/anndata.py:1758: UserWarning: Variable names are not unique. To make them unique, call `.var_names_make_unique`.\n",
      "/home/ec2-user/SageMaker/.conda/envs/gbmhackathon/lib/python3.10/site-packages/anndata/_core/anndata.py:1758: UserWarning: Variable names are not unique. To make them unique, call `.var_names_make_unique`.\n",
      "/home/ec2-user/SageMaker/.conda/envs/gbmhackathon/lib/python3.10/site-packages/anndata/_core/anndata.py:1758: UserWarning: Variable names are not unique. To make them unique, call `.var_names_make_unique`.\n",
      "/home/ec2-user/SageMaker/.conda/envs/gbmhackathon/lib/python3.10/site-packages/anndata/_core/anndata.py:1758: UserWarning: Variable names are not unique. To make them unique, call `.var_names_make_unique`.\n",
      "/home/ec2-user/SageMaker/.conda/envs/gbmhackathon/lib/python3.10/site-packages/anndata/_core/anndata.py:1758: UserWarning: Variable names are not unique. To make them unique, call `.var_names_make_unique`.\n",
      "/home/ec2-user/SageMaker/.conda/envs/gbmhackathon/lib/python3.10/site-packages/anndata/_core/anndata.py:1758: UserWarning: Variable names are not unique. To make them unique, call `.var_names_make_unique`.\n",
      "/home/ec2-user/SageMaker/.conda/envs/gbmhackathon/lib/python3.10/site-packages/anndata/_core/anndata.py:1758: UserWarning: Variable names are not unique. To make them unique, call `.var_names_make_unique`.\n",
      "/home/ec2-user/SageMaker/.conda/envs/gbmhackathon/lib/python3.10/site-packages/anndata/_core/anndata.py:1758: UserWarning: Variable names are not unique. To make them unique, call `.var_names_make_unique`.\n",
      "/home/ec2-user/SageMaker/.conda/envs/gbmhackathon/lib/python3.10/site-packages/anndata/_core/anndata.py:1758: UserWarning: Variable names are not unique. To make them unique, call `.var_names_make_unique`.\n",
      "/home/ec2-user/SageMaker/.conda/envs/gbmhackathon/lib/python3.10/site-packages/anndata/_core/anndata.py:1758: UserWarning: Variable names are not unique. To make them unique, call `.var_names_make_unique`.\n",
      "/home/ec2-user/SageMaker/.conda/envs/gbmhackathon/lib/python3.10/site-packages/anndata/_core/anndata.py:1758: UserWarning: Variable names are not unique. To make them unique, call `.var_names_make_unique`.\n",
      "/home/ec2-user/SageMaker/.conda/envs/gbmhackathon/lib/python3.10/site-packages/anndata/_core/anndata.py:1758: UserWarning: Variable names are not unique. To make them unique, call `.var_names_make_unique`.\n",
      "/home/ec2-user/SageMaker/.conda/envs/gbmhackathon/lib/python3.10/site-packages/anndata/_core/anndata.py:1758: UserWarning: Variable names are not unique. To make them unique, call `.var_names_make_unique`.\n",
      "/home/ec2-user/SageMaker/.conda/envs/gbmhackathon/lib/python3.10/site-packages/anndata/_core/anndata.py:1758: UserWarning: Variable names are not unique. To make them unique, call `.var_names_make_unique`.\n",
      "/home/ec2-user/SageMaker/.conda/envs/gbmhackathon/lib/python3.10/site-packages/anndata/_core/anndata.py:1758: UserWarning: Variable names are not unique. To make them unique, call `.var_names_make_unique`.\n",
      "/home/ec2-user/SageMaker/.conda/envs/gbmhackathon/lib/python3.10/site-packages/anndata/_core/anndata.py:1758: UserWarning: Variable names are not unique. To make them unique, call `.var_names_make_unique`.\n",
      "/home/ec2-user/SageMaker/.conda/envs/gbmhackathon/lib/python3.10/site-packages/anndata/_core/anndata.py:1758: UserWarning: Variable names are not unique. To make them unique, call `.var_names_make_unique`.\n",
      "/home/ec2-user/SageMaker/.conda/envs/gbmhackathon/lib/python3.10/site-packages/anndata/_core/anndata.py:1758: UserWarning: Variable names are not unique. To make them unique, call `.var_names_make_unique`.\n",
      "/home/ec2-user/SageMaker/.conda/envs/gbmhackathon/lib/python3.10/site-packages/anndata/_core/anndata.py:1758: UserWarning: Variable names are not unique. To make them unique, call `.var_names_make_unique`.\n",
      "/home/ec2-user/SageMaker/.conda/envs/gbmhackathon/lib/python3.10/site-packages/anndata/_core/anndata.py:1758: UserWarning: Variable names are not unique. To make them unique, call `.var_names_make_unique`.\n",
      "/home/ec2-user/SageMaker/.conda/envs/gbmhackathon/lib/python3.10/site-packages/anndata/_core/anndata.py:1758: UserWarning: Variable names are not unique. To make them unique, call `.var_names_make_unique`.\n",
      "/home/ec2-user/SageMaker/.conda/envs/gbmhackathon/lib/python3.10/site-packages/anndata/_core/anndata.py:1758: UserWarning: Variable names are not unique. To make them unique, call `.var_names_make_unique`.\n",
      "/home/ec2-user/SageMaker/.conda/envs/gbmhackathon/lib/python3.10/site-packages/anndata/_core/anndata.py:1758: UserWarning: Variable names are not unique. To make them unique, call `.var_names_make_unique`.\n",
      "/home/ec2-user/SageMaker/.conda/envs/gbmhackathon/lib/python3.10/site-packages/anndata/_core/anndata.py:1758: UserWarning: Variable names are not unique. To make them unique, call `.var_names_make_unique`.\n",
      "\u001b[36;20m[INFO] (novae.utils._build)\u001b[0m Computing graph on 1,462 cells (coord_type=grid, delaunay=False, radius=[0.0, 300.0], n_neighs=6)\n",
      "\u001b[36;20m[INFO] (novae.utils._build)\u001b[0m Computing graph on 4,467 cells (coord_type=grid, delaunay=False, radius=[0.0, 300.0], n_neighs=6)\n",
      "\u001b[36;20m[INFO] (novae.utils._build)\u001b[0m Computing graph on 2,876 cells (coord_type=grid, delaunay=False, radius=[0.0, 300.0], n_neighs=6)\n",
      "\u001b[36;20m[INFO] (novae.utils._build)\u001b[0m Computing graph on 2,237 cells (coord_type=grid, delaunay=False, radius=[0.0, 300.0], n_neighs=6)\n",
      "\u001b[36;20m[INFO] (novae.utils._build)\u001b[0m Computing graph on 3,589 cells (coord_type=grid, delaunay=False, radius=[0.0, 300.0], n_neighs=6)\n",
      "\u001b[36;20m[INFO] (novae.utils._build)\u001b[0m Computing graph on 4,832 cells (coord_type=grid, delaunay=False, radius=[0.0, 300.0], n_neighs=6)\n",
      "\u001b[36;20m[INFO] (novae.utils._build)\u001b[0m Computing graph on 4,773 cells (coord_type=grid, delaunay=False, radius=[0.0, 300.0], n_neighs=6)\n",
      "\u001b[36;20m[INFO] (novae.utils._build)\u001b[0m Computing graph on 4,672 cells (coord_type=grid, delaunay=False, radius=[0.0, 300.0], n_neighs=6)\n",
      "\u001b[36;20m[INFO] (novae.utils._build)\u001b[0m Computing graph on 4,583 cells (coord_type=grid, delaunay=False, radius=[0.0, 300.0], n_neighs=6)\n",
      "\u001b[36;20m[INFO] (novae.utils._build)\u001b[0m Computing graph on 2,771 cells (coord_type=grid, delaunay=False, radius=[0.0, 300.0], n_neighs=6)\n",
      "\u001b[36;20m[INFO] (novae.utils._build)\u001b[0m Computing graph on 3,166 cells (coord_type=grid, delaunay=False, radius=[0.0, 300.0], n_neighs=6)\n",
      "\u001b[36;20m[INFO] (novae.utils._build)\u001b[0m Computing graph on 3,209 cells (coord_type=grid, delaunay=False, radius=[0.0, 300.0], n_neighs=6)\n",
      "\u001b[36;20m[INFO] (novae.utils._build)\u001b[0m Computing graph on 3,500 cells (coord_type=grid, delaunay=False, radius=[0.0, 300.0], n_neighs=6)\n",
      "\u001b[36;20m[INFO] (novae.utils._build)\u001b[0m Computing graph on 1,472 cells (coord_type=grid, delaunay=False, radius=[0.0, 300.0], n_neighs=6)\n",
      "\u001b[36;20m[INFO] (novae.utils._build)\u001b[0m Computing graph on 2,464 cells (coord_type=grid, delaunay=False, radius=[0.0, 300.0], n_neighs=6)\n",
      "\u001b[36;20m[INFO] (novae.utils._build)\u001b[0m Computing graph on 3,233 cells (coord_type=grid, delaunay=False, radius=[0.0, 300.0], n_neighs=6)\n",
      "\u001b[36;20m[INFO] (novae.utils._build)\u001b[0m Computing graph on 4,401 cells (coord_type=grid, delaunay=False, radius=[0.0, 300.0], n_neighs=6)\n",
      "\u001b[36;20m[INFO] (novae.utils._build)\u001b[0m Computing graph on 3,604 cells (coord_type=grid, delaunay=False, radius=[0.0, 300.0], n_neighs=6)\n"
     ]
    },
    {
     "name": "stdout",
     "output_type": "stream",
     "text": [
      "Considered list id : \n",
      " ['HK_G_001a_vis', 'HK_G_002a_vis', 'HK_G_003a_vis', 'HK_G_004a_vis', 'HK_G_005a_vis', 'HK_G_006a_vis', 'HK_G_007a_vis', 'HK_G_008a_vis', 'HK_G_009a_vis', 'HK_G_010a_vis', 'HK_G_011a_vis', 'HK_G_012a_vis', 'HK_G_013a_vis', 'HK_G_014a_vis', 'HK_G_015a_vis', 'HK_G_016a_vis', 'HK_G_017b_vis', 'HK_G_018a_vis', 'HK_G_019a_vis', 'HK_G_020a_vis', 'HK_G_021a_vis', 'HK_G_022a_vis', 'HK_G_023a_vis', 'HK_G_024a_vis', 'HK_G_025a_vis', 'HK_G_026a_vis', 'HK_G_027a_vis', 'HK_G_028a_vis', 'HK_G_029b_vis', 'HK_G_030a_vis', 'HK_G_031a_vis', 'HK_G_032a_vis', 'HK_G_033a_vis', 'HK_G_034a_vbu', 'HK_G_035a_vis', 'HK_G_036b_vis', 'HK_G_037a_vis', 'HK_G_039a_vis', 'HK_G_040a_vbu', 'HK_G_041a_vis', 'HK_G_042a_vis', 'HK_G_043a_vis', 'HK_G_044b_vis', 'HK_G_045a_vis', 'HK_G_046a_vis', 'HK_G_047a_vis', 'HK_G_048a_vis', 'HK_G_049a_vis', 'HK_G_050a_vis', 'HK_G_051a_vis', 'HK_G_052a_vis', 'HK_G_053a_vis', 'HK_G_054a_vis', 'HK_G_055a_vis', 'HK_G_056a_vis', 'HK_G_057a_vis', 'HK_G_058a_vis', 'HK_G_059b_vis', 'HK_G_060a_vis', 'HK_G_062a_vis', 'HK_G_063a_vis', 'HK_G_066a_vis', 'HK_G_067a_vis', 'HK_G_070a_vis', 'HK_G_071a_vis', 'HK_G_072a_vis', 'HK_G_080a_vis', 'HK_G_082b_vis', 'HK_G_083a_vis', 'HK_G_084b_vis', 'HK_G_087a_vis', 'HK_G_090b_vis', 'HK_G_091a_vis', 'HK_G_092b_vis', 'HK_G_093a_vis', 'HK_G_095a_vb2', 'HK_G_096b_vbu', 'HK_G_098b_vis', 'HK_G_101a_vis', 'HK_G_104a_vis', 'HK_G_106a_vis', 'HK_G_107a_vis', 'HK_G_111b_vis', 'HK_G_112a_vis', 'HK_G_114a_vis', 'HK_G_115b_vis']\n",
      "___ Computing Spatial Neighbors ___\n"
     ]
    },
    {
     "name": "stderr",
     "output_type": "stream",
     "text": [
      "\u001b[36;20m[INFO] (novae.utils._build)\u001b[0m Computing graph on 2,712 cells (coord_type=grid, delaunay=False, radius=[0.0, 300.0], n_neighs=6)\n",
      "\u001b[36;20m[INFO] (novae.utils._build)\u001b[0m Computing graph on 3,846 cells (coord_type=grid, delaunay=False, radius=[0.0, 300.0], n_neighs=6)\n",
      "\u001b[36;20m[INFO] (novae.utils._build)\u001b[0m Computing graph on 4,095 cells (coord_type=grid, delaunay=False, radius=[0.0, 300.0], n_neighs=6)\n",
      "\u001b[36;20m[INFO] (novae.utils._build)\u001b[0m Computing graph on 2,236 cells (coord_type=grid, delaunay=False, radius=[0.0, 300.0], n_neighs=6)\n",
      "\u001b[36;20m[INFO] (novae.utils._build)\u001b[0m Computing graph on 4,663 cells (coord_type=grid, delaunay=False, radius=[0.0, 300.0], n_neighs=6)\n",
      "\u001b[36;20m[INFO] (novae.utils._build)\u001b[0m Computing graph on 4,576 cells (coord_type=grid, delaunay=False, radius=[0.0, 300.0], n_neighs=6)\n",
      "\u001b[36;20m[INFO] (novae.utils._build)\u001b[0m Computing graph on 4,240 cells (coord_type=grid, delaunay=False, radius=[0.0, 300.0], n_neighs=6)\n",
      "\u001b[36;20m[INFO] (novae.utils._build)\u001b[0m Computing graph on 4,480 cells (coord_type=grid, delaunay=False, radius=[0.0, 300.0], n_neighs=6)\n",
      "\u001b[36;20m[INFO] (novae.utils._build)\u001b[0m Computing graph on 4,829 cells (coord_type=grid, delaunay=False, radius=[0.0, 300.0], n_neighs=6)\n",
      "\u001b[36;20m[INFO] (novae.utils._build)\u001b[0m Computing graph on 2,900 cells (coord_type=grid, delaunay=False, radius=[0.0, 300.0], n_neighs=6)\n",
      "\u001b[36;20m[INFO] (novae.utils._build)\u001b[0m Computing graph on 4,502 cells (coord_type=grid, delaunay=False, radius=[0.0, 300.0], n_neighs=6)\n",
      "\u001b[36;20m[INFO] (novae.utils._build)\u001b[0m Computing graph on 4,522 cells (coord_type=grid, delaunay=False, radius=[0.0, 300.0], n_neighs=6)\n",
      "\u001b[36;20m[INFO] (novae.utils._build)\u001b[0m Computing graph on 2,391 cells (coord_type=grid, delaunay=False, radius=[0.0, 300.0], n_neighs=6)\n",
      "\u001b[36;20m[INFO] (novae.utils._build)\u001b[0m Computing graph on 3,856 cells (coord_type=grid, delaunay=False, radius=[0.0, 300.0], n_neighs=6)\n",
      "\u001b[36;20m[INFO] (novae.utils._build)\u001b[0m Computing graph on 4,672 cells (coord_type=grid, delaunay=False, radius=[0.0, 300.0], n_neighs=6)\n",
      "\u001b[36;20m[INFO] (novae.utils._build)\u001b[0m Computing graph on 4,175 cells (coord_type=grid, delaunay=False, radius=[0.0, 300.0], n_neighs=6)\n",
      "\u001b[36;20m[INFO] (novae.utils._build)\u001b[0m Computing graph on 4,692 cells (coord_type=grid, delaunay=False, radius=[0.0, 300.0], n_neighs=6)\n",
      "\u001b[36;20m[INFO] (novae.utils._build)\u001b[0m Computing graph on 3,808 cells (coord_type=grid, delaunay=False, radius=[0.0, 300.0], n_neighs=6)\n",
      "\u001b[36;20m[INFO] (novae.utils._build)\u001b[0m Computing graph on 4,513 cells (coord_type=grid, delaunay=False, radius=[0.0, 300.0], n_neighs=6)\n",
      "\u001b[36;20m[INFO] (novae.utils._build)\u001b[0m Computing graph on 2,732 cells (coord_type=grid, delaunay=False, radius=[0.0, 300.0], n_neighs=6)\n",
      "\u001b[36;20m[INFO] (novae.utils._build)\u001b[0m Computing graph on 4,656 cells (coord_type=grid, delaunay=False, radius=[0.0, 300.0], n_neighs=6)\n",
      "\u001b[36;20m[INFO] (novae.utils._build)\u001b[0m Computing graph on 2,174 cells (coord_type=grid, delaunay=False, radius=[0.0, 300.0], n_neighs=6)\n",
      "\u001b[36;20m[INFO] (novae.utils._build)\u001b[0m Computing graph on 3,708 cells (coord_type=grid, delaunay=False, radius=[0.0, 300.0], n_neighs=6)\n",
      "\u001b[36;20m[INFO] (novae.utils._build)\u001b[0m Computing graph on 4,395 cells (coord_type=grid, delaunay=False, radius=[0.0, 300.0], n_neighs=6)\n",
      "\u001b[36;20m[INFO] (novae.utils._build)\u001b[0m Computing graph on 4,866 cells (coord_type=grid, delaunay=False, radius=[0.0, 300.0], n_neighs=6)\n",
      "\u001b[36;20m[INFO] (novae.utils._build)\u001b[0m Computing graph on 4,783 cells (coord_type=grid, delaunay=False, radius=[0.0, 300.0], n_neighs=6)\n",
      "\u001b[36;20m[INFO] (novae.utils._build)\u001b[0m Computing graph on 4,362 cells (coord_type=grid, delaunay=False, radius=[0.0, 300.0], n_neighs=6)\n",
      "\u001b[36;20m[INFO] (novae.utils._build)\u001b[0m Computing graph on 4,474 cells (coord_type=grid, delaunay=False, radius=[0.0, 300.0], n_neighs=6)\n",
      "\u001b[36;20m[INFO] (novae.utils._build)\u001b[0m Computing graph on 4,247 cells (coord_type=grid, delaunay=False, radius=[0.0, 300.0], n_neighs=6)\n",
      "\u001b[36;20m[INFO] (novae.utils._build)\u001b[0m Computing graph on 2,529 cells (coord_type=grid, delaunay=False, radius=[0.0, 300.0], n_neighs=6)\n",
      "\u001b[36;20m[INFO] (novae.utils._build)\u001b[0m Computing graph on 3,295 cells (coord_type=grid, delaunay=False, radius=[0.0, 300.0], n_neighs=6)\n",
      "\u001b[36;20m[INFO] (novae.utils._build)\u001b[0m Computing graph on 3,446 cells (coord_type=grid, delaunay=False, radius=[0.0, 300.0], n_neighs=6)\n",
      "\u001b[36;20m[INFO] (novae.utils._build)\u001b[0m Computing graph on 4,939 cells (coord_type=grid, delaunay=False, radius=[0.0, 300.0], n_neighs=6)\n",
      "\u001b[36;20m[INFO] (novae.utils._build)\u001b[0m Computing graph on 3,750 cells (coord_type=grid, delaunay=False, radius=[0.0, 300.0], n_neighs=6)\n",
      "\u001b[36;20m[INFO] (novae.utils._build)\u001b[0m Computing graph on 4,355 cells (coord_type=grid, delaunay=False, radius=[0.0, 300.0], n_neighs=6)\n",
      "\u001b[36;20m[INFO] (novae.utils._build)\u001b[0m Computing graph on 4,880 cells (coord_type=grid, delaunay=False, radius=[0.0, 300.0], n_neighs=6)\n",
      "\u001b[36;20m[INFO] (novae.utils._build)\u001b[0m Computing graph on 1,254 cells (coord_type=grid, delaunay=False, radius=[0.0, 300.0], n_neighs=6)\n",
      "\u001b[36;20m[INFO] (novae.utils._build)\u001b[0m Computing graph on 2,988 cells (coord_type=grid, delaunay=False, radius=[0.0, 300.0], n_neighs=6)\n",
      "\u001b[36;20m[INFO] (novae.utils._build)\u001b[0m Computing graph on 4,256 cells (coord_type=grid, delaunay=False, radius=[0.0, 300.0], n_neighs=6)\n",
      "\u001b[36;20m[INFO] (novae.utils._build)\u001b[0m Computing graph on 4,730 cells (coord_type=grid, delaunay=False, radius=[0.0, 300.0], n_neighs=6)\n",
      "\u001b[36;20m[INFO] (novae.utils._build)\u001b[0m Computing graph on 4,349 cells (coord_type=grid, delaunay=False, radius=[0.0, 300.0], n_neighs=6)\n",
      "\u001b[36;20m[INFO] (novae.utils._build)\u001b[0m Computing graph on 3,315 cells (coord_type=grid, delaunay=False, radius=[0.0, 300.0], n_neighs=6)\n",
      "\u001b[36;20m[INFO] (novae.utils._build)\u001b[0m Computing graph on 4,520 cells (coord_type=grid, delaunay=False, radius=[0.0, 300.0], n_neighs=6)\n",
      "\u001b[36;20m[INFO] (novae.utils._build)\u001b[0m Computing graph on 4,662 cells (coord_type=grid, delaunay=False, radius=[0.0, 300.0], n_neighs=6)\n",
      "\u001b[36;20m[INFO] (novae.utils._build)\u001b[0m Computing graph on 3,554 cells (coord_type=grid, delaunay=False, radius=[0.0, 300.0], n_neighs=6)\n",
      "\u001b[36;20m[INFO] (novae.utils._build)\u001b[0m Computing graph on 3,923 cells (coord_type=grid, delaunay=False, radius=[0.0, 300.0], n_neighs=6)\n",
      "\u001b[36;20m[INFO] (novae.utils._build)\u001b[0m Computing graph on 2,252 cells (coord_type=grid, delaunay=False, radius=[0.0, 300.0], n_neighs=6)\n",
      "\u001b[36;20m[INFO] (novae.utils._build)\u001b[0m Computing graph on 4,564 cells (coord_type=grid, delaunay=False, radius=[0.0, 300.0], n_neighs=6)\n",
      "\u001b[36;20m[INFO] (novae.utils._build)\u001b[0m Computing graph on 4,860 cells (coord_type=grid, delaunay=False, radius=[0.0, 300.0], n_neighs=6)\n",
      "\u001b[36;20m[INFO] (novae.utils._build)\u001b[0m Computing graph on 2,702 cells (coord_type=grid, delaunay=False, radius=[0.0, 300.0], n_neighs=6)\n",
      "\u001b[36;20m[INFO] (novae.utils._build)\u001b[0m Computing graph on 3,593 cells (coord_type=grid, delaunay=False, radius=[0.0, 300.0], n_neighs=6)\n",
      "\u001b[36;20m[INFO] (novae.utils._build)\u001b[0m Computing graph on 2,961 cells (coord_type=grid, delaunay=False, radius=[0.0, 300.0], n_neighs=6)\n",
      "\u001b[36;20m[INFO] (novae.utils._build)\u001b[0m Computing graph on 4,760 cells (coord_type=grid, delaunay=False, radius=[0.0, 300.0], n_neighs=6)\n",
      "\u001b[36;20m[INFO] (novae.utils._build)\u001b[0m Computing graph on 3,643 cells (coord_type=grid, delaunay=False, radius=[0.0, 300.0], n_neighs=6)\n",
      "\u001b[36;20m[INFO] (novae.utils._build)\u001b[0m Computing graph on 1,692 cells (coord_type=grid, delaunay=False, radius=[0.0, 300.0], n_neighs=6)\n",
      "\u001b[36;20m[INFO] (novae.utils._build)\u001b[0m Computing graph on 4,524 cells (coord_type=grid, delaunay=False, radius=[0.0, 300.0], n_neighs=6)\n",
      "\u001b[36;20m[INFO] (novae.utils._build)\u001b[0m Computing graph on 1,388 cells (coord_type=grid, delaunay=False, radius=[0.0, 300.0], n_neighs=6)\n",
      "\u001b[36;20m[INFO] (novae.utils._build)\u001b[0m Computing graph on 3,152 cells (coord_type=grid, delaunay=False, radius=[0.0, 300.0], n_neighs=6)\n",
      "\u001b[36;20m[INFO] (novae.utils._build)\u001b[0m Computing graph on 4,350 cells (coord_type=grid, delaunay=False, radius=[0.0, 300.0], n_neighs=6)\n",
      "\u001b[36;20m[INFO] (novae.utils._build)\u001b[0m Computing graph on 3,653 cells (coord_type=grid, delaunay=False, radius=[0.0, 300.0], n_neighs=6)\n",
      "\u001b[36;20m[INFO] (novae.utils._build)\u001b[0m Computing graph on 4,819 cells (coord_type=grid, delaunay=False, radius=[0.0, 300.0], n_neighs=6)\n",
      "\u001b[36;20m[INFO] (novae.utils._build)\u001b[0m Computing graph on 4,546 cells (coord_type=grid, delaunay=False, radius=[0.0, 300.0], n_neighs=6)\n",
      "\u001b[36;20m[INFO] (novae.utils._build)\u001b[0m Computing graph on 4,211 cells (coord_type=grid, delaunay=False, radius=[0.0, 300.0], n_neighs=6)\n",
      "\u001b[36;20m[INFO] (novae.utils._build)\u001b[0m Computing graph on 4,177 cells (coord_type=grid, delaunay=False, radius=[0.0, 300.0], n_neighs=6)\n",
      "\u001b[36;20m[INFO] (novae.utils._build)\u001b[0m Computing graph on 4,796 cells (coord_type=grid, delaunay=False, radius=[0.0, 300.0], n_neighs=6)\n",
      "\u001b[36;20m[INFO] (novae.utils._build)\u001b[0m Computing graph on 4,578 cells (coord_type=grid, delaunay=False, radius=[0.0, 300.0], n_neighs=6)\n",
      "\u001b[36;20m[INFO] (novae.utils._build)\u001b[0m Computing graph on 4,170 cells (coord_type=grid, delaunay=False, radius=[0.0, 300.0], n_neighs=6)\n",
      "\u001b[36;20m[INFO] (novae.utils._build)\u001b[0m Computing graph on 2,570 cells (coord_type=grid, delaunay=False, radius=[0.0, 300.0], n_neighs=6)\n"
     ]
    },
    {
     "name": "stdout",
     "output_type": "stream",
     "text": [
      "DONE\n",
      "___ Importation of the pretrained model ___\n"
     ]
    },
    {
     "name": "stderr",
     "output_type": "stream",
     "text": [
      "INFO: Trainer will use only 1 of 8 GPUs because it is running inside an interactive / notebook environment. You may try to set `Trainer(devices=8)` but please note that multi-GPU inside interactive / notebook environments is considered experimental and unstable. Your mileage may vary.\n",
      "Trainer will use only 1 of 8 GPUs because it is running inside an interactive / notebook environment. You may try to set `Trainer(devices=8)` but please note that multi-GPU inside interactive / notebook environments is considered experimental and unstable. Your mileage may vary.\n"
     ]
    },
    {
     "name": "stdout",
     "output_type": "stream",
     "text": [
      "Novae model\n",
      "   ├── Known genes: 60697\n",
      "   ├── Parameters: 32.0M\n",
      "   └── Model name: MICS-Lab/novae-human-0\n",
      "DONE\n",
      "__ Computing representation __\n"
     ]
    },
    {
     "name": "stderr",
     "output_type": "stream",
     "text": [
      "\u001b[33;20m[WARNING] (novae.utils._validate)\u001b[0m adata.X has high values. We recommend processing the data before running the model (e.g., with sc.pp.log1p).\n",
      "\u001b[33;20m[WARNING] (novae.utils._validate)\u001b[0m adata.X has high values. We recommend processing the data before running the model (e.g., with sc.pp.log1p).\n",
      "\u001b[33;20m[WARNING] (novae.utils._validate)\u001b[0m adata.X has high values. We recommend processing the data before running the model (e.g., with sc.pp.log1p).\n",
      "\u001b[33;20m[WARNING] (novae.utils._validate)\u001b[0m adata.X has high values. We recommend processing the data before running the model (e.g., with sc.pp.log1p).\n",
      "\u001b[33;20m[WARNING] (novae.utils._validate)\u001b[0m adata.X has high values. We recommend processing the data before running the model (e.g., with sc.pp.log1p).\n",
      "\u001b[33;20m[WARNING] (novae.utils._validate)\u001b[0m adata.X has high values. We recommend processing the data before running the model (e.g., with sc.pp.log1p).\n",
      "\u001b[33;20m[WARNING] (novae.utils._validate)\u001b[0m adata.X has high values. We recommend processing the data before running the model (e.g., with sc.pp.log1p).\n",
      "\u001b[33;20m[WARNING] (novae.utils._validate)\u001b[0m adata.X has high values. We recommend processing the data before running the model (e.g., with sc.pp.log1p).\n",
      "\u001b[33;20m[WARNING] (novae.utils._validate)\u001b[0m adata.X has high values. We recommend processing the data before running the model (e.g., with sc.pp.log1p).\n",
      "\u001b[33;20m[WARNING] (novae.utils._validate)\u001b[0m adata.X has high values. We recommend processing the data before running the model (e.g., with sc.pp.log1p).\n",
      "\u001b[33;20m[WARNING] (novae.utils._validate)\u001b[0m adata.X has high values. We recommend processing the data before running the model (e.g., with sc.pp.log1p).\n",
      "\u001b[33;20m[WARNING] (novae.utils._validate)\u001b[0m adata.X has high values. We recommend processing the data before running the model (e.g., with sc.pp.log1p).\n",
      "\u001b[33;20m[WARNING] (novae.utils._validate)\u001b[0m adata.X has high values. We recommend processing the data before running the model (e.g., with sc.pp.log1p).\n",
      "\u001b[33;20m[WARNING] (novae.utils._validate)\u001b[0m adata.X has high values. We recommend processing the data before running the model (e.g., with sc.pp.log1p).\n",
      "\u001b[33;20m[WARNING] (novae.utils._validate)\u001b[0m adata.X has high values. We recommend processing the data before running the model (e.g., with sc.pp.log1p).\n",
      "\u001b[33;20m[WARNING] (novae.utils._validate)\u001b[0m adata.X has high values. We recommend processing the data before running the model (e.g., with sc.pp.log1p).\n",
      "\u001b[33;20m[WARNING] (novae.utils._validate)\u001b[0m adata.X has high values. We recommend processing the data before running the model (e.g., with sc.pp.log1p).\n",
      "\u001b[33;20m[WARNING] (novae.utils._validate)\u001b[0m adata.X has high values. We recommend processing the data before running the model (e.g., with sc.pp.log1p).\n",
      "\u001b[33;20m[WARNING] (novae.utils._validate)\u001b[0m adata.X has high values. We recommend processing the data before running the model (e.g., with sc.pp.log1p).\n",
      "\u001b[33;20m[WARNING] (novae.utils._validate)\u001b[0m adata.X has high values. We recommend processing the data before running the model (e.g., with sc.pp.log1p).\n",
      "\u001b[33;20m[WARNING] (novae.utils._validate)\u001b[0m adata.X has high values. We recommend processing the data before running the model (e.g., with sc.pp.log1p).\n",
      "\u001b[33;20m[WARNING] (novae.utils._validate)\u001b[0m adata.X has high values. We recommend processing the data before running the model (e.g., with sc.pp.log1p).\n",
      "\u001b[33;20m[WARNING] (novae.utils._validate)\u001b[0m adata.X has high values. We recommend processing the data before running the model (e.g., with sc.pp.log1p).\n",
      "\u001b[33;20m[WARNING] (novae.utils._validate)\u001b[0m adata.X has high values. We recommend processing the data before running the model (e.g., with sc.pp.log1p).\n",
      "\u001b[33;20m[WARNING] (novae.utils._validate)\u001b[0m adata.X has high values. We recommend processing the data before running the model (e.g., with sc.pp.log1p).\n",
      "\u001b[33;20m[WARNING] (novae.utils._validate)\u001b[0m adata.X has high values. We recommend processing the data before running the model (e.g., with sc.pp.log1p).\n",
      "\u001b[33;20m[WARNING] (novae.utils._validate)\u001b[0m adata.X has high values. We recommend processing the data before running the model (e.g., with sc.pp.log1p).\n",
      "\u001b[33;20m[WARNING] (novae.utils._validate)\u001b[0m adata.X has high values. We recommend processing the data before running the model (e.g., with sc.pp.log1p).\n",
      "\u001b[33;20m[WARNING] (novae.utils._validate)\u001b[0m adata.X has high values. We recommend processing the data before running the model (e.g., with sc.pp.log1p).\n",
      "\u001b[33;20m[WARNING] (novae.utils._validate)\u001b[0m adata.X has high values. We recommend processing the data before running the model (e.g., with sc.pp.log1p).\n",
      "\u001b[33;20m[WARNING] (novae.utils._validate)\u001b[0m adata.X has high values. We recommend processing the data before running the model (e.g., with sc.pp.log1p).\n",
      "\u001b[33;20m[WARNING] (novae.utils._validate)\u001b[0m adata.X has high values. We recommend processing the data before running the model (e.g., with sc.pp.log1p).\n",
      "\u001b[33;20m[WARNING] (novae.utils._validate)\u001b[0m adata.X has high values. We recommend processing the data before running the model (e.g., with sc.pp.log1p).\n",
      "\u001b[33;20m[WARNING] (novae.utils._validate)\u001b[0m adata.X has high values. We recommend processing the data before running the model (e.g., with sc.pp.log1p).\n",
      "\u001b[33;20m[WARNING] (novae.utils._validate)\u001b[0m adata.X has high values. We recommend processing the data before running the model (e.g., with sc.pp.log1p).\n",
      "\u001b[33;20m[WARNING] (novae.utils._validate)\u001b[0m adata.X has high values. We recommend processing the data before running the model (e.g., with sc.pp.log1p).\n",
      "\u001b[33;20m[WARNING] (novae.utils._validate)\u001b[0m adata.X has high values. We recommend processing the data before running the model (e.g., with sc.pp.log1p).\n",
      "\u001b[33;20m[WARNING] (novae.utils._validate)\u001b[0m adata.X has high values. We recommend processing the data before running the model (e.g., with sc.pp.log1p).\n",
      "\u001b[33;20m[WARNING] (novae.utils._validate)\u001b[0m adata.X has high values. We recommend processing the data before running the model (e.g., with sc.pp.log1p).\n",
      "\u001b[33;20m[WARNING] (novae.utils._validate)\u001b[0m adata.X has high values. We recommend processing the data before running the model (e.g., with sc.pp.log1p).\n",
      "\u001b[33;20m[WARNING] (novae.utils._validate)\u001b[0m adata.X has high values. We recommend processing the data before running the model (e.g., with sc.pp.log1p).\n",
      "\u001b[33;20m[WARNING] (novae.utils._validate)\u001b[0m adata.X has high values. We recommend processing the data before running the model (e.g., with sc.pp.log1p).\n",
      "\u001b[33;20m[WARNING] (novae.utils._validate)\u001b[0m adata.X has high values. We recommend processing the data before running the model (e.g., with sc.pp.log1p).\n",
      "\u001b[33;20m[WARNING] (novae.utils._validate)\u001b[0m adata.X has high values. We recommend processing the data before running the model (e.g., with sc.pp.log1p).\n",
      "\u001b[33;20m[WARNING] (novae.utils._validate)\u001b[0m adata.X has high values. We recommend processing the data before running the model (e.g., with sc.pp.log1p).\n",
      "\u001b[33;20m[WARNING] (novae.utils._validate)\u001b[0m adata.X has high values. We recommend processing the data before running the model (e.g., with sc.pp.log1p).\n",
      "\u001b[33;20m[WARNING] (novae.utils._validate)\u001b[0m adata.X has high values. We recommend processing the data before running the model (e.g., with sc.pp.log1p).\n",
      "\u001b[33;20m[WARNING] (novae.utils._validate)\u001b[0m adata.X has high values. We recommend processing the data before running the model (e.g., with sc.pp.log1p).\n",
      "\u001b[33;20m[WARNING] (novae.utils._validate)\u001b[0m adata.X has high values. We recommend processing the data before running the model (e.g., with sc.pp.log1p).\n",
      "\u001b[33;20m[WARNING] (novae.utils._validate)\u001b[0m adata.X has high values. We recommend processing the data before running the model (e.g., with sc.pp.log1p).\n",
      "\u001b[33;20m[WARNING] (novae.utils._validate)\u001b[0m adata.X has high values. We recommend processing the data before running the model (e.g., with sc.pp.log1p).\n",
      "\u001b[33;20m[WARNING] (novae.utils._validate)\u001b[0m adata.X has high values. We recommend processing the data before running the model (e.g., with sc.pp.log1p).\n",
      "\u001b[33;20m[WARNING] (novae.utils._validate)\u001b[0m adata.X has high values. We recommend processing the data before running the model (e.g., with sc.pp.log1p).\n",
      "\u001b[33;20m[WARNING] (novae.utils._validate)\u001b[0m adata.X has high values. We recommend processing the data before running the model (e.g., with sc.pp.log1p).\n",
      "\u001b[33;20m[WARNING] (novae.utils._validate)\u001b[0m adata.X has high values. We recommend processing the data before running the model (e.g., with sc.pp.log1p).\n",
      "\u001b[33;20m[WARNING] (novae.utils._validate)\u001b[0m adata.X has high values. We recommend processing the data before running the model (e.g., with sc.pp.log1p).\n",
      "\u001b[33;20m[WARNING] (novae.utils._validate)\u001b[0m adata.X has high values. We recommend processing the data before running the model (e.g., with sc.pp.log1p).\n",
      "\u001b[33;20m[WARNING] (novae.utils._validate)\u001b[0m adata.X has high values. We recommend processing the data before running the model (e.g., with sc.pp.log1p).\n",
      "\u001b[33;20m[WARNING] (novae.utils._validate)\u001b[0m adata.X has high values. We recommend processing the data before running the model (e.g., with sc.pp.log1p).\n",
      "\u001b[33;20m[WARNING] (novae.utils._validate)\u001b[0m adata.X has high values. We recommend processing the data before running the model (e.g., with sc.pp.log1p).\n",
      "\u001b[33;20m[WARNING] (novae.utils._validate)\u001b[0m adata.X has high values. We recommend processing the data before running the model (e.g., with sc.pp.log1p).\n",
      "\u001b[33;20m[WARNING] (novae.utils._validate)\u001b[0m adata.X has high values. We recommend processing the data before running the model (e.g., with sc.pp.log1p).\n",
      "\u001b[33;20m[WARNING] (novae.utils._validate)\u001b[0m adata.X has high values. We recommend processing the data before running the model (e.g., with sc.pp.log1p).\n",
      "\u001b[33;20m[WARNING] (novae.utils._validate)\u001b[0m adata.X has high values. We recommend processing the data before running the model (e.g., with sc.pp.log1p).\n",
      "\u001b[33;20m[WARNING] (novae.utils._validate)\u001b[0m adata.X has high values. We recommend processing the data before running the model (e.g., with sc.pp.log1p).\n",
      "\u001b[33;20m[WARNING] (novae.utils._validate)\u001b[0m adata.X has high values. We recommend processing the data before running the model (e.g., with sc.pp.log1p).\n",
      "\u001b[33;20m[WARNING] (novae.utils._validate)\u001b[0m adata.X has high values. We recommend processing the data before running the model (e.g., with sc.pp.log1p).\n",
      "\u001b[33;20m[WARNING] (novae.utils._validate)\u001b[0m adata.X has high values. We recommend processing the data before running the model (e.g., with sc.pp.log1p).\n",
      "\u001b[33;20m[WARNING] (novae.utils._validate)\u001b[0m adata.X has high values. We recommend processing the data before running the model (e.g., with sc.pp.log1p).\n",
      "\u001b[33;20m[WARNING] (novae.utils._validate)\u001b[0m adata.X has high values. We recommend processing the data before running the model (e.g., with sc.pp.log1p).\n",
      "\u001b[33;20m[WARNING] (novae.utils._validate)\u001b[0m adata.X has high values. We recommend processing the data before running the model (e.g., with sc.pp.log1p).\n",
      "\u001b[33;20m[WARNING] (novae.utils._validate)\u001b[0m adata.X has high values. We recommend processing the data before running the model (e.g., with sc.pp.log1p).\n",
      "\u001b[33;20m[WARNING] (novae.utils._validate)\u001b[0m adata.X has high values. We recommend processing the data before running the model (e.g., with sc.pp.log1p).\n",
      "\u001b[33;20m[WARNING] (novae.utils._validate)\u001b[0m adata.X has high values. We recommend processing the data before running the model (e.g., with sc.pp.log1p).\n",
      "\u001b[33;20m[WARNING] (novae.utils._validate)\u001b[0m adata.X has high values. We recommend processing the data before running the model (e.g., with sc.pp.log1p).\n",
      "\u001b[33;20m[WARNING] (novae.utils._validate)\u001b[0m adata.X has high values. We recommend processing the data before running the model (e.g., with sc.pp.log1p).\n",
      "\u001b[33;20m[WARNING] (novae.utils._validate)\u001b[0m adata.X has high values. We recommend processing the data before running the model (e.g., with sc.pp.log1p).\n",
      "\u001b[33;20m[WARNING] (novae.utils._validate)\u001b[0m adata.X has high values. We recommend processing the data before running the model (e.g., with sc.pp.log1p).\n",
      "\u001b[33;20m[WARNING] (novae.utils._validate)\u001b[0m adata.X has high values. We recommend processing the data before running the model (e.g., with sc.pp.log1p).\n",
      "\u001b[33;20m[WARNING] (novae.utils._validate)\u001b[0m adata.X has high values. We recommend processing the data before running the model (e.g., with sc.pp.log1p).\n",
      "\u001b[33;20m[WARNING] (novae.utils._validate)\u001b[0m adata.X has high values. We recommend processing the data before running the model (e.g., with sc.pp.log1p).\n",
      "\u001b[33;20m[WARNING] (novae.utils._validate)\u001b[0m adata.X has high values. We recommend processing the data before running the model (e.g., with sc.pp.log1p).\n",
      "\u001b[33;20m[WARNING] (novae.utils._validate)\u001b[0m adata.X has high values. We recommend processing the data before running the model (e.g., with sc.pp.log1p).\n",
      "\u001b[33;20m[WARNING] (novae.utils._validate)\u001b[0m adata.X has high values. We recommend processing the data before running the model (e.g., with sc.pp.log1p).\n",
      "\u001b[33;20m[WARNING] (novae.utils._validate)\u001b[0m adata.X has high values. We recommend processing the data before running the model (e.g., with sc.pp.log1p).\n",
      "\u001b[33;20m[WARNING] (novae.utils._validate)\u001b[0m adata.X has high values. We recommend processing the data before running the model (e.g., with sc.pp.log1p).\n",
      "/home/ec2-user/SageMaker/.conda/envs/gbmhackathon/lib/python3.10/site-packages/anndata/_core/anndata.py:1756: UserWarning: Observation names are not unique. To make them unique, call `.obs_names_make_unique`.\n"
     ]
    },
    {
     "data": {
      "application/vnd.jupyter.widget-view+json": {
       "model_id": "fe46218a31204d3293c8073ece0c0c7b",
       "version_major": 2,
       "version_minor": 0
      },
      "text/plain": [
       "Computing representations:   0%|          | 0/3 [00:00<?, ?it/s]"
      ]
     },
     "metadata": {},
     "output_type": "display_data"
    },
    {
     "data": {
      "application/vnd.jupyter.widget-view+json": {
       "model_id": "3e708ce1b8264759beb589a21eee339d",
       "version_major": 2,
       "version_minor": 0
      },
      "text/plain": [
       "Computing representations:   0%|          | 0/9 [00:00<?, ?it/s]"
      ]
     },
     "metadata": {},
     "output_type": "display_data"
    },
    {
     "data": {
      "application/vnd.jupyter.widget-view+json": {
       "model_id": "dbf1127d380f49f9a55a54c3ff9b9fab",
       "version_major": 2,
       "version_minor": 0
      },
      "text/plain": [
       "Computing representations:   0%|          | 0/6 [00:00<?, ?it/s]"
      ]
     },
     "metadata": {},
     "output_type": "display_data"
    },
    {
     "data": {
      "application/vnd.jupyter.widget-view+json": {
       "model_id": "de074f46d64a40a7962eb7fe7ca93eb6",
       "version_major": 2,
       "version_minor": 0
      },
      "text/plain": [
       "Computing representations:   0%|          | 0/5 [00:00<?, ?it/s]"
      ]
     },
     "metadata": {},
     "output_type": "display_data"
    },
    {
     "data": {
      "application/vnd.jupyter.widget-view+json": {
       "model_id": "1c841708fad4445ebc808e12e4ac635f",
       "version_major": 2,
       "version_minor": 0
      },
      "text/plain": [
       "Computing representations:   0%|          | 0/8 [00:00<?, ?it/s]"
      ]
     },
     "metadata": {},
     "output_type": "display_data"
    },
    {
     "data": {
      "application/vnd.jupyter.widget-view+json": {
       "model_id": "e4c05b7887cc47a5a8679793dfddc4e1",
       "version_major": 2,
       "version_minor": 0
      },
      "text/plain": [
       "Computing representations:   0%|          | 0/10 [00:00<?, ?it/s]"
      ]
     },
     "metadata": {},
     "output_type": "display_data"
    },
    {
     "data": {
      "application/vnd.jupyter.widget-view+json": {
       "model_id": "862adf2c277a4484a6300170caa60300",
       "version_major": 2,
       "version_minor": 0
      },
      "text/plain": [
       "Computing representations:   0%|          | 0/10 [00:00<?, ?it/s]"
      ]
     },
     "metadata": {},
     "output_type": "display_data"
    },
    {
     "data": {
      "application/vnd.jupyter.widget-view+json": {
       "model_id": "edae9f8fe8a04723917e06254b6ae8ff",
       "version_major": 2,
       "version_minor": 0
      },
      "text/plain": [
       "Computing representations:   0%|          | 0/10 [00:00<?, ?it/s]"
      ]
     },
     "metadata": {},
     "output_type": "display_data"
    },
    {
     "data": {
      "application/vnd.jupyter.widget-view+json": {
       "model_id": "bc3043cb626649d9b44e1e3ef3fbc8b7",
       "version_major": 2,
       "version_minor": 0
      },
      "text/plain": [
       "Computing representations:   0%|          | 0/9 [00:00<?, ?it/s]"
      ]
     },
     "metadata": {},
     "output_type": "display_data"
    },
    {
     "data": {
      "application/vnd.jupyter.widget-view+json": {
       "model_id": "39082afad395446eaae164e14f844b47",
       "version_major": 2,
       "version_minor": 0
      },
      "text/plain": [
       "Computing representations:   0%|          | 0/6 [00:00<?, ?it/s]"
      ]
     },
     "metadata": {},
     "output_type": "display_data"
    },
    {
     "data": {
      "application/vnd.jupyter.widget-view+json": {
       "model_id": "210f956d048e4a379877303471c75711",
       "version_major": 2,
       "version_minor": 0
      },
      "text/plain": [
       "Computing representations:   0%|          | 0/7 [00:00<?, ?it/s]"
      ]
     },
     "metadata": {},
     "output_type": "display_data"
    },
    {
     "data": {
      "application/vnd.jupyter.widget-view+json": {
       "model_id": "5e9b79d7b82c49f384b1f21b6e250271",
       "version_major": 2,
       "version_minor": 0
      },
      "text/plain": [
       "Computing representations:   0%|          | 0/7 [00:00<?, ?it/s]"
      ]
     },
     "metadata": {},
     "output_type": "display_data"
    },
    {
     "data": {
      "application/vnd.jupyter.widget-view+json": {
       "model_id": "314cbfe51da0446398f07d585d101f5b",
       "version_major": 2,
       "version_minor": 0
      },
      "text/plain": [
       "Computing representations:   0%|          | 0/7 [00:00<?, ?it/s]"
      ]
     },
     "metadata": {},
     "output_type": "display_data"
    },
    {
     "data": {
      "application/vnd.jupyter.widget-view+json": {
       "model_id": "e687919c294b425aa1cdc3c3332e9f92",
       "version_major": 2,
       "version_minor": 0
      },
      "text/plain": [
       "Computing representations:   0%|          | 0/3 [00:00<?, ?it/s]"
      ]
     },
     "metadata": {},
     "output_type": "display_data"
    },
    {
     "name": "stderr",
     "output_type": "stream",
     "text": [
      "Exception ignored in: <function _ConnectionBase.__del__ at 0x7f4cb36056c0>\n",
      "Traceback (most recent call last):\n",
      "  File \"/home/ec2-user/SageMaker/.conda/envs/gbmhackathon/lib/python3.10/multiprocessing/connection.py\", line 132, in __del__\n",
      "    self._close()\n",
      "  File \"/home/ec2-user/SageMaker/.conda/envs/gbmhackathon/lib/python3.10/multiprocessing/connection.py\", line 361, in _close\n",
      "    _close(self._handle)\n",
      "OSError: [Errno 9] Bad file descriptor\n"
     ]
    },
    {
     "data": {
      "application/vnd.jupyter.widget-view+json": {
       "model_id": "3e8b046502c44320ab0625ce47d081c3",
       "version_major": 2,
       "version_minor": 0
      },
      "text/plain": [
       "Computing representations:   0%|          | 0/5 [00:00<?, ?it/s]"
      ]
     },
     "metadata": {},
     "output_type": "display_data"
    },
    {
     "data": {
      "application/vnd.jupyter.widget-view+json": {
       "model_id": "0371c33d73064e51abbdf118e410c84b",
       "version_major": 2,
       "version_minor": 0
      },
      "text/plain": [
       "Computing representations:   0%|          | 0/7 [00:00<?, ?it/s]"
      ]
     },
     "metadata": {},
     "output_type": "display_data"
    },
    {
     "data": {
      "application/vnd.jupyter.widget-view+json": {
       "model_id": "9b8dbe43af34462d9c207978d87d9e69",
       "version_major": 2,
       "version_minor": 0
      },
      "text/plain": [
       "Computing representations:   0%|          | 0/9 [00:00<?, ?it/s]"
      ]
     },
     "metadata": {},
     "output_type": "display_data"
    },
    {
     "data": {
      "application/vnd.jupyter.widget-view+json": {
       "model_id": "e2430f5661514e37bfd0d19ecd77841d",
       "version_major": 2,
       "version_minor": 0
      },
      "text/plain": [
       "Computing representations:   0%|          | 0/8 [00:00<?, ?it/s]"
      ]
     },
     "metadata": {},
     "output_type": "display_data"
    },
    {
     "data": {
      "application/vnd.jupyter.widget-view+json": {
       "model_id": "44e8523d128d4163aade6f9304912bfb",
       "version_major": 2,
       "version_minor": 0
      },
      "text/plain": [
       "Computing representations:   0%|          | 0/6 [00:00<?, ?it/s]"
      ]
     },
     "metadata": {},
     "output_type": "display_data"
    },
    {
     "data": {
      "application/vnd.jupyter.widget-view+json": {
       "model_id": "ff1bf80464f948b0b39335621f5a7459",
       "version_major": 2,
       "version_minor": 0
      },
      "text/plain": [
       "Computing representations:   0%|          | 0/8 [00:00<?, ?it/s]"
      ]
     },
     "metadata": {},
     "output_type": "display_data"
    },
    {
     "data": {
      "application/vnd.jupyter.widget-view+json": {
       "model_id": "1d5603752c9a48338928c7bdfc4cc20f",
       "version_major": 2,
       "version_minor": 0
      },
      "text/plain": [
       "Computing representations:   0%|          | 0/8 [00:00<?, ?it/s]"
      ]
     },
     "metadata": {},
     "output_type": "display_data"
    },
    {
     "data": {
      "application/vnd.jupyter.widget-view+json": {
       "model_id": "e66e99446b224aa5b32a25b1b78b8b49",
       "version_major": 2,
       "version_minor": 0
      },
      "text/plain": [
       "Computing representations:   0%|          | 0/5 [00:00<?, ?it/s]"
      ]
     },
     "metadata": {},
     "output_type": "display_data"
    },
    {
     "data": {
      "application/vnd.jupyter.widget-view+json": {
       "model_id": "d2fc056fdb584e398085fd372f67ad39",
       "version_major": 2,
       "version_minor": 0
      },
      "text/plain": [
       "Computing representations:   0%|          | 0/10 [00:00<?, ?it/s]"
      ]
     },
     "metadata": {},
     "output_type": "display_data"
    },
    {
     "data": {
      "application/vnd.jupyter.widget-view+json": {
       "model_id": "487859685ba94b54a2f9c8ab5613793c",
       "version_major": 2,
       "version_minor": 0
      },
      "text/plain": [
       "Computing representations:   0%|          | 0/9 [00:00<?, ?it/s]"
      ]
     },
     "metadata": {},
     "output_type": "display_data"
    },
    {
     "data": {
      "application/vnd.jupyter.widget-view+json": {
       "model_id": "82f59774d9c64929a6cfeab0698dd66b",
       "version_major": 2,
       "version_minor": 0
      },
      "text/plain": [
       "Computing representations:   0%|          | 0/9 [00:00<?, ?it/s]"
      ]
     },
     "metadata": {},
     "output_type": "display_data"
    },
    {
     "data": {
      "application/vnd.jupyter.widget-view+json": {
       "model_id": "3145bb42481842dab1817c6ab87f9eb7",
       "version_major": 2,
       "version_minor": 0
      },
      "text/plain": [
       "Computing representations:   0%|          | 0/9 [00:00<?, ?it/s]"
      ]
     },
     "metadata": {},
     "output_type": "display_data"
    },
    {
     "data": {
      "application/vnd.jupyter.widget-view+json": {
       "model_id": "c62979ba5daf4d43bd8d3ea47d6750ff",
       "version_major": 2,
       "version_minor": 0
      },
      "text/plain": [
       "Computing representations:   0%|          | 0/10 [00:00<?, ?it/s]"
      ]
     },
     "metadata": {},
     "output_type": "display_data"
    },
    {
     "data": {
      "application/vnd.jupyter.widget-view+json": {
       "model_id": "e48fe0f83b3447bba0517b75396a6aa7",
       "version_major": 2,
       "version_minor": 0
      },
      "text/plain": [
       "Computing representations:   0%|          | 0/6 [00:00<?, ?it/s]"
      ]
     },
     "metadata": {},
     "output_type": "display_data"
    },
    {
     "data": {
      "application/vnd.jupyter.widget-view+json": {
       "model_id": "5fe1f5bc441d4d7c94dfa1698be3eb94",
       "version_major": 2,
       "version_minor": 0
      },
      "text/plain": [
       "Computing representations:   0%|          | 0/9 [00:00<?, ?it/s]"
      ]
     },
     "metadata": {},
     "output_type": "display_data"
    },
    {
     "data": {
      "application/vnd.jupyter.widget-view+json": {
       "model_id": "4119ecca0c064f42a4948feff9f0f364",
       "version_major": 2,
       "version_minor": 0
      },
      "text/plain": [
       "Computing representations:   0%|          | 0/9 [00:00<?, ?it/s]"
      ]
     },
     "metadata": {},
     "output_type": "display_data"
    },
    {
     "data": {
      "application/vnd.jupyter.widget-view+json": {
       "model_id": "bba868527fdf46559719a160367a27f6",
       "version_major": 2,
       "version_minor": 0
      },
      "text/plain": [
       "Computing representations:   0%|          | 0/5 [00:00<?, ?it/s]"
      ]
     },
     "metadata": {},
     "output_type": "display_data"
    },
    {
     "data": {
      "application/vnd.jupyter.widget-view+json": {
       "model_id": "a66305d650ea49b7af266f11c34b5eef",
       "version_major": 2,
       "version_minor": 0
      },
      "text/plain": [
       "Computing representations:   0%|          | 0/8 [00:00<?, ?it/s]"
      ]
     },
     "metadata": {},
     "output_type": "display_data"
    },
    {
     "data": {
      "application/vnd.jupyter.widget-view+json": {
       "model_id": "8a616621914144d3aaf2f05d34f4e086",
       "version_major": 2,
       "version_minor": 0
      },
      "text/plain": [
       "Computing representations:   0%|          | 0/10 [00:00<?, ?it/s]"
      ]
     },
     "metadata": {},
     "output_type": "display_data"
    },
    {
     "data": {
      "application/vnd.jupyter.widget-view+json": {
       "model_id": "fcb8a94d9f854b4e9e5576fed9e3398f",
       "version_major": 2,
       "version_minor": 0
      },
      "text/plain": [
       "Computing representations:   0%|          | 0/9 [00:00<?, ?it/s]"
      ]
     },
     "metadata": {},
     "output_type": "display_data"
    },
    {
     "data": {
      "application/vnd.jupyter.widget-view+json": {
       "model_id": "74323282b3e0474d8c6c4c6a12c7d61b",
       "version_major": 2,
       "version_minor": 0
      },
      "text/plain": [
       "Computing representations:   0%|          | 0/10 [00:00<?, ?it/s]"
      ]
     },
     "metadata": {},
     "output_type": "display_data"
    },
    {
     "data": {
      "application/vnd.jupyter.widget-view+json": {
       "model_id": "be756ce056564380882c2e5093bc4a02",
       "version_major": 2,
       "version_minor": 0
      },
      "text/plain": [
       "Computing representations:   0%|          | 0/8 [00:00<?, ?it/s]"
      ]
     },
     "metadata": {},
     "output_type": "display_data"
    },
    {
     "data": {
      "application/vnd.jupyter.widget-view+json": {
       "model_id": "e51332abded9427da05ddac5ce5aa249",
       "version_major": 2,
       "version_minor": 0
      },
      "text/plain": [
       "Computing representations:   0%|          | 0/9 [00:00<?, ?it/s]"
      ]
     },
     "metadata": {},
     "output_type": "display_data"
    },
    {
     "data": {
      "application/vnd.jupyter.widget-view+json": {
       "model_id": "18601944813144e487b095b05242bc11",
       "version_major": 2,
       "version_minor": 0
      },
      "text/plain": [
       "Computing representations:   0%|          | 0/6 [00:00<?, ?it/s]"
      ]
     },
     "metadata": {},
     "output_type": "display_data"
    },
    {
     "data": {
      "application/vnd.jupyter.widget-view+json": {
       "model_id": "1537f6f63c1b476bb6428399daee71aa",
       "version_major": 2,
       "version_minor": 0
      },
      "text/plain": [
       "Computing representations:   0%|          | 0/10 [00:00<?, ?it/s]"
      ]
     },
     "metadata": {},
     "output_type": "display_data"
    },
    {
     "data": {
      "application/vnd.jupyter.widget-view+json": {
       "model_id": "55a5717d38f344a1bc2b9f7c05c68798",
       "version_major": 2,
       "version_minor": 0
      },
      "text/plain": [
       "Computing representations:   0%|          | 0/5 [00:00<?, ?it/s]"
      ]
     },
     "metadata": {},
     "output_type": "display_data"
    },
    {
     "data": {
      "application/vnd.jupyter.widget-view+json": {
       "model_id": "1ecb5840f4c94e8c8ca5ceed3359a0db",
       "version_major": 2,
       "version_minor": 0
      },
      "text/plain": [
       "Computing representations:   0%|          | 0/8 [00:00<?, ?it/s]"
      ]
     },
     "metadata": {},
     "output_type": "display_data"
    },
    {
     "data": {
      "application/vnd.jupyter.widget-view+json": {
       "model_id": "a6ce643a15594a6d9da829f717b5db08",
       "version_major": 2,
       "version_minor": 0
      },
      "text/plain": [
       "Computing representations:   0%|          | 0/9 [00:00<?, ?it/s]"
      ]
     },
     "metadata": {},
     "output_type": "display_data"
    },
    {
     "data": {
      "application/vnd.jupyter.widget-view+json": {
       "model_id": "4beaa58d0f1f48aa88abcc415b87d82d",
       "version_major": 2,
       "version_minor": 0
      },
      "text/plain": [
       "Computing representations:   0%|          | 0/10 [00:00<?, ?it/s]"
      ]
     },
     "metadata": {},
     "output_type": "display_data"
    },
    {
     "data": {
      "application/vnd.jupyter.widget-view+json": {
       "model_id": "4da949e1353c4d0fbf12e385548dd546",
       "version_major": 2,
       "version_minor": 0
      },
      "text/plain": [
       "Computing representations:   0%|          | 0/10 [00:00<?, ?it/s]"
      ]
     },
     "metadata": {},
     "output_type": "display_data"
    },
    {
     "data": {
      "application/vnd.jupyter.widget-view+json": {
       "model_id": "11d32076f7c740c7bad8cfdccc4c1274",
       "version_major": 2,
       "version_minor": 0
      },
      "text/plain": [
       "Computing representations:   0%|          | 0/9 [00:00<?, ?it/s]"
      ]
     },
     "metadata": {},
     "output_type": "display_data"
    },
    {
     "data": {
      "application/vnd.jupyter.widget-view+json": {
       "model_id": "ab2dcfbe079e478db2fbfbaa67170f78",
       "version_major": 2,
       "version_minor": 0
      },
      "text/plain": [
       "Computing representations:   0%|          | 0/9 [00:00<?, ?it/s]"
      ]
     },
     "metadata": {},
     "output_type": "display_data"
    },
    {
     "data": {
      "application/vnd.jupyter.widget-view+json": {
       "model_id": "7f3b58ca63c64bd381d852f022fcc552",
       "version_major": 2,
       "version_minor": 0
      },
      "text/plain": [
       "Computing representations:   0%|          | 0/9 [00:00<?, ?it/s]"
      ]
     },
     "metadata": {},
     "output_type": "display_data"
    },
    {
     "data": {
      "application/vnd.jupyter.widget-view+json": {
       "model_id": "337e85e95fdf4bed966a46f87acbda8c",
       "version_major": 2,
       "version_minor": 0
      },
      "text/plain": [
       "Computing representations:   0%|          | 0/5 [00:00<?, ?it/s]"
      ]
     },
     "metadata": {},
     "output_type": "display_data"
    },
    {
     "data": {
      "application/vnd.jupyter.widget-view+json": {
       "model_id": "3a023bf7265a410b9d28385ede91a3cb",
       "version_major": 2,
       "version_minor": 0
      },
      "text/plain": [
       "Computing representations:   0%|          | 0/7 [00:00<?, ?it/s]"
      ]
     },
     "metadata": {},
     "output_type": "display_data"
    },
    {
     "data": {
      "application/vnd.jupyter.widget-view+json": {
       "model_id": "f016156f15214c27bfade1eaf5e71565",
       "version_major": 2,
       "version_minor": 0
      },
      "text/plain": [
       "Computing representations:   0%|          | 0/7 [00:00<?, ?it/s]"
      ]
     },
     "metadata": {},
     "output_type": "display_data"
    },
    {
     "data": {
      "application/vnd.jupyter.widget-view+json": {
       "model_id": "f719c7ec59d34e92b6d071dea93728c7",
       "version_major": 2,
       "version_minor": 0
      },
      "text/plain": [
       "Computing representations:   0%|          | 0/10 [00:00<?, ?it/s]"
      ]
     },
     "metadata": {},
     "output_type": "display_data"
    },
    {
     "data": {
      "application/vnd.jupyter.widget-view+json": {
       "model_id": "1200893d7e4b4231969c06a5700e3ac0",
       "version_major": 2,
       "version_minor": 0
      },
      "text/plain": [
       "Computing representations:   0%|          | 0/8 [00:00<?, ?it/s]"
      ]
     },
     "metadata": {},
     "output_type": "display_data"
    },
    {
     "data": {
      "application/vnd.jupyter.widget-view+json": {
       "model_id": "c0d94aa57b7d426885bbb3711ef0731c",
       "version_major": 2,
       "version_minor": 0
      },
      "text/plain": [
       "Computing representations:   0%|          | 0/9 [00:00<?, ?it/s]"
      ]
     },
     "metadata": {},
     "output_type": "display_data"
    },
    {
     "data": {
      "application/vnd.jupyter.widget-view+json": {
       "model_id": "7ffeccd98f9d4631a71248ff3ba6b52f",
       "version_major": 2,
       "version_minor": 0
      },
      "text/plain": [
       "Computing representations:   0%|          | 0/10 [00:00<?, ?it/s]"
      ]
     },
     "metadata": {},
     "output_type": "display_data"
    },
    {
     "data": {
      "application/vnd.jupyter.widget-view+json": {
       "model_id": "b2846449531848b5bc7cd6df981425d5",
       "version_major": 2,
       "version_minor": 0
      },
      "text/plain": [
       "Computing representations:   0%|          | 0/3 [00:00<?, ?it/s]"
      ]
     },
     "metadata": {},
     "output_type": "display_data"
    },
    {
     "name": "stderr",
     "output_type": "stream",
     "text": [
      "Exception ignored in: Exception ignored in: Exception ignored in: <function _MultiProcessingDataLoaderIter.__del__ at 0x7f4cb3cd96c0><function _MultiProcessingDataLoaderIter.__del__ at 0x7f4cb3cd96c0>\n",
      "\n",
      "<function _MultiProcessingDataLoaderIter.__del__ at 0x7f4cb3cd96c0>Traceback (most recent call last):\n",
      "Traceback (most recent call last):\n",
      "\n",
      "  File \"/home/ec2-user/SageMaker/.conda/envs/gbmhackathon/lib/python3.10/site-packages/torch/utils/data/dataloader.py\", line 1618, in __del__\n",
      "  File \"/home/ec2-user/SageMaker/.conda/envs/gbmhackathon/lib/python3.10/site-packages/torch/utils/data/dataloader.py\", line 1618, in __del__\n",
      "Traceback (most recent call last):\n",
      "          File \"/home/ec2-user/SageMaker/.conda/envs/gbmhackathon/lib/python3.10/site-packages/torch/utils/data/dataloader.py\", line 1618, in __del__\n",
      "self._shutdown_workers()self._shutdown_workers()\n",
      "    \n",
      "self._shutdown_workers()  File \"/home/ec2-user/SageMaker/.conda/envs/gbmhackathon/lib/python3.10/site-packages/torch/utils/data/dataloader.py\", line 1601, in _shutdown_workers\n",
      "  File \"/home/ec2-user/SageMaker/.conda/envs/gbmhackathon/lib/python3.10/site-packages/torch/utils/data/dataloader.py\", line 1601, in _shutdown_workers\n",
      "\n",
      "      File \"/home/ec2-user/SageMaker/.conda/envs/gbmhackathon/lib/python3.10/site-packages/torch/utils/data/dataloader.py\", line 1601, in _shutdown_workers\n",
      "    if w.is_alive():if w.is_alive():    \n",
      "\n",
      "if w.is_alive():  File \"/home/ec2-user/SageMaker/.conda/envs/gbmhackathon/lib/python3.10/multiprocessing/process.py\", line 160, in is_alive\n",
      "  File \"/home/ec2-user/SageMaker/.conda/envs/gbmhackathon/lib/python3.10/multiprocessing/process.py\", line 160, in is_alive\n",
      "\n",
      "          File \"/home/ec2-user/SageMaker/.conda/envs/gbmhackathon/lib/python3.10/multiprocessing/process.py\", line 160, in is_alive\n",
      "assert self._parent_pid == os.getpid(), 'can only test a child process'assert self._parent_pid == os.getpid(), 'can only test a child process'    \n",
      "\n",
      "assert self._parent_pid == os.getpid(), 'can only test a child process'AssertionError\n",
      "AssertionErrorAssertionError: : : can only test a child processcan only test a child processcan only test a child process\n",
      "\n",
      "\n",
      "Exception ignored in: Exception ignored in: <function _MultiProcessingDataLoaderIter.__del__ at 0x7f4cb3cd96c0><function _MultiProcessingDataLoaderIter.__del__ at 0x7f4cb3cd96c0>\n",
      "\n",
      "Traceback (most recent call last):\n",
      "Traceback (most recent call last):\n",
      "  File \"/home/ec2-user/SageMaker/.conda/envs/gbmhackathon/lib/python3.10/site-packages/torch/utils/data/dataloader.py\", line 1618, in __del__\n",
      "  File \"/home/ec2-user/SageMaker/.conda/envs/gbmhackathon/lib/python3.10/site-packages/torch/utils/data/dataloader.py\", line 1618, in __del__\n",
      "        self._shutdown_workers()self._shutdown_workers()Exception ignored in: \n",
      "\n",
      "  File \"/home/ec2-user/SageMaker/.conda/envs/gbmhackathon/lib/python3.10/site-packages/torch/utils/data/dataloader.py\", line 1601, in _shutdown_workers\n",
      "  File \"/home/ec2-user/SageMaker/.conda/envs/gbmhackathon/lib/python3.10/site-packages/torch/utils/data/dataloader.py\", line 1601, in _shutdown_workers\n",
      "        <function _MultiProcessingDataLoaderIter.__del__ at 0x7f4cb3cd96c0>if w.is_alive():if w.is_alive():\n",
      "\n",
      "\n",
      "Traceback (most recent call last):\n",
      "  File \"/home/ec2-user/SageMaker/.conda/envs/gbmhackathon/lib/python3.10/multiprocessing/process.py\", line 160, in is_alive\n",
      "  File \"/home/ec2-user/SageMaker/.conda/envs/gbmhackathon/lib/python3.10/multiprocessing/process.py\", line 160, in is_alive\n",
      "  File \"/home/ec2-user/SageMaker/.conda/envs/gbmhackathon/lib/python3.10/site-packages/torch/utils/data/dataloader.py\", line 1618, in __del__\n",
      "        assert self._parent_pid == os.getpid(), 'can only test a child process'    assert self._parent_pid == os.getpid(), 'can only test a child process'\n",
      "self._shutdown_workers()\n",
      "AssertionError\n",
      "AssertionError:   File \"/home/ec2-user/SageMaker/.conda/envs/gbmhackathon/lib/python3.10/site-packages/torch/utils/data/dataloader.py\", line 1601, in _shutdown_workers\n",
      ": can only test a child processcan only test a child process    \n",
      "if w.is_alive():\n",
      "\n",
      "  File \"/home/ec2-user/SageMaker/.conda/envs/gbmhackathon/lib/python3.10/multiprocessing/process.py\", line 160, in is_alive\n",
      "    assert self._parent_pid == os.getpid(), 'can only test a child process'\n",
      "AssertionError: can only test a child process\n",
      "Exception ignored in: <function _ConnectionBase.__del__ at 0x7f4cb36056c0>\n",
      "Traceback (most recent call last):\n",
      "  File \"/home/ec2-user/SageMaker/.conda/envs/gbmhackathon/lib/python3.10/multiprocessing/connection.py\", line 132, in __del__\n",
      "    self._close()\n",
      "  File \"/home/ec2-user/SageMaker/.conda/envs/gbmhackathon/lib/python3.10/multiprocessing/connection.py\", line 361, in _close\n",
      "    _close(self._handle)\n",
      "OSError: [Errno 9] Bad file descriptor\n"
     ]
    },
    {
     "data": {
      "application/vnd.jupyter.widget-view+json": {
       "model_id": "e6937cb7a300469ca4b5464595c92a68",
       "version_major": 2,
       "version_minor": 0
      },
      "text/plain": [
       "Computing representations:   0%|          | 0/6 [00:00<?, ?it/s]"
      ]
     },
     "metadata": {},
     "output_type": "display_data"
    },
    {
     "data": {
      "application/vnd.jupyter.widget-view+json": {
       "model_id": "e9928ed774774b9ca4d7cdca4ecb59df",
       "version_major": 2,
       "version_minor": 0
      },
      "text/plain": [
       "Computing representations:   0%|          | 0/9 [00:00<?, ?it/s]"
      ]
     },
     "metadata": {},
     "output_type": "display_data"
    },
    {
     "data": {
      "application/vnd.jupyter.widget-view+json": {
       "model_id": "233a4c557bb642618e29c27d7edbcbec",
       "version_major": 2,
       "version_minor": 0
      },
      "text/plain": [
       "Computing representations:   0%|          | 0/10 [00:00<?, ?it/s]"
      ]
     },
     "metadata": {},
     "output_type": "display_data"
    },
    {
     "data": {
      "application/vnd.jupyter.widget-view+json": {
       "model_id": "4f9dcfff5cd94808b49fda5abdd47fa1",
       "version_major": 2,
       "version_minor": 0
      },
      "text/plain": [
       "Computing representations:   0%|          | 0/9 [00:00<?, ?it/s]"
      ]
     },
     "metadata": {},
     "output_type": "display_data"
    },
    {
     "data": {
      "application/vnd.jupyter.widget-view+json": {
       "model_id": "5f120f03cfdd48e2b3b0c309cfa871d4",
       "version_major": 2,
       "version_minor": 0
      },
      "text/plain": [
       "Computing representations:   0%|          | 0/7 [00:00<?, ?it/s]"
      ]
     },
     "metadata": {},
     "output_type": "display_data"
    },
    {
     "data": {
      "application/vnd.jupyter.widget-view+json": {
       "model_id": "48b2463adea94b9aa3d327340c9313b6",
       "version_major": 2,
       "version_minor": 0
      },
      "text/plain": [
       "Computing representations:   0%|          | 0/9 [00:00<?, ?it/s]"
      ]
     },
     "metadata": {},
     "output_type": "display_data"
    },
    {
     "data": {
      "application/vnd.jupyter.widget-view+json": {
       "model_id": "e314a51fc1cf444794e4e4d5ef6fdade",
       "version_major": 2,
       "version_minor": 0
      },
      "text/plain": [
       "Computing representations:   0%|          | 0/10 [00:00<?, ?it/s]"
      ]
     },
     "metadata": {},
     "output_type": "display_data"
    },
    {
     "data": {
      "application/vnd.jupyter.widget-view+json": {
       "model_id": "155749c21d6f40029bda131c06536d7d",
       "version_major": 2,
       "version_minor": 0
      },
      "text/plain": [
       "Computing representations:   0%|          | 0/7 [00:00<?, ?it/s]"
      ]
     },
     "metadata": {},
     "output_type": "display_data"
    },
    {
     "data": {
      "application/vnd.jupyter.widget-view+json": {
       "model_id": "41af0f41ccea40689f1092617e6fce76",
       "version_major": 2,
       "version_minor": 0
      },
      "text/plain": [
       "Computing representations:   0%|          | 0/8 [00:00<?, ?it/s]"
      ]
     },
     "metadata": {},
     "output_type": "display_data"
    },
    {
     "data": {
      "application/vnd.jupyter.widget-view+json": {
       "model_id": "6c3403b4f1114d1485cdfdfa6b62305f",
       "version_major": 2,
       "version_minor": 0
      },
      "text/plain": [
       "Computing representations:   0%|          | 0/5 [00:00<?, ?it/s]"
      ]
     },
     "metadata": {},
     "output_type": "display_data"
    },
    {
     "data": {
      "application/vnd.jupyter.widget-view+json": {
       "model_id": "52223e5accd74aea871c40c02c7f8b8e",
       "version_major": 2,
       "version_minor": 0
      },
      "text/plain": [
       "Computing representations:   0%|          | 0/9 [00:00<?, ?it/s]"
      ]
     },
     "metadata": {},
     "output_type": "display_data"
    },
    {
     "data": {
      "application/vnd.jupyter.widget-view+json": {
       "model_id": "5b6fb572eb354a1c926a3d97436dfb3c",
       "version_major": 2,
       "version_minor": 0
      },
      "text/plain": [
       "Computing representations:   0%|          | 0/10 [00:00<?, ?it/s]"
      ]
     },
     "metadata": {},
     "output_type": "display_data"
    },
    {
     "data": {
      "application/vnd.jupyter.widget-view+json": {
       "model_id": "96cc8dda9cff4d31a16c8acf30eada67",
       "version_major": 2,
       "version_minor": 0
      },
      "text/plain": [
       "Computing representations:   0%|          | 0/6 [00:00<?, ?it/s]"
      ]
     },
     "metadata": {},
     "output_type": "display_data"
    },
    {
     "data": {
      "application/vnd.jupyter.widget-view+json": {
       "model_id": "f01d0832636d476687b43867b6e40a48",
       "version_major": 2,
       "version_minor": 0
      },
      "text/plain": [
       "Computing representations:   0%|          | 0/8 [00:00<?, ?it/s]"
      ]
     },
     "metadata": {},
     "output_type": "display_data"
    },
    {
     "data": {
      "application/vnd.jupyter.widget-view+json": {
       "model_id": "eeed094a76364cecb477518ba05c0e64",
       "version_major": 2,
       "version_minor": 0
      },
      "text/plain": [
       "Computing representations:   0%|          | 0/6 [00:00<?, ?it/s]"
      ]
     },
     "metadata": {},
     "output_type": "display_data"
    },
    {
     "data": {
      "application/vnd.jupyter.widget-view+json": {
       "model_id": "9ebbe7a9f59245c598fa343b542ba7a9",
       "version_major": 2,
       "version_minor": 0
      },
      "text/plain": [
       "Computing representations:   0%|          | 0/10 [00:00<?, ?it/s]"
      ]
     },
     "metadata": {},
     "output_type": "display_data"
    },
    {
     "data": {
      "application/vnd.jupyter.widget-view+json": {
       "model_id": "f2fd5a478bbf49848fdcce11f314bb29",
       "version_major": 2,
       "version_minor": 0
      },
      "text/plain": [
       "Computing representations:   0%|          | 0/8 [00:00<?, ?it/s]"
      ]
     },
     "metadata": {},
     "output_type": "display_data"
    },
    {
     "data": {
      "application/vnd.jupyter.widget-view+json": {
       "model_id": "c18292dbc2614e73b5b3608df00639e1",
       "version_major": 2,
       "version_minor": 0
      },
      "text/plain": [
       "Computing representations:   0%|          | 0/4 [00:00<?, ?it/s]"
      ]
     },
     "metadata": {},
     "output_type": "display_data"
    },
    {
     "data": {
      "application/vnd.jupyter.widget-view+json": {
       "model_id": "05e47c225bc84ed3a066d56866e24bf8",
       "version_major": 2,
       "version_minor": 0
      },
      "text/plain": [
       "Computing representations:   0%|          | 0/9 [00:00<?, ?it/s]"
      ]
     },
     "metadata": {},
     "output_type": "display_data"
    },
    {
     "data": {
      "application/vnd.jupyter.widget-view+json": {
       "model_id": "c6f41480ce5a460ba144156175e6b961",
       "version_major": 2,
       "version_minor": 0
      },
      "text/plain": [
       "Computing representations:   0%|          | 0/3 [00:00<?, ?it/s]"
      ]
     },
     "metadata": {},
     "output_type": "display_data"
    },
    {
     "name": "stderr",
     "output_type": "stream",
     "text": [
      "Exception in thread QueueFeederThread:\n",
      "Traceback (most recent call last):\n",
      "  File \"/home/ec2-user/SageMaker/.conda/envs/gbmhackathon/lib/python3.10/multiprocessing/queues.py\", line 239, in _feed\n",
      "    reader_close()\n",
      "  File \"/home/ec2-user/SageMaker/.conda/envs/gbmhackathon/lib/python3.10/multiprocessing/connection.py\", line 177, in close\n",
      "    self._close()\n",
      "  File \"/home/ec2-user/SageMaker/.conda/envs/gbmhackathon/lib/python3.10/multiprocessing/connection.py\", line 361, in _close\n",
      "    _close(self._handle)\n",
      "OSError: [Errno 9] Bad file descriptor\n",
      "\n",
      "During handling of the above exception, another exception occurred:\n",
      "\n",
      "Traceback (most recent call last):\n",
      "  File \"/home/ec2-user/SageMaker/.conda/envs/gbmhackathon/lib/python3.10/threading.py\", line 1016, in _bootstrap_inner\n",
      "    self.run()\n",
      "  File \"/home/ec2-user/SageMaker/.conda/envs/gbmhackathon/lib/python3.10/site-packages/ipykernel/ipkernel.py\", line 766, in run_closure\n",
      "    _threading_Thread_run(self)\n",
      "  File \"/home/ec2-user/SageMaker/.conda/envs/gbmhackathon/lib/python3.10/threading.py\", line 953, in run\n",
      "    self._target(*self._args, **self._kwargs)\n",
      "  File \"/home/ec2-user/SageMaker/.conda/envs/gbmhackathon/lib/python3.10/multiprocessing/queues.py\", line 271, in _feed\n",
      "    queue_sem.release()\n",
      "ValueError: semaphore or lock released too many times\n"
     ]
    },
    {
     "data": {
      "application/vnd.jupyter.widget-view+json": {
       "model_id": "32bed8a99c78495fa1d735871a9b32f4",
       "version_major": 2,
       "version_minor": 0
      },
      "text/plain": [
       "Computing representations:   0%|          | 0/7 [00:00<?, ?it/s]"
      ]
     },
     "metadata": {},
     "output_type": "display_data"
    },
    {
     "data": {
      "application/vnd.jupyter.widget-view+json": {
       "model_id": "7dc42fc2845f40828f57b1e40094c042",
       "version_major": 2,
       "version_minor": 0
      },
      "text/plain": [
       "Computing representations:   0%|          | 0/9 [00:00<?, ?it/s]"
      ]
     },
     "metadata": {},
     "output_type": "display_data"
    },
    {
     "data": {
      "application/vnd.jupyter.widget-view+json": {
       "model_id": "7d361aa57be34c258b9f56c107b29f93",
       "version_major": 2,
       "version_minor": 0
      },
      "text/plain": [
       "Computing representations:   0%|          | 0/8 [00:00<?, ?it/s]"
      ]
     },
     "metadata": {},
     "output_type": "display_data"
    },
    {
     "data": {
      "application/vnd.jupyter.widget-view+json": {
       "model_id": "70589b350e8b4c768474679a309f4655",
       "version_major": 2,
       "version_minor": 0
      },
      "text/plain": [
       "Computing representations:   0%|          | 0/10 [00:00<?, ?it/s]"
      ]
     },
     "metadata": {},
     "output_type": "display_data"
    },
    {
     "data": {
      "application/vnd.jupyter.widget-view+json": {
       "model_id": "958a0592e5f54e6b968625e4215e83b0",
       "version_major": 2,
       "version_minor": 0
      },
      "text/plain": [
       "Computing representations:   0%|          | 0/9 [00:00<?, ?it/s]"
      ]
     },
     "metadata": {},
     "output_type": "display_data"
    },
    {
     "data": {
      "application/vnd.jupyter.widget-view+json": {
       "model_id": "54316efc306a4228ac32184ea7e8e803",
       "version_major": 2,
       "version_minor": 0
      },
      "text/plain": [
       "Computing representations:   0%|          | 0/9 [00:00<?, ?it/s]"
      ]
     },
     "metadata": {},
     "output_type": "display_data"
    },
    {
     "data": {
      "application/vnd.jupyter.widget-view+json": {
       "model_id": "57f125eab2c441158cc16725b8fe8a8a",
       "version_major": 2,
       "version_minor": 0
      },
      "text/plain": [
       "Computing representations:   0%|          | 0/9 [00:00<?, ?it/s]"
      ]
     },
     "metadata": {},
     "output_type": "display_data"
    },
    {
     "data": {
      "application/vnd.jupyter.widget-view+json": {
       "model_id": "7b71fcfa0cfb4b08b751a96be544c658",
       "version_major": 2,
       "version_minor": 0
      },
      "text/plain": [
       "Computing representations:   0%|          | 0/10 [00:00<?, ?it/s]"
      ]
     },
     "metadata": {},
     "output_type": "display_data"
    },
    {
     "data": {
      "application/vnd.jupyter.widget-view+json": {
       "model_id": "21c08173cd8b42fdb81a06610d27b374",
       "version_major": 2,
       "version_minor": 0
      },
      "text/plain": [
       "Computing representations:   0%|          | 0/9 [00:00<?, ?it/s]"
      ]
     },
     "metadata": {},
     "output_type": "display_data"
    },
    {
     "data": {
      "application/vnd.jupyter.widget-view+json": {
       "model_id": "82b3495b732645ee8f58175766c0d2af",
       "version_major": 2,
       "version_minor": 0
      },
      "text/plain": [
       "Computing representations:   0%|          | 0/9 [00:00<?, ?it/s]"
      ]
     },
     "metadata": {},
     "output_type": "display_data"
    },
    {
     "data": {
      "application/vnd.jupyter.widget-view+json": {
       "model_id": "e666321b75cc4bffb791d54d6ff15af3",
       "version_major": 2,
       "version_minor": 0
      },
      "text/plain": [
       "Computing representations:   0%|          | 0/6 [00:00<?, ?it/s]"
      ]
     },
     "metadata": {},
     "output_type": "display_data"
    },
    {
     "name": "stdout",
     "output_type": "stream",
     "text": [
      "DONE\n",
      "Size latent space = 64\n"
     ]
    }
   ],
   "source": [
    "dict_emb_test = retrieve_visium_embedding(radius_spatial_n = 300)"
   ]
  },
  {
   "cell_type": "code",
   "execution_count": 4,
   "id": "9d5c6cea-2390-47a8-9a60-c058eac888e7",
   "metadata": {},
   "outputs": [
    {
     "data": {
      "text/plain": [
       "{'HK_G_001a_vis': array([[-0.31912524, -0.11272641,  0.2837144 , ..., -0.09955969,\n",
       "          0.03288715, -0.36776334],\n",
       "        [-0.3330066 , -0.03813721,  0.26050317, ..., -0.15780449,\n",
       "          0.03129857, -0.29435375],\n",
       "        [ 0.12384544,  0.11602774,  0.44294336, ..., -0.402109  ,\n",
       "         -0.19718835, -0.04662852],\n",
       "        ...,\n",
       "        [-0.23171404, -0.13475265,  0.3546657 , ..., -0.05644633,\n",
       "          0.12796688, -0.40540335],\n",
       "        [ 0.34226498,  0.10448818,  0.3366263 , ..., -0.48089442,\n",
       "         -0.24782735, -0.01127741],\n",
       "        [-0.34072948, -0.00999007,  0.27253863, ..., -0.10768241,\n",
       "          0.00071271, -0.33029935]], dtype=float32),\n",
       " 'HK_G_002a_vis': array([[-0.26963663, -0.07992981,  0.18574283, ..., -0.10479557,\n",
       "         -0.04408744, -0.3014545 ],\n",
       "        [-0.17910966,  0.03044075,  0.2845866 , ..., -0.32706526,\n",
       "         -0.30947345, -0.17104314],\n",
       "        [-0.11633328,  0.00402572,  0.19869089, ..., -0.1756422 ,\n",
       "         -0.13632794, -0.2201111 ],\n",
       "        ...,\n",
       "        [-0.14454857, -0.06002745,  0.50040203, ..., -0.27434903,\n",
       "         -0.11132917, -0.2492834 ],\n",
       "        [ 0.1829515 ,  0.11039772,  0.3206059 , ..., -0.59091634,\n",
       "         -0.34532675, -0.07920092],\n",
       "        [-0.26498356, -0.03830179,  0.29613155, ..., -0.3105328 ,\n",
       "         -0.2623565 , -0.21343684]], dtype=float32),\n",
       " 'HK_G_003a_vis': array([[-0.07345605,  0.04206056,  0.23294738, ..., -0.4877375 ,\n",
       "         -0.45329142, -0.09175935],\n",
       "        [ 0.31232038, -0.14074647,  0.13668586, ..., -0.5013189 ,\n",
       "         -0.4230754 ,  0.08153956],\n",
       "        [-0.21747524, -0.00888796,  0.194518  , ..., -0.1937425 ,\n",
       "         -0.02645611, -0.3360787 ],\n",
       "        ...,\n",
       "        [ 0.09168355, -0.1061569 ,  0.30709207, ..., -0.41053241,\n",
       "         -0.2593102 , -0.03423549],\n",
       "        [ 0.37964705,  0.07252906,  0.26856306, ..., -0.5286469 ,\n",
       "         -0.29828358,  0.05611388],\n",
       "        [ 0.35928184, -0.156446  ,  0.02809498, ..., -0.3721546 ,\n",
       "         -0.5141338 ,  0.09032366]], dtype=float32),\n",
       " 'HK_G_004a_vis': array([[-0.22549503, -0.0729673 ,  0.28083953, ..., -0.42898887,\n",
       "         -0.37699267, -0.07800737],\n",
       "        [-0.13445207, -0.07150038,  0.47127327, ..., -0.35047126,\n",
       "         -0.12064837, -0.23601069],\n",
       "        [-0.40880463, -0.0846013 ,  0.39446256, ..., -0.26714242,\n",
       "         -0.1708264 , -0.21530184],\n",
       "        ...,\n",
       "        [ 0.00897049, -0.12988515,  0.38558024, ..., -0.42948163,\n",
       "         -0.40901127, -0.15289019],\n",
       "        [-0.18797974,  0.09968652,  0.46492335, ..., -0.40015963,\n",
       "         -0.07653091, -0.26741463],\n",
       "        [-0.27361482,  0.05737705,  0.29250357, ..., -0.11356904,\n",
       "          0.17980841, -0.42122278]], dtype=float32),\n",
       " 'HK_G_005a_vis': array([[ 0.29529515, -0.14640614,  0.09192447, ..., -0.42083374,\n",
       "         -0.42304087,  0.03462639],\n",
       "        [-0.29098803, -0.00388634,  0.29573432, ..., -0.2114593 ,\n",
       "         -0.06378137, -0.405247  ],\n",
       "        [-0.14860702, -0.08147983,  0.13867633, ..., -0.20407887,\n",
       "         -0.22512862, -0.03858704],\n",
       "        ...,\n",
       "        [ 0.22626598, -0.22595523,  0.09738935, ..., -0.5068705 ,\n",
       "         -0.5707497 , -0.01998078],\n",
       "        [-0.2093419 , -0.01058984,  0.30966443, ..., -0.18780188,\n",
       "         -0.15004358, -0.26257968],\n",
       "        [-0.13131417,  0.09382538,  0.3217977 , ..., -0.37470138,\n",
       "         -0.19421457,  0.05630608]], dtype=float32),\n",
       " 'HK_G_006a_vis': array([[-0.08337975, -0.21635723,  0.40537277, ..., -0.21857944,\n",
       "          0.03672021, -0.1729714 ],\n",
       "        [-0.03884857,  0.1677243 ,  0.33017343, ..., -0.5753286 ,\n",
       "         -0.3459016 , -0.07674388],\n",
       "        [-0.18616182, -0.07539223,  0.36549684, ..., -0.38968128,\n",
       "         -0.29510713, -0.12311459],\n",
       "        ...,\n",
       "        [-0.05909563, -0.03927243,  0.21273066, ..., -0.23739958,\n",
       "         -0.3843516 , -0.13405481],\n",
       "        [ 0.04924287,  0.06833661,  0.2334416 , ..., -0.479964  ,\n",
       "         -0.34327298, -0.1656924 ],\n",
       "        [ 0.2620652 , -0.0323442 ,  0.24587783, ..., -0.55009675,\n",
       "         -0.38158926,  0.01497987]], dtype=float32),\n",
       " 'HK_G_007a_vis': array([[ 0.09455857, -0.0206593 ,  0.27193457, ..., -0.51808524,\n",
       "         -0.5192097 , -0.15592267],\n",
       "        [-0.15124875, -0.06678639,  0.32696363, ..., -0.39419767,\n",
       "         -0.25216672, -0.04490792],\n",
       "        [ 0.10917936,  0.16815987,  0.3314385 , ..., -0.43469432,\n",
       "         -0.33392084,  0.06028122],\n",
       "        ...,\n",
       "        [-0.19900563,  0.20111498,  0.44598588, ..., -0.3801671 ,\n",
       "         -0.16067079,  0.00515512],\n",
       "        [-0.08626243,  0.0477992 ,  0.39387232, ..., -0.44720495,\n",
       "         -0.3147517 , -0.07711793],\n",
       "        [-0.1332862 , -0.10746738,  0.24067524, ..., -0.27231112,\n",
       "         -0.25735533, -0.25974378]], dtype=float32),\n",
       " 'HK_G_008a_vis': array([[-0.09012967,  0.00298636,  0.23122258, ..., -0.14484075,\n",
       "         -0.11087301, -0.14753106],\n",
       "        [ 0.29448143,  0.07824173,  0.38577607, ..., -0.3844879 ,\n",
       "         -0.08538069, -0.11103826],\n",
       "        [-0.12024584, -0.05345739,  0.31909975, ..., -0.2759381 ,\n",
       "         -0.27611712, -0.09844349],\n",
       "        ...,\n",
       "        [ 0.01810334, -0.0531776 ,  0.29081446, ..., -0.5527432 ,\n",
       "         -0.41820574, -0.17484908],\n",
       "        [-0.07781697,  0.01066743,  0.35506627, ..., -0.40651014,\n",
       "         -0.2561515 , -0.07476044],\n",
       "        [ 0.01156681, -0.20905349,  0.3379061 , ..., -0.43593824,\n",
       "         -0.2882709 , -0.19972268]], dtype=float32),\n",
       " 'HK_G_009a_vis': array([[-0.21369234, -0.12832761,  0.33054063, ..., -0.35750553,\n",
       "         -0.26564217, -0.10987043],\n",
       "        [-0.15425043, -0.06753971,  0.13769747, ..., -0.3253839 ,\n",
       "         -0.38137367, -0.01068748],\n",
       "        [-0.1568889 , -0.16113985,  0.30116788, ..., -0.425481  ,\n",
       "         -0.28284267, -0.17229453],\n",
       "        ...,\n",
       "        [ 0.05776821, -0.09471103,  0.21883558, ..., -0.4872693 ,\n",
       "         -0.47963008, -0.07932668],\n",
       "        [-0.0616555 , -0.04616829,  0.2189878 , ..., -0.41039753,\n",
       "         -0.36867446,  0.06824455],\n",
       "        [-0.13009103,  0.00284943,  0.38231352, ..., -0.48507622,\n",
       "         -0.2840699 , -0.17064272]], dtype=float32),\n",
       " 'HK_G_010a_vis': array([[-0.26714128,  0.04898217,  0.32613945, ..., -0.21154752,\n",
       "          0.06895504, -0.3526798 ],\n",
       "        [-0.3212614 , -0.05019213,  0.29524428, ..., -0.1851656 ,\n",
       "         -0.16098039, -0.27671072],\n",
       "        [-0.17319909, -0.01077975,  0.27974164, ..., -0.14879829,\n",
       "         -0.03324484, -0.29820323],\n",
       "        ...,\n",
       "        [ 0.092188  , -0.22481006,  0.21400963, ..., -0.3886696 ,\n",
       "         -0.41094118, -0.00084042],\n",
       "        [-0.239029  , -0.11929509,  0.26007956, ..., -0.21340188,\n",
       "         -0.15381072, -0.1876042 ],\n",
       "        [ 0.28640524, -0.2585723 ,  0.13630758, ..., -0.42213917,\n",
       "         -0.39053094, -0.00296472]], dtype=float32),\n",
       " 'HK_G_011a_vis': array([[-0.2064436 ,  0.05511562,  0.29739076, ..., -0.16685149,\n",
       "          0.03627289, -0.3910033 ],\n",
       "        [-0.11103475,  0.01956597,  0.34284753, ..., -0.28842965,\n",
       "         -0.22330213, -0.23428816],\n",
       "        [-0.20373623, -0.00961076,  0.31998593, ..., -0.22692358,\n",
       "         -0.17786449, -0.31462443],\n",
       "        ...,\n",
       "        [ 0.05974038, -0.00164662,  0.26377153, ..., -0.5703352 ,\n",
       "         -0.44823453, -0.13998601],\n",
       "        [-0.2315559 ,  0.05078981,  0.38325784, ..., -0.46290782,\n",
       "         -0.21357834, -0.23863521],\n",
       "        [-0.13577797,  0.05635136,  0.19905764, ..., -0.11013962,\n",
       "          0.11756741, -0.3571266 ]], dtype=float32),\n",
       " 'HK_G_012a_vis': array([[-0.31020984, -0.01389927,  0.44361508, ..., -0.30332106,\n",
       "         -0.06348193, -0.00467579],\n",
       "        [ 0.16249764, -0.0336091 ,  0.16389687, ..., -0.51549464,\n",
       "         -0.48742598, -0.00093323],\n",
       "        [-0.24637678,  0.00778662,  0.3824008 , ..., -0.2094456 ,\n",
       "         -0.21364753, -0.10461632],\n",
       "        ...,\n",
       "        [-0.02296006,  0.15969846,  0.38322318, ..., -0.4591218 ,\n",
       "         -0.26238889, -0.0389566 ],\n",
       "        [ 0.20597872, -0.02040884,  0.20171684, ..., -0.5012079 ,\n",
       "         -0.4098129 , -0.0395963 ],\n",
       "        [-0.03635028, -0.01963059,  0.23852324, ..., -0.5107188 ,\n",
       "         -0.46720287, -0.19119477]], dtype=float32),\n",
       " 'HK_G_013a_vis': array([[ 0.20498548, -0.09188171,  0.07874957, ..., -0.29767582,\n",
       "         -0.49658766,  0.04274777],\n",
       "        [-0.13438547, -0.01322455,  0.20728648, ..., -0.33531436,\n",
       "         -0.3729452 , -0.22124337],\n",
       "        [-0.38227585, -0.10526065,  0.2898437 , ..., -0.2329163 ,\n",
       "         -0.13486978, -0.24141814],\n",
       "        ...,\n",
       "        [-0.21787712, -0.28546855,  0.4935429 , ..., -0.3727456 ,\n",
       "         -0.14830743, -0.21733928],\n",
       "        [-0.15740322,  0.03440703,  0.3814071 , ..., -0.3653916 ,\n",
       "         -0.25559124, -0.07917973],\n",
       "        [-0.3725654 , -0.10909716,  0.68144196, ...,  0.09352062,\n",
       "          0.40563574, -0.34581986]], dtype=float32),\n",
       " 'HK_G_014a_vis': array([[ 0.09647639,  0.20462833,  0.26550472, ..., -0.4968907 ,\n",
       "         -0.33946162,  0.05897104],\n",
       "        [ 0.162185  ,  0.23973855,  0.22568405, ..., -0.51509374,\n",
       "         -0.39723772,  0.09606582],\n",
       "        [-0.18827897, -0.01552534,  0.13895455, ..., -0.20551774,\n",
       "         -0.11790786, -0.26543608],\n",
       "        ...,\n",
       "        [ 0.29340854,  0.21946613,  0.3531853 , ..., -0.54237723,\n",
       "         -0.22090998,  0.00873401],\n",
       "        [-0.22312774, -0.01508528,  0.2697741 , ..., -0.22100952,\n",
       "         -0.01381179, -0.35503006],\n",
       "        [ 0.22814932,  0.27470234,  0.27093342, ..., -0.57252795,\n",
       "         -0.39848873,  0.01357923]], dtype=float32),\n",
       " 'HK_G_015a_vis': array([[-0.08450165, -0.09711955,  0.5193752 , ..., -0.349619  ,\n",
       "         -0.02310826, -0.18627733],\n",
       "        [-0.14394224,  0.05033775,  0.3085351 , ..., -0.19953933,\n",
       "         -0.14456534, -0.2802949 ],\n",
       "        [ 0.21921498,  0.00263884,  0.19072987, ..., -0.50443274,\n",
       "         -0.4477749 ,  0.10726643],\n",
       "        ...,\n",
       "        [-0.18278156,  0.06180816,  0.4558561 , ..., -0.36499718,\n",
       "         -0.20620094, -0.18532538],\n",
       "        [ 0.2650278 , -0.21167995,  0.31723154, ..., -0.32086113,\n",
       "         -0.01055652, -0.00352091],\n",
       "        [-0.05735797, -0.03632514,  0.2015965 , ..., -0.37339595,\n",
       "         -0.3427646 , -0.25323632]], dtype=float32),\n",
       " 'HK_G_016a_vis': array([[-0.30218336, -0.02571757,  0.46372497, ..., -0.15008484,\n",
       "         -0.0791645 , -0.27759957],\n",
       "        [-0.19587807, -0.3777033 ,  0.28548664, ..., -0.10916145,\n",
       "          0.27376992, -0.4096801 ],\n",
       "        [ 0.04537842, -0.12422963,  0.49719048, ..., -0.44585723,\n",
       "         -0.12209185, -0.24907434],\n",
       "        ...,\n",
       "        [ 0.02628619,  0.12763017,  0.32933453, ..., -0.44919294,\n",
       "         -0.41580862, -0.08065391],\n",
       "        [ 0.10007672,  0.10954566,  0.4612749 , ..., -0.36054596,\n",
       "         -0.14091688, -0.1281456 ],\n",
       "        [-0.10873032, -0.10041966,  0.35361558, ..., -0.37782305,\n",
       "         -0.15247665, -0.3100873 ]], dtype=float32),\n",
       " 'HK_G_017b_vis': array([[-0.09153913, -0.05247736,  0.5287415 , ..., -0.42075503,\n",
       "         -0.06821166, -0.04257851],\n",
       "        [-0.18898712, -0.0647118 ,  0.29532966, ..., -0.32285118,\n",
       "         -0.26900613, -0.29866144],\n",
       "        [-0.18760458,  0.03769843,  0.21045502, ..., -0.16073187,\n",
       "          0.0243483 , -0.34751552],\n",
       "        ...,\n",
       "        [ 0.1562034 , -0.05179115,  0.20313239, ..., -0.46849397,\n",
       "         -0.41851997,  0.01814079],\n",
       "        [ 0.31512484, -0.16600104,  0.11652849, ..., -0.4918944 ,\n",
       "         -0.5068196 , -0.0078436 ],\n",
       "        [-0.18163115, -0.03667434,  0.23392569, ..., -0.17857312,\n",
       "         -0.17075787, -0.19548959]], dtype=float32),\n",
       " 'HK_G_018a_vis': array([[-0.19278374,  0.03625736,  0.32568675, ..., -0.2356233 ,\n",
       "         -0.18589714, -0.36952418],\n",
       "        [ 0.14521898,  0.15728952,  0.32779855, ..., -0.50438523,\n",
       "         -0.27736077, -0.03010725],\n",
       "        [-0.2445213 , -0.18719116,  0.31787613, ..., -0.4247629 ,\n",
       "         -0.3906539 , -0.1354569 ],\n",
       "        ...,\n",
       "        [ 0.13086833, -0.21396369,  0.169396  , ..., -0.31402734,\n",
       "         -0.5051887 ,  0.05156431],\n",
       "        [ 0.01790962,  0.00526632,  0.44039935, ..., -0.45503253,\n",
       "         -0.20127828, -0.06842468],\n",
       "        [-0.14806464, -0.2811941 ,  0.45849147, ..., -0.1813545 ,\n",
       "          0.13121451, -0.31979933]], dtype=float32),\n",
       " 'HK_G_019a_vis': array([[-0.2185554 ,  0.00705481,  0.3257251 , ..., -0.36420563,\n",
       "         -0.28056878, -0.03264142],\n",
       "        [-0.18582101, -0.04741528,  0.2902671 , ..., -0.28689417,\n",
       "         -0.21042158, -0.11223014],\n",
       "        [ 0.1734816 , -0.05043246,  0.26903543, ..., -0.53536624,\n",
       "         -0.32485515, -0.09711994],\n",
       "        ...,\n",
       "        [-0.36104295, -0.10043144,  0.35810485, ..., -0.2714365 ,\n",
       "         -0.1777218 , -0.16873136],\n",
       "        [ 0.15253477, -0.01943719,  0.2552449 , ..., -0.57965726,\n",
       "         -0.40722442, -0.01554385],\n",
       "        [-0.21600017, -0.08080827,  0.2732368 , ..., -0.3885988 ,\n",
       "         -0.25475442, -0.0631583 ]], dtype=float32),\n",
       " 'HK_G_020a_vis': array([[-0.22697075, -0.05024297,  0.4967083 , ..., -0.2385599 ,\n",
       "         -0.01301478, -0.21379587],\n",
       "        [-0.3517885 , -0.06856873,  0.32853937, ..., -0.26490277,\n",
       "         -0.10662564, -0.3497477 ],\n",
       "        [ 0.1343149 ,  0.25722554,  0.3494929 , ..., -0.46655834,\n",
       "         -0.2131663 ,  0.09822296],\n",
       "        ...,\n",
       "        [-0.24824785, -0.01992828,  0.268898  , ..., -0.34332725,\n",
       "         -0.29925805, -0.16573326],\n",
       "        [ 0.15088865,  0.0936657 ,  0.24864778, ..., -0.48784694,\n",
       "         -0.36826825,  0.06228772],\n",
       "        [ 0.13572106,  0.06616184,  0.51954174, ..., -0.36838567,\n",
       "          0.07870352,  0.14120352]], dtype=float32),\n",
       " 'HK_G_021a_vis': array([[-3.05156142e-01,  7.88540021e-02,  5.02865136e-01, ...,\n",
       "         -1.91731438e-01,  1.88492592e-02, -3.01788807e-01],\n",
       "        [-1.49863765e-01,  6.79712519e-02,  2.53816545e-01, ...,\n",
       "         -4.55658913e-01, -4.31152403e-01,  7.60669112e-02],\n",
       "        [-3.55943382e-01, -5.90356253e-03,  3.60201836e-01, ...,\n",
       "         -1.13354325e-01, -9.45584383e-03, -2.47620314e-01],\n",
       "        ...,\n",
       "        [-6.39872476e-02, -1.84312493e-01,  1.91711813e-01, ...,\n",
       "         -2.80240268e-01, -2.70253092e-01,  2.50947904e-02],\n",
       "        [-1.30621970e-01,  1.30120561e-01,  3.66935104e-01, ...,\n",
       "         -3.34498376e-01, -2.59067982e-01, -1.21188551e-01],\n",
       "        [ 1.62929267e-01, -1.39796495e-01,  9.41806287e-02, ...,\n",
       "         -3.67538303e-01, -5.41474462e-01,  3.64715699e-04]], dtype=float32),\n",
       " 'HK_G_022a_vis': array([[-0.17671804,  0.08296984,  0.2696496 , ..., -0.30155858,\n",
       "         -0.24442439,  0.08708368],\n",
       "        [-0.2633967 ,  0.03587877,  0.35845008, ..., -0.3989802 ,\n",
       "         -0.24830197, -0.19871138],\n",
       "        [-0.18495642, -0.17028913,  0.16883652, ..., -0.2630245 ,\n",
       "         -0.33450097, -0.01933489],\n",
       "        ...,\n",
       "        [-0.00584439, -0.07081623,  0.25014585, ..., -0.38682634,\n",
       "         -0.52135557, -0.07373751],\n",
       "        [ 0.32407123,  0.00444527,  0.13701952, ..., -0.45485172,\n",
       "         -0.40605202,  0.0057335 ],\n",
       "        [-0.18537907,  0.16413543,  0.48041442, ..., -0.3797413 ,\n",
       "         -0.187304  , -0.11201926]], dtype=float32),\n",
       " 'HK_G_023a_vis': array([[-0.15956654, -0.13570732,  0.36811903, ..., -0.34638536,\n",
       "         -0.22176427, -0.27513853],\n",
       "        [-0.37516937,  0.07442382,  0.400688  , ..., -0.04879951,\n",
       "          0.17733112, -0.4392198 ],\n",
       "        [-0.08760644, -0.08006099,  0.29635856, ..., -0.36674696,\n",
       "         -0.30492663, -0.0916192 ],\n",
       "        ...,\n",
       "        [ 0.21009158,  0.10536819,  0.22515897, ..., -0.481385  ,\n",
       "         -0.32704118,  0.09185123],\n",
       "        [-0.00875213,  0.0464962 ,  0.29359683, ..., -0.45460168,\n",
       "         -0.26187974, -0.11153787],\n",
       "        [ 0.17305507,  0.15924685,  0.2584658 , ..., -0.50510615,\n",
       "         -0.42943388,  0.01365355]], dtype=float32),\n",
       " 'HK_G_024a_vis': array([[ 0.08784619, -0.10024142,  0.18957396, ..., -0.40326464,\n",
       "         -0.6093222 , -0.04880247],\n",
       "        [-0.25307965, -0.07894297,  0.35556313, ..., -0.29089436,\n",
       "         -0.19045395, -0.23981585],\n",
       "        [ 0.03974479, -0.01436009,  0.2266507 , ..., -0.36759222,\n",
       "         -0.49207836, -0.04091287],\n",
       "        ...,\n",
       "        [ 0.09452014,  0.25268197,  0.37532675, ..., -0.5149612 ,\n",
       "         -0.2618417 , -0.03172034],\n",
       "        [-0.28376538, -0.13127072,  0.3693349 , ..., -0.12275945,\n",
       "         -0.11803515, -0.33565888],\n",
       "        [ 0.1746149 , -0.12052071,  0.24115884, ..., -0.51854134,\n",
       "         -0.39639   , -0.03440605]], dtype=float32),\n",
       " 'HK_G_025a_vis': array([[-0.22052585,  0.06389251,  0.22599022, ..., -0.12924144,\n",
       "          0.0188143 , -0.29871807],\n",
       "        [-0.1022983 , -0.04542385,  0.35798517, ..., -0.4254026 ,\n",
       "         -0.38215315, -0.08033864],\n",
       "        [-0.15839207,  0.0296203 ,  0.15787354, ..., -0.14486948,\n",
       "          0.02952272, -0.37478802],\n",
       "        ...,\n",
       "        [-0.08840615, -0.03521954,  0.3785607 , ..., -0.4597888 ,\n",
       "         -0.2915017 , -0.0878428 ],\n",
       "        [-0.1458481 , -0.04073376,  0.34199038, ..., -0.49245167,\n",
       "         -0.29728678, -0.16609402],\n",
       "        [-0.2795189 , -0.06109874,  0.4281605 , ..., -0.18632632,\n",
       "          0.00099264, -0.31387046]], dtype=float32),\n",
       " 'HK_G_026a_vis': array([[-0.00841653, -0.05176642,  0.31654793, ..., -0.33181044,\n",
       "         -0.30671865,  0.02944803],\n",
       "        [-0.04243514, -0.05636062,  0.24508695, ..., -0.36226347,\n",
       "         -0.47751313, -0.11235067],\n",
       "        [ 0.34125254,  0.08681555,  0.27099666, ..., -0.54262763,\n",
       "         -0.2764422 , -0.00379348],\n",
       "        ...,\n",
       "        [ 0.03802032, -0.13747717,  0.20868751, ..., -0.293851  ,\n",
       "         -0.40399688, -0.06046262],\n",
       "        [-0.07134721, -0.02021898,  0.26660252, ..., -0.4191986 ,\n",
       "         -0.4568246 , -0.07690713],\n",
       "        [-0.05485746, -0.02476061,  0.17917566, ..., -0.22797798,\n",
       "         -0.36486745, -0.09993342]], dtype=float32),\n",
       " 'HK_G_027a_vis': array([[-0.09390061,  0.04526776,  0.16673003, ..., -0.11390082,\n",
       "          0.09815072, -0.35278422],\n",
       "        [-0.09255242, -0.19478287,  0.30199695, ..., -0.36861977,\n",
       "         -0.36060008, -0.00135861],\n",
       "        [ 0.02645431, -0.1781847 ,  0.1930943 , ..., -0.309382  ,\n",
       "         -0.4893489 , -0.01001514],\n",
       "        ...,\n",
       "        [-0.14154738, -0.1310163 ,  0.3088724 , ..., -0.35401234,\n",
       "         -0.39497748, -0.1583456 ],\n",
       "        [-0.16021001, -0.09285408,  0.33098623, ..., -0.39580867,\n",
       "         -0.2424642 , -0.13670826],\n",
       "        [ 0.43470463, -0.13500127, -0.03073682, ..., -0.27976412,\n",
       "         -0.5011162 ,  0.14980233]], dtype=float32),\n",
       " 'HK_G_028a_vis': array([[ 0.19407237,  0.02348967,  0.12576532, ..., -0.3387327 ,\n",
       "         -0.34839648, -0.09934095],\n",
       "        [-0.15520957, -0.00892861,  0.35545176, ..., -0.5179121 ,\n",
       "         -0.34847632, -0.0995931 ],\n",
       "        [-0.10825402,  0.00104152,  0.35651493, ..., -0.24444683,\n",
       "         -0.08357501, -0.25647086],\n",
       "        ...,\n",
       "        [ 0.26237363, -0.04614363,  0.16542643, ..., -0.5258563 ,\n",
       "         -0.49322823,  0.03020709],\n",
       "        [ 0.11367006, -0.08034278,  0.22227404, ..., -0.44628462,\n",
       "         -0.2945297 , -0.00753464],\n",
       "        [-0.07598924,  0.08633451,  0.22185996, ..., -0.10727473,\n",
       "          0.0211257 , -0.32077858]], dtype=float32),\n",
       " 'HK_G_029b_vis': array([[-0.11805636, -0.0136944 ,  0.14925018, ..., -0.13249838,\n",
       "         -0.00993193, -0.2738523 ],\n",
       "        [-0.2097511 , -0.09878062,  0.36011398, ..., -0.16538732,\n",
       "         -0.09552503, -0.1811336 ],\n",
       "        [-0.04643179,  0.08880194,  0.09284954, ..., -0.10955128,\n",
       "          0.05978717, -0.265857  ],\n",
       "        ...,\n",
       "        [ 0.2671983 , -0.1931641 ,  0.02877318, ..., -0.47957024,\n",
       "         -0.57454133,  0.12573314],\n",
       "        [-0.18864438, -0.17254867,  0.20062664, ..., -0.23565912,\n",
       "         -0.22382453, -0.11615752],\n",
       "        [ 0.27244002, -0.14538884,  0.05896541, ..., -0.47189137,\n",
       "         -0.548994  ,  0.10318523]], dtype=float32),\n",
       " 'HK_G_030a_vis': array([[-0.12161446,  0.01560444,  0.39355856, ..., -0.06495011,\n",
       "         -0.0876955 , -0.09720658],\n",
       "        [-0.1992353 ,  0.05943837,  0.41827008, ..., -0.4490775 ,\n",
       "         -0.22156051, -0.12189133],\n",
       "        [-0.26647696, -0.02161272,  0.2458361 , ..., -0.103564  ,\n",
       "         -0.02158772, -0.3079854 ],\n",
       "        ...,\n",
       "        [ 0.05815165,  0.07308065,  0.2204818 , ..., -0.5863184 ,\n",
       "         -0.46569738, -0.00760619],\n",
       "        [-0.1758118 ,  0.04436783,  0.44124135, ..., -0.3451949 ,\n",
       "         -0.12057169, -0.21759446],\n",
       "        [-0.09925465, -0.20692676,  0.40065244, ..., -0.46922573,\n",
       "         -0.14151107, -0.2468431 ]], dtype=float32),\n",
       " 'HK_G_031a_vis': array([[ 0.3400451 ,  0.2520767 ,  0.16887036, ..., -0.5203494 ,\n",
       "         -0.5496487 ,  0.09718596],\n",
       "        [-0.20504451, -0.05201471,  0.2583262 , ..., -0.25361317,\n",
       "         -0.26489538, -0.06292202],\n",
       "        [ 0.21178974,  0.2034633 ,  0.31263044, ..., -0.501235  ,\n",
       "         -0.28540802,  0.15519594],\n",
       "        ...,\n",
       "        [-0.28502542, -0.13530311,  0.2641691 , ..., -0.3585652 ,\n",
       "         -0.37474367, -0.0881402 ],\n",
       "        [ 0.13536774,  0.08543435,  0.36079288, ..., -0.57681245,\n",
       "         -0.3136038 , -0.08012269],\n",
       "        [-0.26773852, -0.17256819,  0.31918108, ..., -0.24197571,\n",
       "         -0.18534796,  0.03776695]], dtype=float32),\n",
       " 'HK_G_032a_vis': array([[ 3.66748452e-01,  7.90178254e-02,  2.90203005e-01, ...,\n",
       "         -5.62355161e-01, -3.04717690e-01, -1.82494503e-02],\n",
       "        [-7.77134225e-02, -7.67074302e-02,  3.02271843e-01, ...,\n",
       "         -3.32994252e-01, -3.77978981e-01, -2.27896925e-02],\n",
       "        [-4.48543370e-01, -1.43294588e-01,  3.00781816e-01, ...,\n",
       "         -8.59841891e-03,  8.08665976e-02, -4.29475814e-01],\n",
       "        ...,\n",
       "        [-1.04390234e-01,  2.40974482e-02,  2.41358697e-01, ...,\n",
       "         -2.20085070e-01, -1.14809841e-01, -2.42369160e-01],\n",
       "        [-2.44761363e-01, -9.56026837e-02,  2.66809434e-01, ...,\n",
       "         -3.97011876e-01, -3.06422710e-01,  4.25425246e-02],\n",
       "        [ 6.76383525e-02, -2.82987952e-04,  2.45983392e-01, ...,\n",
       "         -4.40755069e-01, -3.01470250e-01, -5.86567074e-02]], dtype=float32),\n",
       " 'HK_G_033a_vis': array([[-0.10361902, -0.02564217,  0.24461426, ..., -0.1308568 ,\n",
       "         -0.10053971, -0.15789609],\n",
       "        [-0.19397175, -0.00389956,  0.19562247, ..., -0.12380999,\n",
       "         -0.00406666, -0.34776524],\n",
       "        [-0.00763636,  0.00806627,  0.10474791, ..., -0.12282644,\n",
       "         -0.03414107, -0.17937496],\n",
       "        ...,\n",
       "        [-0.02280805, -0.22739786,  0.27289742, ..., -0.41997892,\n",
       "         -0.3169866 , -0.08506135],\n",
       "        [-0.13355109,  0.00474158,  0.16968311, ..., -0.10320847,\n",
       "         -0.03575971, -0.2625665 ],\n",
       "        [ 0.02993872, -0.03194756,  0.1765738 , ..., -0.4563407 ,\n",
       "         -0.59738696, -0.05235508]], dtype=float32),\n",
       " 'HK_G_034a_vbu': array([[-0.21477506, -0.06002037,  0.28092155, ..., -0.29955608,\n",
       "         -0.18250065, -0.288179  ],\n",
       "        [ 0.1282263 , -0.23473132,  0.22491086, ..., -0.5274285 ,\n",
       "         -0.33621457, -0.11024186],\n",
       "        [-0.04777088, -0.05248987,  0.26551324, ..., -0.21758488,\n",
       "         -0.2876773 , -0.19774957],\n",
       "        ...,\n",
       "        [-0.27337036, -0.34619522,  0.3549141 , ..., -0.10949367,\n",
       "          0.02471966, -0.27607113],\n",
       "        [ 0.21018167, -0.1651193 ,  0.17158084, ..., -0.42162296,\n",
       "         -0.33621413,  0.05732495],\n",
       "        [ 0.03874692, -0.18556   ,  0.2572597 , ..., -0.5105497 ,\n",
       "         -0.33882102, -0.126901  ]], dtype=float32),\n",
       " 'HK_G_035a_vis': array([[-0.06240838, -0.14574693,  0.33491522, ..., -0.35946754,\n",
       "         -0.3085367 , -0.02040125],\n",
       "        [-0.14214106, -0.0494514 ,  0.23606232, ..., -0.3437667 ,\n",
       "         -0.3520217 , -0.08097181],\n",
       "        [-0.25239924,  0.05005399,  0.3982089 , ..., -0.41228396,\n",
       "         -0.27526152, -0.15236078],\n",
       "        ...,\n",
       "        [-0.20993546, -0.06657737,  0.3926706 , ..., -0.28988588,\n",
       "         -0.26409093, -0.21395235],\n",
       "        [-0.21192199, -0.0583341 ,  0.3926629 , ..., -0.32064688,\n",
       "         -0.15601504, -0.10552414],\n",
       "        [-0.19582722,  0.00127485,  0.24581455, ..., -0.14190012,\n",
       "         -0.04043951, -0.32142037]], dtype=float32),\n",
       " 'HK_G_036b_vis': array([[ 2.75219053e-01,  1.72760546e-01,  2.08530560e-01, ...,\n",
       "         -5.36046386e-01, -4.31317538e-01,  5.76892346e-02],\n",
       "        [ 1.50723681e-01,  4.47761454e-02,  2.52721101e-01, ...,\n",
       "         -5.63965261e-01, -3.99442673e-01, -2.68860590e-02],\n",
       "        [ 2.15166122e-01,  4.08719410e-04,  1.98868319e-01, ...,\n",
       "         -5.18512726e-01, -3.98189127e-01,  5.44550233e-02],\n",
       "        ...,\n",
       "        [ 2.91592270e-01,  1.70194268e-01,  2.11857647e-01, ...,\n",
       "         -5.93645453e-01, -4.19146031e-01, -1.24730049e-02],\n",
       "        [ 9.21163782e-02,  7.36239180e-02, -2.46053897e-02, ...,\n",
       "         -1.19338796e-01,  2.64783762e-02, -1.81964263e-01],\n",
       "        [ 2.70293295e-01,  2.52861619e-01,  1.99860856e-01, ...,\n",
       "         -5.34583628e-01, -4.48650897e-01,  1.10868856e-01]], dtype=float32),\n",
       " 'HK_G_037a_vis': array([[-0.22271894, -0.14493872,  0.25874904, ..., -0.2647534 ,\n",
       "         -0.1402    , -0.11036109],\n",
       "        [ 0.08047338, -0.12579249,  0.3069039 , ..., -0.4158709 ,\n",
       "         -0.2777531 , -0.03447833],\n",
       "        [ 0.10727159, -0.10288681,  0.1092096 , ..., -0.41397947,\n",
       "         -0.51456827, -0.02801033],\n",
       "        ...,\n",
       "        [-0.01916226, -0.05932643,  0.45969677, ..., -0.41257516,\n",
       "         -0.11818763, -0.03743082],\n",
       "        [-0.1197693 , -0.07730192,  0.38501254, ..., -0.39703795,\n",
       "         -0.2692531 , -0.15725872],\n",
       "        [ 0.1996674 , -0.24339107,  0.1578251 , ..., -0.39518118,\n",
       "         -0.40666774,  0.01773896]], dtype=float32),\n",
       " 'HK_G_039a_vis': array([[-0.04868381, -0.01502263,  0.387874  , ..., -0.27407   ,\n",
       "         -0.18971744, -0.03657435],\n",
       "        [-0.24122748,  0.11374881,  0.41451293, ..., -0.05614011,\n",
       "          0.09699824, -0.15940867],\n",
       "        [-0.30849737,  0.08557801,  0.4524118 , ..., -0.26043254,\n",
       "         -0.05429248, -0.09495587],\n",
       "        ...,\n",
       "        [-0.31829947, -0.06226764,  0.341343  , ..., -0.30866417,\n",
       "         -0.15412681, -0.24972117],\n",
       "        [-0.14768398, -0.09228738,  0.28489956, ..., -0.17737332,\n",
       "         -0.12796733, -0.17083952],\n",
       "        [-0.15678133,  0.08120878,  0.47188607, ..., -0.16191277,\n",
       "          0.05122884, -0.01564309]], dtype=float32),\n",
       " 'HK_G_040a_vbu': array([[-0.15564993,  0.04894006,  0.20882216, ..., -0.0918991 ,\n",
       "          0.08475333, -0.3525961 ],\n",
       "        [-0.26359442, -0.01503131,  0.22564976, ..., -0.12433931,\n",
       "          0.09888288, -0.30318615],\n",
       "        [-0.06144033,  0.20599203,  0.4381978 , ..., -0.34915924,\n",
       "         -0.0525058 ,  0.07816812],\n",
       "        ...,\n",
       "        [ 0.15753673, -0.00944622,  0.202164  , ..., -0.5139168 ,\n",
       "         -0.4402441 ,  0.0428961 ],\n",
       "        [-0.12057554,  0.04701101,  0.47316948, ..., -0.46397555,\n",
       "         -0.17484143,  0.01725823],\n",
       "        [-0.09624024,  0.02519904,  0.4264108 , ..., -0.27666217,\n",
       "         -0.25248694, -0.21576789]], dtype=float32),\n",
       " 'HK_G_041a_vis': array([[-0.19272333, -0.0691707 ,  0.28415266, ..., -0.42762187,\n",
       "         -0.3148019 , -0.11111792],\n",
       "        [-0.12828982, -0.03844605,  0.33284298, ..., -0.4058847 ,\n",
       "         -0.33341312, -0.17136319],\n",
       "        [ 0.21239196,  0.05533799,  0.25363952, ..., -0.5166843 ,\n",
       "         -0.38580298, -0.11383776],\n",
       "        ...,\n",
       "        [ 0.01509462, -0.07476985,  0.2501312 , ..., -0.39281538,\n",
       "         -0.40251797,  0.07334229],\n",
       "        [ 0.06733105,  0.07921033,  0.38646296, ..., -0.39624408,\n",
       "         -0.16837771,  0.14346361],\n",
       "        [ 0.1559048 ,  0.01482205,  0.36143562, ..., -0.47138333,\n",
       "         -0.21044612, -0.06353804]], dtype=float32),\n",
       " 'HK_G_042a_vis': array([[ 0.01913713,  0.0184454 ,  0.34525043, ..., -0.39767885,\n",
       "         -0.29983506, -0.07138488],\n",
       "        [ 0.04478745,  0.15451778,  0.43010545, ..., -0.3498458 ,\n",
       "         -0.09775415,  0.01401028],\n",
       "        [-0.26111665, -0.07575327,  0.48953763, ..., -0.34173006,\n",
       "         -0.13984242, -0.33809486],\n",
       "        ...,\n",
       "        [-0.22211371, -0.11786007,  0.42688334, ..., -0.19239466,\n",
       "         -0.06973349,  0.12071429],\n",
       "        [ 0.19025442, -0.12444427,  0.28273138, ..., -0.39066294,\n",
       "         -0.29596245, -0.01224485],\n",
       "        [-0.36005282, -0.03552718,  0.22688249, ..., -0.26316613,\n",
       "         -0.19537103, -0.23074858]], dtype=float32),\n",
       " 'HK_G_043a_vis': array([[-0.21728471,  0.02208039,  0.33699694, ..., -0.24856599,\n",
       "         -0.10402618, -0.27298832],\n",
       "        [-0.31611803, -0.07390378,  0.39092955, ..., -0.22663406,\n",
       "         -0.126714  , -0.37240556],\n",
       "        [-0.32163748, -0.02418192,  0.3109161 , ..., -0.07086433,\n",
       "          0.05831083, -0.36715347],\n",
       "        ...,\n",
       "        [ 0.09511565, -0.01878792,  0.34107357, ..., -0.5443207 ,\n",
       "         -0.33095756,  0.01489855],\n",
       "        [-0.21152097, -0.05696001,  0.33474103, ..., -0.28018603,\n",
       "         -0.3294649 , -0.05028972],\n",
       "        [ 0.09772203,  0.196067  ,  0.34073335, ..., -0.53329676,\n",
       "         -0.33450848,  0.02977586]], dtype=float32),\n",
       " 'HK_G_044b_vis': array([[-0.01349365,  0.01037674,  0.4294015 , ..., -0.28997377,\n",
       "         -0.2087049 , -0.10952004],\n",
       "        [-0.10612085,  0.00177216,  0.38473296, ..., -0.4286629 ,\n",
       "         -0.2549684 , -0.10183582],\n",
       "        [-0.30736288,  0.0604303 ,  0.29895636, ..., -0.09419537,\n",
       "          0.10375519, -0.42955422],\n",
       "        ...,\n",
       "        [-0.03844684,  0.08240082,  0.28062344, ..., -0.5072181 ,\n",
       "         -0.4055488 , -0.13852797],\n",
       "        [ 0.2187696 , -0.00431867,  0.20249143, ..., -0.54056454,\n",
       "         -0.5082163 , -0.07090347],\n",
       "        [ 0.02157695,  0.11709501,  0.05845969, ..., -0.16173984,\n",
       "          0.00934849, -0.23408093]], dtype=float32),\n",
       " 'HK_G_045a_vis': array([[-0.22597973,  0.01427152,  0.46195802, ..., -0.1580102 ,\n",
       "         -0.12304486, -0.28248638],\n",
       "        [ 0.2108122 ,  0.11857807,  0.28980097, ..., -0.5131701 ,\n",
       "         -0.32507676,  0.04256724],\n",
       "        [-0.41683027, -0.03559357,  0.3728435 , ..., -0.10895637,\n",
       "          0.01353966, -0.27637035],\n",
       "        ...,\n",
       "        [-0.00740436,  0.05478362,  0.39628565, ..., -0.43727228,\n",
       "         -0.16062088, -0.05858818],\n",
       "        [-0.20058705,  0.04009976,  0.36383343, ..., -0.41953948,\n",
       "         -0.2127384 ,  0.0423454 ],\n",
       "        [ 0.3106031 , -0.00433914,  0.20118938, ..., -0.5816027 ,\n",
       "         -0.43041748, -0.08057325]], dtype=float32),\n",
       " 'HK_G_046a_vis': array([[-2.2393861e-01, -9.7632326e-02,  3.0910903e-01, ...,\n",
       "         -2.5649008e-01, -1.5272400e-01, -2.8808454e-01],\n",
       "        [-3.1835318e-01, -5.4012734e-02,  3.7634450e-01, ...,\n",
       "         -1.6560771e-01, -1.0315649e-01, -2.1056530e-01],\n",
       "        [-2.4753182e-01, -1.8459404e-02,  3.5311642e-01, ...,\n",
       "         -3.7749475e-01, -3.7396953e-01, -6.8821356e-02],\n",
       "        ...,\n",
       "        [-4.1621965e-01, -5.7272083e-01,  3.6426175e-01, ...,\n",
       "          3.4479377e-01,  3.0955800e-01, -3.5537732e-01],\n",
       "        [ 1.4883126e-01, -4.7149960e-02,  1.9005029e-01, ...,\n",
       "         -5.2546167e-01, -4.4707882e-01,  2.5158728e-04],\n",
       "        [-1.1791250e-01, -3.2485988e-02,  2.8342262e-01, ...,\n",
       "         -2.5078052e-01, -2.6181942e-01,  3.5614431e-02]], dtype=float32),\n",
       " 'HK_G_047a_vis': array([[-0.08014719,  0.0226677 ,  0.38683406, ..., -0.45547077,\n",
       "         -0.20303065,  0.0350931 ],\n",
       "        [-0.24648541,  0.04048198,  0.2664573 , ..., -0.26297712,\n",
       "         -0.24758446,  0.00399087],\n",
       "        [ 0.03167073, -0.05216624,  0.19348897, ..., -0.43161196,\n",
       "         -0.44735575, -0.07595025],\n",
       "        ...,\n",
       "        [ 0.20879792,  0.14114872,  0.25307524, ..., -0.5615834 ,\n",
       "         -0.39529395, -0.12393145],\n",
       "        [-0.27814874, -0.04083267,  0.2853797 , ..., -0.2901719 ,\n",
       "         -0.30477586, -0.09112598],\n",
       "        [ 0.09548052, -0.11962387,  0.20562878, ..., -0.44987673,\n",
       "         -0.3828746 , -0.13531055]], dtype=float32),\n",
       " 'HK_G_048a_vis': array([[-0.13348904, -0.188363  ,  0.26564193, ..., -0.4012671 ,\n",
       "         -0.37777874, -0.06300398],\n",
       "        [-0.08422505,  0.0348499 ,  0.42059737, ..., -0.46741724,\n",
       "         -0.2934275 , -0.13853376],\n",
       "        [-0.00532443,  0.16241854,  0.34161872, ..., -0.5095077 ,\n",
       "         -0.24563009,  0.02531589],\n",
       "        ...,\n",
       "        [ 0.06051802,  0.03646233,  0.32511252, ..., -0.50720966,\n",
       "         -0.35528317, -0.12604834],\n",
       "        [ 0.1278869 ,  0.10933805,  0.28837582, ..., -0.5713167 ,\n",
       "         -0.35668245, -0.08012082],\n",
       "        [-0.073241  ,  0.03078321,  0.34420744, ..., -0.32958615,\n",
       "         -0.10332423, -0.2949553 ]], dtype=float32),\n",
       " 'HK_G_049a_vis': array([[-0.09013027, -0.00309674,  0.20020607, ..., -0.24828205,\n",
       "         -0.13737488, -0.24378312],\n",
       "        [ 0.03887169,  0.04378077,  0.27812016, ..., -0.56203717,\n",
       "         -0.38854167,  0.02534679],\n",
       "        [-0.26284784, -0.01983204,  0.27432755, ..., -0.18573229,\n",
       "         -0.06794617, -0.2500283 ],\n",
       "        ...,\n",
       "        [ 0.11067019,  0.03685749,  0.40892524, ..., -0.45063564,\n",
       "         -0.16158302,  0.01366218],\n",
       "        [-0.00228768, -0.01426031,  0.33486822, ..., -0.5554798 ,\n",
       "         -0.32970458, -0.16085926],\n",
       "        [-0.03040131, -0.05871537,  0.35074273, ..., -0.22926305,\n",
       "         -0.14818177, -0.09090441]], dtype=float32),\n",
       " 'HK_G_050a_vis': array([[ 0.12661743, -0.03221136,  0.19498523, ..., -0.5273717 ,\n",
       "         -0.506373  , -0.06474989],\n",
       "        [-0.03355125, -0.2660242 ,  0.3831878 , ..., -0.14795698,\n",
       "         -0.03900435, -0.14074998],\n",
       "        [ 0.24261981, -0.44948265,  0.01672592, ...,  0.1869379 ,\n",
       "          0.36592734,  0.07587311],\n",
       "        ...,\n",
       "        [-0.00860039,  0.05963831,  0.30974814, ..., -0.5314094 ,\n",
       "         -0.37334937,  0.01305206],\n",
       "        [ 0.00438753, -0.5650996 ,  0.04423712, ...,  0.12930907,\n",
       "          0.14336674,  0.05402929],\n",
       "        [ 0.12821329, -0.02672576,  0.18956205, ..., -0.5379031 ,\n",
       "         -0.51838017, -0.03725994]], dtype=float32),\n",
       " 'HK_G_051a_vis': array([[-0.2025364 ,  0.0015546 ,  0.40925816, ..., -0.27849567,\n",
       "         -0.23648569, -0.21672265],\n",
       "        [ 0.1893487 ,  0.01973551,  0.27678326, ..., -0.47123095,\n",
       "         -0.34975404, -0.01089088],\n",
       "        [-0.26796463,  0.01661537,  0.26124775, ..., -0.11881866,\n",
       "          0.01622862, -0.34922707],\n",
       "        ...,\n",
       "        [-0.01763746, -0.04268597,  0.2503854 , ..., -0.49325067,\n",
       "         -0.4192769 , -0.02148361],\n",
       "        [ 0.02591672, -0.06124193,  0.24369735, ..., -0.46709567,\n",
       "         -0.45060757, -0.16856574],\n",
       "        [ 0.11033636,  0.0148655 ,  0.2822852 , ..., -0.5152438 ,\n",
       "         -0.3870618 , -0.0670704 ]], dtype=float32),\n",
       " 'HK_G_052a_vis': array([[-0.08207595, -0.00155083,  0.20194958, ..., -0.2775487 ,\n",
       "         -0.22861004, -0.24401464],\n",
       "        [-0.18569456,  0.02662201,  0.28458405, ..., -0.18766084,\n",
       "          0.00881411, -0.33100945],\n",
       "        [-0.17148413, -0.02390546,  0.44038674, ..., -0.377887  ,\n",
       "         -0.17327206, -0.11317369],\n",
       "        ...,\n",
       "        [ 0.08394961, -0.16322884,  0.3430144 , ..., -0.2418328 ,\n",
       "         -0.08692005, -0.02194462],\n",
       "        [-0.32953033, -0.06703597,  0.3867327 , ..., -0.20106512,\n",
       "         -0.24952717, -0.06967227],\n",
       "        [-0.05294013, -0.12089647,  0.23596339, ..., -0.2969333 ,\n",
       "         -0.16520026, -0.01793455]], dtype=float32),\n",
       " 'HK_G_053a_vis': array([[-5.62398555e-03, -9.74087790e-02,  1.52278766e-01, ...,\n",
       "         -3.26738954e-01, -4.06964719e-01, -2.16397241e-01],\n",
       "        [ 2.11126059e-01,  1.25558302e-01,  2.53321737e-01, ...,\n",
       "         -5.83284914e-01, -3.83101970e-01,  8.02852213e-02],\n",
       "        [-7.96642974e-02,  7.99713191e-03,  1.13167234e-01, ...,\n",
       "         -2.19231308e-01,  1.93824351e-04, -3.59289676e-01],\n",
       "        ...,\n",
       "        [-2.27906093e-01, -2.60288641e-03,  3.64507198e-01, ...,\n",
       "         -3.17049235e-01, -1.09609753e-01, -8.14908445e-02],\n",
       "        [ 4.17061783e-02,  2.15043589e-01,  4.01915461e-01, ...,\n",
       "         -3.42548370e-01, -1.28980875e-02,  8.62291455e-02],\n",
       "        [ 2.04850677e-02,  1.63973078e-01,  5.83940931e-02, ...,\n",
       "         -1.94258094e-01,  2.48961933e-02, -2.05653340e-01]], dtype=float32),\n",
       " 'HK_G_054a_vis': array([[-0.13290861, -0.00101785,  0.08427674, ..., -0.1506044 ,\n",
       "         -0.03607618, -0.20780657],\n",
       "        [ 0.00620369,  0.09431888,  0.04769662, ..., -0.14677592,\n",
       "         -0.06326415, -0.24894719],\n",
       "        [-0.03638116,  0.03189915,  0.3407504 , ..., -0.4237616 ,\n",
       "         -0.33867046, -0.05095871],\n",
       "        ...,\n",
       "        [-0.19999754, -0.07535603,  0.30967867, ..., -0.27955717,\n",
       "         -0.17033306, -0.16847761],\n",
       "        [ 0.13091207, -0.3032997 ,  0.4247878 , ..., -0.42933628,\n",
       "         -0.10018395, -0.16789451],\n",
       "        [-0.10113785, -0.07083752,  0.2835769 , ..., -0.3031845 ,\n",
       "         -0.4169398 , -0.0241335 ]], dtype=float32),\n",
       " 'HK_G_055a_vis': array([[ 0.37730184, -0.29184765, -0.06278883, ..., -0.23839287,\n",
       "         -0.5183823 ,  0.21118443],\n",
       "        [-0.238298  , -0.03401739,  0.30839044, ..., -0.36389178,\n",
       "         -0.38409352, -0.07947866],\n",
       "        [-0.25007075,  0.05631889,  0.34059057, ..., -0.17225009,\n",
       "         -0.0940012 , -0.1987734 ],\n",
       "        ...,\n",
       "        [ 0.17289037, -0.03705867,  0.20873842, ..., -0.5325147 ,\n",
       "         -0.4663254 , -0.12787965],\n",
       "        [-0.2331696 ,  0.04407146,  0.318412  , ..., -0.30188513,\n",
       "         -0.19294284, -0.15376985],\n",
       "        [ 0.34773415, -0.16835478,  0.1473192 , ..., -0.48005146,\n",
       "         -0.38391113,  0.00902648]], dtype=float32),\n",
       " 'HK_G_056a_vis': array([[-0.34183347, -0.07398663,  0.24623515, ..., -0.20374197,\n",
       "         -0.1788267 , -0.37235683],\n",
       "        [ 0.17980209, -0.02841324,  0.18121305, ..., -0.5799516 ,\n",
       "         -0.45000032, -0.04975691],\n",
       "        [ 0.16321412,  0.12967461, -0.00639184, ..., -0.12976629,\n",
       "          0.06592746, -0.25629616],\n",
       "        ...,\n",
       "        [-0.17473578,  0.03547963,  0.33051467, ..., -0.12847044,\n",
       "          0.01033511, -0.36937255],\n",
       "        [ 0.0113014 , -0.03421912,  0.3005446 , ..., -0.4742498 ,\n",
       "         -0.41573262, -0.01467493],\n",
       "        [ 0.22549118, -0.03603069,  0.09583572, ..., -0.5447485 ,\n",
       "         -0.59571445,  0.04656821]], dtype=float32),\n",
       " 'HK_G_057a_vis': array([[-0.0685342 , -0.10544292,  0.41498005, ..., -0.46895853,\n",
       "         -0.25860935, -0.19617504],\n",
       "        [ 0.32447788, -0.03959887,  0.22181718, ..., -0.40366223,\n",
       "         -0.27610284, -0.03061928],\n",
       "        [-0.19987345, -0.02657605,  0.34282994, ..., -0.34082443,\n",
       "         -0.39241707,  0.03968317],\n",
       "        ...,\n",
       "        [ 0.00307006, -0.07626508,  0.09696858, ..., -0.31014243,\n",
       "         -0.3807956 ,  0.03168312],\n",
       "        [ 0.19468735, -0.0918616 ,  0.23112302, ..., -0.5284595 ,\n",
       "         -0.43165037, -0.12059717],\n",
       "        [ 0.13744958, -0.05930474,  0.12385742, ..., -0.51430106,\n",
       "         -0.49560702,  0.01360537]], dtype=float32),\n",
       " 'HK_G_058a_vis': array([[-0.347882  , -0.10893308,  0.38409826, ..., -0.25941062,\n",
       "         -0.17291108, -0.20438361],\n",
       "        [-0.33025086,  0.01431924,  0.36595795, ..., -0.25423044,\n",
       "          0.02309238, -0.2534551 ],\n",
       "        [-0.06159757, -0.09654578,  0.29748854, ..., -0.40839213,\n",
       "         -0.31296462, -0.04090538],\n",
       "        ...,\n",
       "        [-0.28720313, -0.02951735,  0.36406085, ..., -0.18815438,\n",
       "         -0.01538502, -0.4624667 ],\n",
       "        [-0.17030825, -0.04673369,  0.403     , ..., -0.3965728 ,\n",
       "         -0.27494994, -0.06171403],\n",
       "        [-0.28924492, -0.01541421,  0.29801497, ..., -0.37382457,\n",
       "         -0.0535625 , -0.18437189]], dtype=float32),\n",
       " 'HK_G_059b_vis': array([[ 0.6738    , -0.218645  , -0.11177382, ..., -0.21750207,\n",
       "         -0.7295511 ,  0.35970765],\n",
       "        [-0.08614944, -0.0773991 ,  0.3263669 , ..., -0.15154232,\n",
       "         -0.24380128,  0.1028068 ],\n",
       "        [-0.17511581,  0.09905775,  0.41018158, ..., -0.07645832,\n",
       "          0.03676894, -0.23525618],\n",
       "        ...,\n",
       "        [-0.35612547, -0.04825157,  0.30715546, ..., -0.2698587 ,\n",
       "         -0.18908861, -0.2082114 ],\n",
       "        [-0.09934832, -0.04247814,  0.32841256, ..., -0.3167028 ,\n",
       "         -0.26649064, -0.21579635],\n",
       "        [-0.09294813, -0.00475544,  0.2800204 , ..., -0.22649173,\n",
       "         -0.0693035 , -0.35903883]], dtype=float32),\n",
       " 'HK_G_060a_vis': array([[-0.04866675,  0.0665141 ,  0.41938627, ..., -0.32770625,\n",
       "         -0.23302443, -0.1454823 ],\n",
       "        [-0.05485649,  0.14674458,  0.30483368, ..., -0.5470418 ,\n",
       "         -0.2546471 , -0.00267718],\n",
       "        [-0.11722803,  0.04605728,  0.2888805 , ..., -0.34828085,\n",
       "         -0.31655586, -0.08856787],\n",
       "        ...,\n",
       "        [-0.05085483, -0.05579566,  0.3391922 , ..., -0.433486  ,\n",
       "         -0.40422785, -0.07671577],\n",
       "        [-0.05971465,  0.20456699,  0.3407795 , ..., -0.51904935,\n",
       "         -0.20116445,  0.02995384],\n",
       "        [ 0.09062946,  0.11203665,  0.31827962, ..., -0.48466432,\n",
       "         -0.36874074,  0.02683045]], dtype=float32),\n",
       " 'HK_G_062a_vis': array([[-0.10133681, -0.09797399,  0.25706854, ..., -0.46317762,\n",
       "         -0.33328485, -0.07563645],\n",
       "        [-0.00961002,  0.06669387,  0.3452885 , ..., -0.52041054,\n",
       "         -0.35439137, -0.11780775],\n",
       "        [-0.3209225 , -0.07446588,  0.31608534, ..., -0.22854094,\n",
       "         -0.0278021 , -0.3619972 ],\n",
       "        ...,\n",
       "        [-0.13679197,  0.13026798,  0.4581375 , ..., -0.3261329 ,\n",
       "          0.03898454, -0.01236758],\n",
       "        [ 0.0846664 , -0.04547625,  0.27137446, ..., -0.5337216 ,\n",
       "         -0.45228356, -0.07343341],\n",
       "        [-0.2254658 ,  0.06368943,  0.30929318, ..., -0.0753251 ,\n",
       "          0.12504932, -0.35068536]], dtype=float32),\n",
       " 'HK_G_063a_vis': array([[-0.26192203, -0.06454457,  0.290669  , ..., -0.26213157,\n",
       "         -0.06609117, -0.35648623],\n",
       "        [ 0.01028326,  0.0528699 ,  0.30398858, ..., -0.53852564,\n",
       "         -0.41729107,  0.0089003 ],\n",
       "        [ 0.10928189, -0.04460589,  0.19019431, ..., -0.42992765,\n",
       "         -0.37870353,  0.08889554],\n",
       "        ...,\n",
       "        [-0.22220689,  0.00221413,  0.38000098, ..., -0.29379198,\n",
       "         -0.04258534, -0.2676258 ],\n",
       "        [ 0.01404211,  0.10909118,  0.2975695 , ..., -0.5261244 ,\n",
       "         -0.4263686 , -0.01440125],\n",
       "        [-0.35428405,  0.02165179,  0.47400004, ..., -0.10466366,\n",
       "         -0.03943211, -0.33940348]], dtype=float32),\n",
       " 'HK_G_066a_vis': array([[-0.3038807 , -0.11538758,  0.30322418, ..., -0.26653683,\n",
       "         -0.12500504, -0.2578541 ],\n",
       "        [ 0.0601424 ,  0.02243483,  0.33971912, ..., -0.51078284,\n",
       "         -0.35705593, -0.06267072],\n",
       "        [-0.12557821, -0.04696584,  0.26363838, ..., -0.36783338,\n",
       "         -0.35294926, -0.03751939],\n",
       "        ...,\n",
       "        [ 0.10045909, -0.04057572,  0.252467  , ..., -0.5303945 ,\n",
       "         -0.3958004 , -0.07403878],\n",
       "        [-0.14341252,  0.00335852,  0.36464605, ..., -0.28939492,\n",
       "         -0.24310032, -0.10699364],\n",
       "        [-0.2191209 ,  0.05853599,  0.2671983 , ..., -0.13513786,\n",
       "          0.11358958, -0.4138967 ]], dtype=float32),\n",
       " 'HK_G_067a_vis': array([[-0.00622836, -0.07608081,  0.14732102, ..., -0.27185538,\n",
       "         -0.3388108 ,  0.1795859 ],\n",
       "        [-0.20130548,  0.03105507,  0.43750945, ..., -0.3132199 ,\n",
       "         -0.26680523, -0.18968067],\n",
       "        [-0.04665001, -0.07668651,  0.3465602 , ..., -0.42468905,\n",
       "         -0.3643444 , -0.08111528],\n",
       "        ...,\n",
       "        [-0.1489737 ,  0.12395394,  0.34770167, ..., -0.39629823,\n",
       "         -0.24750765,  0.01781348],\n",
       "        [-0.2776004 ,  0.03269194,  0.3846086 , ..., -0.35154527,\n",
       "         -0.23352727, -0.0032811 ],\n",
       "        [ 0.03766342,  0.15196945,  0.44042403, ..., -0.415055  ,\n",
       "         -0.15597402, -0.1485196 ]], dtype=float32),\n",
       " 'HK_G_070a_vis': array([[-0.34020326, -0.00429537,  0.29548237, ..., -0.11591647,\n",
       "         -0.05838438, -0.36772433],\n",
       "        [-0.09367847, -0.10574789,  0.18687616, ..., -0.3465475 ,\n",
       "         -0.41020152, -0.12220298],\n",
       "        [-0.1747294 ,  0.02921832,  0.21142907, ..., -0.07741588,\n",
       "          0.01116981, -0.30397716],\n",
       "        ...,\n",
       "        [-0.20385365,  0.00090805,  0.3314096 , ..., -0.20499927,\n",
       "          0.02936077, -0.36857626],\n",
       "        [-0.08651832, -0.07761248,  0.23058727, ..., -0.32161435,\n",
       "         -0.40740472, -0.10653456],\n",
       "        [ 0.18977863,  0.0435148 ,  0.21770813, ..., -0.5884857 ,\n",
       "         -0.5496738 , -0.16634059]], dtype=float32),\n",
       " 'HK_G_071a_vis': array([[-0.18500257, -0.1508722 ,  0.28116605, ..., -0.1780134 ,\n",
       "          0.00648621, -0.11801859],\n",
       "        [-0.2858623 ,  0.02576066,  0.37624887, ..., -0.27242115,\n",
       "         -0.04928533, -0.19445172],\n",
       "        [-0.00706804,  0.0087561 ,  0.06533648, ..., -0.1800285 ,\n",
       "         -0.11252823, -0.18496242],\n",
       "        ...,\n",
       "        [ 0.01920824,  0.05850235,  0.46681696, ..., -0.45055044,\n",
       "         -0.20779355, -0.16973576],\n",
       "        [-0.25361794, -0.00405491,  0.16469695, ..., -0.13449703,\n",
       "         -0.02857774, -0.30109942],\n",
       "        [ 0.02378204, -0.01784496,  0.3710941 , ..., -0.5206271 ,\n",
       "         -0.3361976 , -0.1115257 ]], dtype=float32),\n",
       " 'HK_G_072a_vis': array([[ 0.3000449 , -0.0759544 ,  0.07346707, ..., -0.51991326,\n",
       "         -0.49852115,  0.09099122],\n",
       "        [ 0.14926577, -0.09321798,  0.20052245, ..., -0.5084334 ,\n",
       "         -0.47984907, -0.08955506],\n",
       "        [ 0.2595523 , -0.11236385,  0.11321998, ..., -0.47764283,\n",
       "         -0.48053834,  0.0207386 ],\n",
       "        ...,\n",
       "        [-0.3030451 ,  0.01340645,  0.3084555 , ..., -0.38002548,\n",
       "         -0.26011607,  0.06133344],\n",
       "        [ 0.2998967 , -0.09990524,  0.07627317, ..., -0.4958369 ,\n",
       "         -0.6120264 , -0.06983204],\n",
       "        [-0.1428186 , -0.00692694,  0.21301006, ..., -0.21080692,\n",
       "         -0.00353132, -0.14154448]], dtype=float32),\n",
       " 'HK_G_080a_vis': array([[-0.25202465, -0.0195286 ,  0.3432398 , ..., -0.1927852 ,\n",
       "         -0.14130448, -0.28289142],\n",
       "        [-0.1310097 , -0.00290461,  0.30891532, ..., -0.28356272,\n",
       "         -0.25468895, -0.21538927],\n",
       "        [-0.23730496, -0.13180055,  0.28259456, ..., -0.34559977,\n",
       "         -0.15592358, -0.2177914 ],\n",
       "        ...,\n",
       "        [ 0.0696892 ,  0.13680676,  0.38616073, ..., -0.499922  ,\n",
       "         -0.24672662, -0.08517267],\n",
       "        [-0.08877822,  0.04685007,  0.28052902, ..., -0.36738724,\n",
       "         -0.23875338, -0.05843735],\n",
       "        [-0.17955568,  0.01377861,  0.29205632, ..., -0.2329548 ,\n",
       "         -0.2703992 , -0.1750385 ]], dtype=float32),\n",
       " 'HK_G_082b_vis': array([[-2.12049723e-01, -2.15651635e-02,  1.76871225e-01, ...,\n",
       "         -2.11353451e-01, -2.16092929e-01, -1.87875897e-01],\n",
       "        [ 4.85315453e-04, -1.07120842e-01,  2.86192179e-01, ...,\n",
       "         -4.64281559e-01, -3.57336819e-01, -1.34081483e-01],\n",
       "        [-1.96846366e-01,  2.12648641e-02,  2.27140486e-01, ...,\n",
       "         -1.66123971e-01,  4.81495894e-02, -4.03372228e-01],\n",
       "        ...,\n",
       "        [ 8.23940337e-02,  3.85758677e-03,  2.71652102e-01, ...,\n",
       "         -5.35581350e-01, -4.20153350e-01, -7.44545832e-02],\n",
       "        [ 1.37302965e-01, -6.92767277e-02,  2.24943414e-01, ...,\n",
       "         -4.47981358e-01, -4.55302447e-01,  1.83188971e-02],\n",
       "        [-1.03958264e-01, -9.33878347e-02,  3.37706178e-01, ...,\n",
       "         -5.00606716e-01, -3.77719909e-01, -1.02433279e-01]], dtype=float32),\n",
       " 'HK_G_083a_vis': array([[-0.20230067, -0.01263009,  0.22524975, ..., -0.22665705,\n",
       "         -0.1602465 , -0.24195834],\n",
       "        [-0.09832998,  0.04332633,  0.25775912, ..., -0.13336295,\n",
       "         -0.01834916, -0.27980015],\n",
       "        [-0.25028056, -0.01327077,  0.22555718, ..., -0.10180223,\n",
       "          0.06379919, -0.38335055],\n",
       "        ...,\n",
       "        [-0.16164215,  0.01099992,  0.20266035, ..., -0.2812086 ,\n",
       "         -0.12814486, -0.11060984],\n",
       "        [-0.33216593, -0.0274108 ,  0.26116917, ..., -0.09255728,\n",
       "          0.08154964, -0.43252403],\n",
       "        [-0.42497218, -0.12946852,  0.29419896, ..., -0.20552675,\n",
       "          0.06938002, -0.3102014 ]], dtype=float32),\n",
       " 'HK_G_084b_vis': array([[ 4.7562876e-01, -2.2407486e-01, -7.1511731e-02, ...,\n",
       "         -3.2050014e-01, -5.6119436e-01,  1.4493015e-01],\n",
       "        [-3.7388343e-02, -3.2769267e-02,  2.7858102e-01, ...,\n",
       "         -4.6944287e-01, -3.5153505e-01,  5.3411792e-04],\n",
       "        [-1.6204695e-01,  4.7921058e-02,  2.9980433e-01, ...,\n",
       "         -7.6137103e-02,  2.0821340e-02, -3.6231461e-01],\n",
       "        ...,\n",
       "        [-2.1748000e-01, -1.4220360e-02,  3.4908369e-01, ...,\n",
       "         -3.6504716e-01, -1.7673565e-01, -2.7562466e-01],\n",
       "        [-5.4249719e-02, -6.9505252e-02,  3.4662715e-01, ...,\n",
       "         -4.4859746e-01, -2.9890150e-01, -1.2585057e-01],\n",
       "        [-3.4461856e-01, -1.2344773e-01,  2.2067006e-01, ...,\n",
       "         -3.1033996e-01, -2.1219790e-01, -2.7154836e-01]], dtype=float32),\n",
       " 'HK_G_087a_vis': array([[-0.1152727 ,  0.01650235,  0.3215119 , ..., -0.14703552,\n",
       "         -0.06607424, -0.18631677],\n",
       "        [-0.37149262, -0.00678529,  0.45973232, ..., -0.17302044,\n",
       "         -0.06552949, -0.32923543],\n",
       "        [ 0.02036174,  0.05128269,  0.30727017, ..., -0.516264  ,\n",
       "         -0.37703896, -0.07209907],\n",
       "        ...,\n",
       "        [-0.40802974, -0.06631425,  0.3241217 , ..., -0.22655655,\n",
       "         -0.2520389 , -0.13783167],\n",
       "        [-0.18984744,  0.1370425 ,  0.38625064, ..., -0.46752036,\n",
       "         -0.19521403,  0.02039586],\n",
       "        [ 0.03457615, -0.04201654,  0.32569933, ..., -0.42298427,\n",
       "         -0.32751784, -0.0500514 ]], dtype=float32),\n",
       " 'HK_G_090b_vis': array([[-0.10706399, -0.02502833,  0.38945267, ..., -0.3356559 ,\n",
       "         -0.26312867,  0.04717243],\n",
       "        [ 0.16499308, -0.01810707,  0.2576296 , ..., -0.41341272,\n",
       "         -0.30087826,  0.0436501 ],\n",
       "        [ 0.09052188,  0.02194191,  0.35194016, ..., -0.44919482,\n",
       "         -0.30605364, -0.25323147],\n",
       "        ...,\n",
       "        [-0.31926987,  0.00139292,  0.57166624, ..., -0.22680572,\n",
       "         -0.03846633, -0.3068302 ],\n",
       "        [-0.11240635, -0.03500392,  0.25872722, ..., -0.31568083,\n",
       "         -0.32859838, -0.22628678],\n",
       "        [ 0.04472005, -0.01193576,  0.29251826, ..., -0.3267664 ,\n",
       "         -0.45046306, -0.09786552]], dtype=float32),\n",
       " 'HK_G_091a_vis': array([[ 0.23256484, -0.11284769,  0.09346628, ..., -0.4452188 ,\n",
       "         -0.47186008, -0.15762347],\n",
       "        [-0.07966518,  0.08481486,  0.2460194 , ..., -0.1209814 ,\n",
       "         -0.07045646, -0.3333505 ],\n",
       "        [-0.1103872 ,  0.05601577,  0.16725565, ..., -0.15633078,\n",
       "         -0.01278591, -0.30306795],\n",
       "        ...,\n",
       "        [ 0.09517819,  0.05264771,  0.3246536 , ..., -0.54586196,\n",
       "         -0.42305338, -0.08282921],\n",
       "        [-0.11939984,  0.06775744,  0.36584046, ..., -0.4467427 ,\n",
       "         -0.27529356, -0.09383681],\n",
       "        [ 0.06761605, -0.09043005,  0.23786242, ..., -0.44268155,\n",
       "         -0.5097093 , -0.10059999]], dtype=float32),\n",
       " 'HK_G_092b_vis': array([[-0.10273372, -0.04292648,  0.27934614, ..., -0.40853202,\n",
       "         -0.40980554,  0.07102568],\n",
       "        [-0.2305535 , -0.09109458,  0.37762508, ..., -0.3516939 ,\n",
       "         -0.2307579 , -0.23214988],\n",
       "        [-0.12013896, -0.22996628,  0.4180093 , ..., -0.27971217,\n",
       "         -0.103983  , -0.26720843],\n",
       "        ...,\n",
       "        [-0.15156822,  0.20214343,  0.51675934, ..., -0.30650005,\n",
       "         -0.18883239, -0.20922323],\n",
       "        [-0.12841663,  0.04541186,  0.31724983, ..., -0.44654277,\n",
       "         -0.21233673, -0.11298764],\n",
       "        [-0.4319557 ,  0.061634  ,  0.50282127, ..., -0.17353301,\n",
       "         -0.0345154 ,  0.01513131]], dtype=float32),\n",
       " 'HK_G_093a_vis': array([[-0.34450707,  0.07263804,  0.54704165, ..., -0.25287938,\n",
       "         -0.07543744, -0.06027351],\n",
       "        [-0.49256977, -0.11203324,  0.33720025, ..., -0.17587236,\n",
       "         -0.02466082, -0.20901169],\n",
       "        [-0.28049615, -0.00271456,  0.27956578, ..., -0.13843045,\n",
       "          0.0223119 , -0.3748272 ],\n",
       "        ...,\n",
       "        [-0.25359786,  0.0170501 ,  0.30737966, ..., -0.09984034,\n",
       "          0.00518819, -0.30492556],\n",
       "        [-0.29146382, -0.00463407,  0.496897  , ..., -0.21587306,\n",
       "         -0.03077879, -0.20661968],\n",
       "        [-0.24056487, -0.10330722,  0.31816015, ..., -0.2507281 ,\n",
       "         -0.21207182, -0.24216111]], dtype=float32),\n",
       " 'HK_G_095a_vb2': array([[ 7.5721435e-02,  1.3562414e-01,  7.3301807e-02, ...,\n",
       "         -1.3307132e-01,  2.4413772e-02, -2.8842595e-01],\n",
       "        [ 1.9981721e-01, -1.5179977e-01,  3.1567568e-01, ...,\n",
       "         -4.8434547e-01, -2.8726801e-01, -8.6469250e-04],\n",
       "        [-1.2497898e-01, -3.3264965e-01,  8.8233605e-02, ...,\n",
       "          2.6227988e-02,  3.1042591e-02, -1.0059047e-04],\n",
       "        ...,\n",
       "        [ 4.7136433e-02, -2.5467896e-01,  1.2008062e-01, ...,\n",
       "         -2.9656166e-01, -2.5865430e-01, -7.5534008e-02],\n",
       "        [-2.3764701e-01, -3.3281294e-01,  2.1190704e-01, ...,\n",
       "          5.6223795e-02,  1.3529471e-01, -2.3517238e-01],\n",
       "        [ 4.3165585e-01, -1.9119143e-01, -5.8395222e-02, ...,\n",
       "         -2.4793166e-01, -5.3452766e-01,  1.7864053e-01]], dtype=float32),\n",
       " 'HK_G_096b_vbu': array([[-0.19375874, -0.00258259,  0.4069702 , ..., -0.24967875,\n",
       "         -0.1773004 , -0.16276972],\n",
       "        [-0.04874882, -0.05012663,  0.40960836, ..., -0.44150338,\n",
       "         -0.21503174, -0.22971277],\n",
       "        [-0.19961014, -0.09026401,  0.28583276, ..., -0.31564   ,\n",
       "         -0.3173931 ,  0.0554285 ],\n",
       "        ...,\n",
       "        [-0.30371684,  0.02005565,  0.28838116, ..., -0.11808521,\n",
       "          0.11087345, -0.4105056 ],\n",
       "        [ 0.07722857, -0.01280154,  0.42771223, ..., -0.4698164 ,\n",
       "         -0.22626798, -0.05911726],\n",
       "        [-0.24708463, -0.03781958,  0.2391882 , ..., -0.1360318 ,\n",
       "         -0.00203095, -0.35908765]], dtype=float32),\n",
       " 'HK_G_098b_vis': array([[-0.06684431, -0.33099124,  0.26443124, ..., -0.43840894,\n",
       "         -0.2654378 , -0.17033142],\n",
       "        [ 0.2557143 , -0.06730031,  0.05328153, ..., -0.47597137,\n",
       "         -0.4703277 ,  0.16334523],\n",
       "        [-0.04443802,  0.08479015,  0.14365216, ..., -0.10786621,\n",
       "          0.07189821, -0.28255793],\n",
       "        ...,\n",
       "        [ 0.16000174,  0.03353937,  0.2647096 , ..., -0.5126369 ,\n",
       "         -0.37083218,  0.01695094],\n",
       "        [-0.01283686,  0.18071122,  0.31691712, ..., -0.4775077 ,\n",
       "         -0.2540796 , -0.07276579],\n",
       "        [-0.04275931,  0.07029924,  0.13408056, ..., -0.10228141,\n",
       "          0.07480761, -0.29296997]], dtype=float32),\n",
       " 'HK_G_101a_vis': array([[-0.1876187 ,  0.10849094,  0.38606685, ..., -0.05784404,\n",
       "          0.10795557, -0.29324824],\n",
       "        [-0.03503153,  0.04829898,  0.5814835 , ..., -0.32947883,\n",
       "          0.12008241,  0.02650823],\n",
       "        [-0.14092544, -0.02362414,  0.32518634, ..., -0.22684553,\n",
       "         -0.15201399, -0.10218512],\n",
       "        ...,\n",
       "        [-0.09626778,  0.11044488,  0.35171854, ..., -0.3620372 ,\n",
       "         -0.29572222,  0.10370272],\n",
       "        [-0.30169094, -0.05035098,  0.47033256, ..., -0.33885872,\n",
       "         -0.2423554 , -0.03095247],\n",
       "        [-0.35720593, -0.01664477,  0.4576491 , ..., -0.22874579,\n",
       "          0.04933863, -0.22892284]], dtype=float32),\n",
       " 'HK_G_104a_vis': array([[-0.14551441,  0.00766873,  0.20108637, ..., -0.10465264,\n",
       "          0.01404901, -0.3424921 ],\n",
       "        [ 0.17631751, -0.0391851 , -0.00470257, ..., -0.35635036,\n",
       "         -0.51071703,  0.17666386],\n",
       "        [ 0.06319588,  0.10086892,  0.29459813, ..., -0.49725953,\n",
       "         -0.28994918,  0.02434207],\n",
       "        ...,\n",
       "        [-0.1582581 ,  0.04071023,  0.22962144, ..., -0.07383761,\n",
       "          0.0445702 , -0.35816443],\n",
       "        [-0.21579921,  0.018185  ,  0.3810277 , ..., -0.37129766,\n",
       "         -0.29594812,  0.0376611 ],\n",
       "        [-0.19396141, -0.01528476,  0.23129468, ..., -0.13105662,\n",
       "          0.00898725, -0.21107261]], dtype=float32),\n",
       " 'HK_G_106a_vis': array([[-0.3243742 , -0.069722  ,  0.39120364, ..., -0.2680499 ,\n",
       "          0.00938579, -0.21194284],\n",
       "        [ 0.09376092, -0.11706281,  0.33179137, ..., -0.5643314 ,\n",
       "         -0.34352064, -0.08264588],\n",
       "        [ 0.00854371,  0.16910258,  0.3710262 , ..., -0.5005801 ,\n",
       "         -0.19291416, -0.1391213 ],\n",
       "        ...,\n",
       "        [-0.1460213 , -0.03651012,  0.27780586, ..., -0.27988344,\n",
       "         -0.14599605, -0.3437554 ],\n",
       "        [-0.08134077,  0.08504658,  0.4272668 , ..., -0.42643264,\n",
       "         -0.10196628, -0.01404678],\n",
       "        [-0.14821784,  0.00476258,  0.18315023, ..., -0.31725168,\n",
       "         -0.28594756, -0.1804072 ]], dtype=float32),\n",
       " 'HK_G_107a_vis': array([[-0.1159306 ,  0.03049312,  0.2012588 , ..., -0.16386627,\n",
       "         -0.06366719, -0.26764014],\n",
       "        [-0.01229558, -0.106117  ,  0.21433091, ..., -0.31420133,\n",
       "         -0.20044401, -0.12599021],\n",
       "        [ 0.24829002,  0.20647646,  0.22040145, ..., -0.51656085,\n",
       "         -0.4619837 ,  0.09375472],\n",
       "        ...,\n",
       "        [-0.11947277, -0.02689634,  0.31441137, ..., -0.45534542,\n",
       "         -0.42374465, -0.09251222],\n",
       "        [ 0.13987304,  0.19586883,  0.31005687, ..., -0.55072397,\n",
       "         -0.30251956,  0.01267928],\n",
       "        [-0.04282085, -0.06987589,  0.20071854, ..., -0.17619751,\n",
       "         -0.10376175, -0.16054155]], dtype=float32),\n",
       " 'HK_G_111b_vis': array([[-0.21112935,  0.03698719,  0.16500221, ..., -0.13848194,\n",
       "          0.07289775, -0.37043372],\n",
       "        [-0.24709946,  0.02258907,  0.42524135, ..., -0.13713355,\n",
       "          0.04801851, -0.22506088],\n",
       "        [-0.0386682 ,  0.00193532,  0.26265642, ..., -0.3971449 ,\n",
       "         -0.24503566,  0.01354054],\n",
       "        ...,\n",
       "        [-0.18928309,  0.06266359,  0.3521369 , ..., -0.21247444,\n",
       "         -0.06045053, -0.293781  ],\n",
       "        [-0.01202045, -0.01072076,  0.49101478, ..., -0.27967632,\n",
       "         -0.02407893, -0.23075473],\n",
       "        [-0.078523  , -0.00695648,  0.1287012 , ..., -0.4195408 ,\n",
       "         -0.4536246 , -0.05927278]], dtype=float32),\n",
       " 'HK_G_112a_vis': array([[-0.13944837, -0.19842887,  0.3060309 , ..., -0.3760364 ,\n",
       "         -0.3115546 , -0.04775234],\n",
       "        [-0.31177732,  0.01582813,  0.39153153, ..., -0.28020605,\n",
       "         -0.08311278, -0.1152093 ],\n",
       "        [-0.19377993,  0.03033538,  0.27040878, ..., -0.1087877 ,\n",
       "         -0.12071861, -0.2350952 ],\n",
       "        ...,\n",
       "        [ 0.09245173,  0.19631416,  0.33058402, ..., -0.5846818 ,\n",
       "         -0.3697279 , -0.0283493 ],\n",
       "        [-0.26620913, -0.01600282,  0.3282326 , ..., -0.32326087,\n",
       "         -0.21701992, -0.0984228 ],\n",
       "        [-0.11456718, -0.02243627,  0.2976952 , ..., -0.31290516,\n",
       "         -0.15012544, -0.21424793]], dtype=float32),\n",
       " 'HK_G_114a_vis': array([[-0.1690741 ,  0.02154163,  0.13767871, ..., -0.12719141,\n",
       "          0.02530232, -0.37271073],\n",
       "        [ 0.02471665,  0.06155652,  0.32634798, ..., -0.47164714,\n",
       "         -0.3144456 ,  0.00824429],\n",
       "        [ 0.1517535 ,  0.03496464,  0.17303786, ..., -0.5985484 ,\n",
       "         -0.4810055 , -0.00334577],\n",
       "        ...,\n",
       "        [-0.22382982, -0.08525521,  0.37701637, ..., -0.37390825,\n",
       "         -0.1510273 , -0.02464524],\n",
       "        [ 0.12201702,  0.11361647,  0.2763975 , ..., -0.59277475,\n",
       "         -0.3727763 ,  0.00418884],\n",
       "        [ 0.2565699 , -0.1168112 ,  0.08218838, ..., -0.46415552,\n",
       "         -0.46240985,  0.13749264]], dtype=float32),\n",
       " 'HK_G_115b_vis': array([[ 0.07982745,  0.22153945,  0.5375699 , ..., -0.36351514,\n",
       "          0.11721697,  0.02396224],\n",
       "        [ 0.02417104,  0.02367497,  0.26401308, ..., -0.45847142,\n",
       "         -0.38044968, -0.06101861],\n",
       "        [-0.29239053, -0.10069555,  0.3554536 , ..., -0.37387967,\n",
       "         -0.28455797, -0.21255644],\n",
       "        ...,\n",
       "        [ 0.0999295 ,  0.15828897,  0.41017896, ..., -0.4572064 ,\n",
       "         -0.17575093, -0.03531886],\n",
       "        [-0.21973768, -0.08319748,  0.40809894, ..., -0.233522  ,\n",
       "         -0.19092883, -0.17785692],\n",
       "        [-0.1932614 , -0.027579  ,  0.29097825, ..., -0.17602855,\n",
       "         -0.12339409, -0.22091463]], dtype=float32)}"
      ]
     },
     "execution_count": 4,
     "metadata": {},
     "output_type": "execute_result"
    }
   ],
   "source": [
    "dict_emb_test"
   ]
  },
  {
   "cell_type": "code",
   "execution_count": 6,
   "id": "0ce2117d-1201-4a54-bb8a-a39cd8de96c2",
   "metadata": {},
   "outputs": [],
   "source": [
    "import pickle"
   ]
  },
  {
   "cell_type": "code",
   "execution_count": 8,
   "id": "2c9cc311-29af-40ba-9087-3e07acb75e3b",
   "metadata": {},
   "outputs": [],
   "source": [
    "with open(\"novae_emb_dict.pkl\",\"wb\") as f :\n",
    "    pickle.dump(dict_emb_test,f)"
   ]
  },
  {
   "cell_type": "code",
   "execution_count": 10,
   "id": "9b0b1842-fbd9-4863-a3ef-77bb2be0edda",
   "metadata": {},
   "outputs": [
    {
     "name": "stdout",
     "output_type": "stream",
     "text": [
      "(1462, 64)\n",
      "(4467, 64)\n",
      "(2876, 64)\n",
      "(2237, 64)\n",
      "(3589, 64)\n",
      "(4832, 64)\n",
      "(4773, 64)\n",
      "(4672, 64)\n",
      "(4583, 64)\n",
      "(2771, 64)\n",
      "(3166, 64)\n",
      "(3209, 64)\n",
      "(3500, 64)\n",
      "(1472, 64)\n",
      "(2464, 64)\n",
      "(3233, 64)\n",
      "(4401, 64)\n",
      "(3604, 64)\n",
      "(2712, 64)\n",
      "(3846, 64)\n",
      "(4095, 64)\n",
      "(2236, 64)\n",
      "(4663, 64)\n",
      "(4576, 64)\n",
      "(4240, 64)\n",
      "(4480, 64)\n",
      "(4829, 64)\n",
      "(2900, 64)\n",
      "(4502, 64)\n",
      "(4522, 64)\n",
      "(2391, 64)\n",
      "(3856, 64)\n",
      "(4672, 64)\n",
      "(4175, 64)\n",
      "(4692, 64)\n",
      "(3808, 64)\n",
      "(4513, 64)\n",
      "(2732, 64)\n",
      "(4656, 64)\n",
      "(2174, 64)\n",
      "(3708, 64)\n",
      "(4395, 64)\n",
      "(4866, 64)\n",
      "(4783, 64)\n",
      "(4362, 64)\n",
      "(4474, 64)\n",
      "(4247, 64)\n",
      "(2529, 64)\n",
      "(3295, 64)\n",
      "(3446, 64)\n",
      "(4939, 64)\n",
      "(3750, 64)\n",
      "(4355, 64)\n",
      "(4880, 64)\n",
      "(1254, 64)\n",
      "(2988, 64)\n",
      "(4256, 64)\n",
      "(4730, 64)\n",
      "(4349, 64)\n",
      "(3315, 64)\n",
      "(4520, 64)\n",
      "(4662, 64)\n",
      "(3554, 64)\n",
      "(3923, 64)\n",
      "(2252, 64)\n",
      "(4564, 64)\n",
      "(4860, 64)\n",
      "(2702, 64)\n",
      "(3593, 64)\n",
      "(2961, 64)\n",
      "(4760, 64)\n",
      "(3643, 64)\n",
      "(1692, 64)\n",
      "(4524, 64)\n",
      "(1388, 64)\n",
      "(3152, 64)\n",
      "(4350, 64)\n",
      "(3653, 64)\n",
      "(4819, 64)\n",
      "(4546, 64)\n",
      "(4211, 64)\n",
      "(4177, 64)\n",
      "(4796, 64)\n",
      "(4578, 64)\n",
      "(4170, 64)\n",
      "(2570, 64)\n"
     ]
    }
   ],
   "source": [
    "for value in dict_emb_test.values():\n",
    "    print(value.shape)"
   ]
  },
  {
   "cell_type": "code",
   "execution_count": 14,
   "id": "8909cd52-98b6-462b-b9bc-73f1151cbb17",
   "metadata": {},
   "outputs": [
    {
     "ename": "KeyError",
     "evalue": "0",
     "output_type": "error",
     "traceback": [
      "\u001b[0;31m---------------------------------------------------------------------------\u001b[0m",
      "\u001b[0;31mKeyError\u001b[0m                                  Traceback (most recent call last)",
      "Cell \u001b[0;32mIn[14], line 2\u001b[0m\n\u001b[1;32m      1\u001b[0m \u001b[38;5;28;01mfor\u001b[39;00m i \u001b[38;5;129;01min\u001b[39;00m \u001b[38;5;28mrange\u001b[39m (\u001b[38;5;28mlen\u001b[39m(dict_emb_test)):\n\u001b[0;32m----> 2\u001b[0m     novae\u001b[38;5;241m.\u001b[39mplot\u001b[38;5;241m.\u001b[39mdomains(\u001b[43mdict_emb_test\u001b[49m\u001b[43m[\u001b[49m\u001b[43mi\u001b[49m\u001b[43m]\u001b[49m,cell_size\u001b[38;5;241m=\u001b[39m\u001b[38;5;241m200\u001b[39m)\n",
      "\u001b[0;31mKeyError\u001b[0m: 0"
     ]
    }
   ],
   "source": [
    "for i in range (len(dict_emb_test)):\n",
    "    novae.plot.domains(dict_emb_test[i],cell_size=200)"
   ]
  },
  {
   "cell_type": "code",
   "execution_count": 12,
   "id": "7cd54290-7037-4108-8231-83113a9be2be",
   "metadata": {},
   "outputs": [],
   "source": [
    "import novae"
   ]
  },
  {
   "cell_type": "code",
   "execution_count": 17,
   "id": "2835795d-9a6d-4ee7-a7e8-099bbafb042c",
   "metadata": {},
   "outputs": [
    {
     "name": "stdout",
     "output_type": "stream",
     "text": [
      "Key HK_G_001a_vis\n",
      "Key HK_G_002a_vis\n",
      "Key HK_G_003a_vis\n",
      "Key HK_G_004a_vis\n",
      "Key HK_G_005a_vis\n",
      "Key HK_G_006a_vis\n",
      "Key HK_G_007a_vis\n",
      "Key HK_G_008a_vis\n",
      "Key HK_G_009a_vis\n",
      "Key HK_G_010a_vis\n",
      "Key HK_G_011a_vis\n",
      "Key HK_G_012a_vis\n",
      "Key HK_G_013a_vis\n",
      "Key HK_G_014a_vis\n",
      "Key HK_G_015a_vis\n",
      "Key HK_G_016a_vis\n",
      "Key HK_G_017b_vis\n",
      "Key HK_G_018a_vis\n",
      "Key HK_G_019a_vis\n",
      "Key HK_G_020a_vis\n",
      "Key HK_G_021a_vis\n",
      "Key HK_G_022a_vis\n",
      "Key HK_G_023a_vis\n",
      "Key HK_G_024a_vis\n",
      "Key HK_G_025a_vis\n",
      "Key HK_G_026a_vis\n",
      "Key HK_G_027a_vis\n",
      "Key HK_G_028a_vis\n",
      "Key HK_G_029b_vis\n",
      "Key HK_G_030a_vis\n",
      "Key HK_G_031a_vis\n",
      "Key HK_G_032a_vis\n",
      "Key HK_G_033a_vis\n",
      "Key HK_G_034a_vbu\n",
      "Key HK_G_035a_vis\n",
      "Key HK_G_036b_vis\n",
      "Key HK_G_037a_vis\n",
      "Key HK_G_039a_vis\n",
      "Key HK_G_040a_vbu\n",
      "Key HK_G_041a_vis\n",
      "Key HK_G_042a_vis\n",
      "Key HK_G_043a_vis\n",
      "Key HK_G_044b_vis\n",
      "Key HK_G_045a_vis\n",
      "Key HK_G_046a_vis\n",
      "Key HK_G_047a_vis\n",
      "Key HK_G_048a_vis\n",
      "Key HK_G_049a_vis\n",
      "Key HK_G_050a_vis\n",
      "Key HK_G_051a_vis\n",
      "Key HK_G_052a_vis\n",
      "Key HK_G_053a_vis\n",
      "Key HK_G_054a_vis\n",
      "Key HK_G_055a_vis\n",
      "Key HK_G_056a_vis\n",
      "Key HK_G_057a_vis\n",
      "Key HK_G_058a_vis\n",
      "Key HK_G_059b_vis\n",
      "Key HK_G_060a_vis\n",
      "Key HK_G_062a_vis\n",
      "Key HK_G_063a_vis\n",
      "Key HK_G_066a_vis\n",
      "Key HK_G_067a_vis\n",
      "Key HK_G_070a_vis\n",
      "Key HK_G_071a_vis\n",
      "Key HK_G_072a_vis\n",
      "Key HK_G_080a_vis\n",
      "Key HK_G_082b_vis\n",
      "Key HK_G_083a_vis\n",
      "Key HK_G_084b_vis\n",
      "Key HK_G_087a_vis\n",
      "Key HK_G_090b_vis\n",
      "Key HK_G_091a_vis\n",
      "Key HK_G_092b_vis\n",
      "Key HK_G_093a_vis\n",
      "Key HK_G_095a_vb2\n",
      "Key HK_G_096b_vbu\n",
      "Key HK_G_098b_vis\n",
      "Key HK_G_101a_vis\n",
      "Key HK_G_104a_vis\n",
      "Key HK_G_106a_vis\n",
      "Key HK_G_107a_vis\n",
      "Key HK_G_111b_vis\n",
      "Key HK_G_112a_vis\n",
      "Key HK_G_114a_vis\n",
      "Key HK_G_115b_vis\n"
     ]
    }
   ],
   "source": [
    "for i in dict_emb_test.keys():\n",
    " print(\"Key\"+\" \"+i)\n",
    "novae.plot.domains(one_visium_file,cell_size=200)\n"
   ]
  },
  {
   "cell_type": "code",
   "execution_count": 16,
   "id": "3d4178a4-4569-449d-b0fa-20311e9fd0a7",
   "metadata": {},
   "outputs": [
    {
     "ename": "KeyError",
     "evalue": "0",
     "output_type": "error",
     "traceback": [
      "\u001b[0;31m---------------------------------------------------------------------------\u001b[0m",
      "\u001b[0;31mKeyError\u001b[0m                                  Traceback (most recent call last)",
      "Cell \u001b[0;32mIn[16], line 1\u001b[0m\n\u001b[0;32m----> 1\u001b[0m \u001b[43mdict_emb_test\u001b[49m\u001b[43m[\u001b[49m\u001b[38;5;241;43m0\u001b[39;49m\u001b[43m]\u001b[49m\n",
      "\u001b[0;31mKeyError\u001b[0m: 0"
     ]
    }
   ],
   "source": [
    "dict_emb_test[0]"
   ]
  },
  {
   "cell_type": "code",
   "execution_count": null,
   "id": "db79fbdb-3b26-4718-87c1-20783e42e821",
   "metadata": {},
   "outputs": [],
   "source": []
  }
 ],
 "metadata": {
  "kernelspec": {
   "display_name": "conda_gbmhackathon",
   "language": "python",
   "name": "conda_gbmhackathon"
  },
  "language_info": {
   "codemirror_mode": {
    "name": "ipython",
    "version": 3
   },
   "file_extension": ".py",
   "mimetype": "text/x-python",
   "name": "python",
   "nbconvert_exporter": "python",
   "pygments_lexer": "ipython3",
   "version": "3.10.16"
  }
 },
 "nbformat": 4,
 "nbformat_minor": 5
}
