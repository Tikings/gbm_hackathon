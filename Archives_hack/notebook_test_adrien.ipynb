{
 "cells": [
  {
   "cell_type": "code",
   "execution_count": 1,
   "id": "03772216-b949-40ed-af81-1823d7d8dd00",
   "metadata": {},
   "outputs": [
    {
     "name": "stderr",
     "output_type": "stream",
     "text": [
      "Downloading data from `https://omnipathdb.org/queries/enzsub?format=json`\n",
      "Downloading data from `https://omnipathdb.org/queries/interactions?format=json`\n",
      "Downloading data from `https://omnipathdb.org/queries/complexes?format=json`\n",
      "Downloading data from `https://omnipathdb.org/queries/annotations?format=json`\n",
      "Downloading data from `https://omnipathdb.org/queries/intercell?format=json`\n",
      "Downloading data from `https://omnipathdb.org/about?format=text`\n"
     ]
    }
   ],
   "source": [
    "#!pip install transformers\n",
    "#!pip install tiffslide\n",
    "import utils_gbm\n",
    "import pickle as pkl\n",
    "import torch"
   ]
  },
  {
   "cell_type": "code",
   "execution_count": 2,
   "id": "7c3d48fc-e0b2-4ae2-a231-906d1b896760",
   "metadata": {},
   "outputs": [],
   "source": [
    "from gbmhackathon import MosaicDataset\n",
    "source_dict_mosaic = MosaicDataset.load_tabular()\n",
    "dict_he=source_dict_mosaic[\"he\"] ## source_dict_mosaic[\"he\"]=dict_keys(['HE files', 'H1 features'])\n",
    "HE_files,H1_features=dict_he[\"HE files\"], dict_he[\"H1 features\"]\n"
   ]
  },
  {
   "cell_type": "code",
   "execution_count": 3,
   "id": "6dd4e3a7-bead-4769-a50f-bac2fd35cc50",
   "metadata": {},
   "outputs": [
    {
     "name": "stdout",
     "output_type": "stream",
     "text": [
      "                                                         path patient id\n",
      "Subject Id                                                              \n",
      "HK_G_001a   /home/ec2-user/SageMaker/data/h1_bioptimus_fea...   HK_G_001\n",
      "HK_G_002a   /home/ec2-user/SageMaker/data/h1_bioptimus_fea...   HK_G_002\n",
      "HK_G_003a   /home/ec2-user/SageMaker/data/h1_bioptimus_fea...   HK_G_003\n",
      "HK_G_004a   /home/ec2-user/SageMaker/data/h1_bioptimus_fea...   HK_G_004\n",
      "HK_G_005a   /home/ec2-user/SageMaker/data/h1_bioptimus_fea...   HK_G_005\n",
      "...                                                       ...        ...\n",
      "HK_G_107a   /home/ec2-user/SageMaker/data/h1_bioptimus_fea...   HK_G_107\n",
      "HK_G_111b   /home/ec2-user/SageMaker/data/h1_bioptimus_fea...   HK_G_111\n",
      "HK_G_112a   /home/ec2-user/SageMaker/data/h1_bioptimus_fea...   HK_G_112\n",
      "HK_G_114a   /home/ec2-user/SageMaker/data/h1_bioptimus_fea...   HK_G_114\n",
      "HK_G_115b   /home/ec2-user/SageMaker/data/h1_bioptimus_fea...   HK_G_115\n",
      "\n",
      "[81 rows x 2 columns]\n"
     ]
    }
   ],
   "source": [
    "print(H1_features) \n",
    "\n"
   ]
  },
  {
   "cell_type": "code",
   "execution_count": 4,
   "id": "d44c55a4-027b-4ca3-a91f-eb0ccca716f8",
   "metadata": {},
   "outputs": [
    {
     "name": "stderr",
     "output_type": "stream",
     "text": [
      "Using a slow image processor as `use_fast` is unset and a slow processor was saved with this model. `use_fast=True` will be the default behavior in v4.48, even if the model was saved with a slow processor. This will result in minor differences in outputs. You'll still be able to use a slow processor with `use_fast=False`.\n"
     ]
    }
   ],
   "source": [
    "with open(\"novae_emb_dict.pkl\", \"rb\") as f:\n",
    "    emb_novae = pkl.load(f)\n",
    "with open(\"dict_embedding_c.pkl\", \"rb\") as f:\n",
    "    emb_c = pkl.load(f)\n",
    "dset=utils_gbm.custom_dataset(HE_files,torch.load(\"tenseur_embedding_phitonv2.pt\"),emb_novae,emb_c) \n"
   ]
  },
  {
   "cell_type": "code",
   "execution_count": 5,
   "id": "e0f8b0b1-8320-40ae-b7eb-cb98b9554a11",
   "metadata": {},
   "outputs": [
    {
     "name": "stdout",
     "output_type": "stream",
     "text": [
      "33\n",
      "38\n",
      "64\n",
      "73\n",
      "75\n",
      "76\n",
      "79\n"
     ]
    }
   ],
   "source": [
    "for i in range(80) : \n",
    "    \n",
    "    if dset.__getitem__(i) is None : \n",
    "        print(i)\n"
   ]
  },
  {
   "cell_type": "code",
   "execution_count": 6,
   "id": "1d778053-73e9-4254-8a0b-336e405f5d86",
   "metadata": {},
   "outputs": [
    {
     "data": {
      "text/plain": [
       "dict_keys(['HK_G_001a', 'HK_G_002a', 'HK_G_003a', 'HK_G_004a', 'HK_G_005a', 'HK_G_006a', 'HK_G_007a', 'HK_G_008a', 'HK_G_009a', 'HK_G_010a', 'HK_G_011a', 'HK_G_012a', 'HK_G_013a', 'HK_G_014a', 'HK_G_015a', 'HK_G_016a', 'HK_G_017b', 'HK_G_018a', 'HK_G_019a', 'HK_G_020a', 'HK_G_021a', 'HK_G_022a', 'HK_G_023a', 'HK_G_024a', 'HK_G_025a', 'HK_G_026a', 'HK_G_027a', 'HK_G_028a', 'HK_G_029b', 'HK_G_030a', 'HK_G_031a', 'HK_G_032a', 'HK_G_033a', 'HK_G_034a', 'HK_G_035a', 'HK_G_036b', 'HK_G_037a', 'HK_G_038a', 'HK_G_039a', 'HK_G_040a', 'HK_G_041a', 'HK_G_042a', 'HK_G_043a', 'HK_G_044b', 'HK_G_045a', 'HK_G_046a', 'HK_G_047a', 'HK_G_048a', 'HK_G_049a', 'HK_G_050a', 'HK_G_051a', 'HK_G_052a', 'HK_G_053a', 'HK_G_054a', 'HK_G_055a', 'HK_G_056a', 'HK_G_057a', 'HK_G_058a', 'HK_G_059b', 'HK_G_060a', 'HK_G_061b', 'HK_G_062a', 'HK_G_063a', 'HK_G_064a', 'HK_G_065a', 'HK_G_066a', 'HK_G_067a', 'HK_G_068a', 'HK_G_069a', 'HK_G_070a', 'HK_G_072a', 'HK_G_073a', 'HK_G_075a', 'HK_G_076a', 'HK_G_078a', 'HK_G_079b', 'HK_G_080a', 'HK_G_081a', 'HK_G_082b', 'HK_G_083a', 'HK_G_084b', 'HK_G_086b', 'HK_G_087a', 'HK_G_088a', 'HK_G_089a', 'HK_G_090b', 'HK_G_091a', 'HK_G_093a', 'HK_G_094a', 'HK_G_095a', 'HK_G_096b', 'HK_G_098b', 'HK_G_099a', 'HK_G_100b', 'HK_G_101a', 'HK_G_102a', 'HK_G_105b', 'HK_G_106a', 'HK_G_107a', 'HK_G_108a', 'HK_G_109b', 'HK_G_110a', 'HK_G_111b', 'HK_G_112a', 'HK_G_113b', 'HK_G_114a', 'HK_G_115b'])"
      ]
     },
     "execution_count": 6,
     "metadata": {},
     "output_type": "execute_result"
    }
   ],
   "source": [
    "emb_c.keys()"
   ]
  },
  {
   "cell_type": "code",
   "execution_count": 7,
   "id": "3d861d7a-20b5-4a26-9b4d-9a5342bfbc68",
   "metadata": {},
   "outputs": [],
   "source": [
    "from torch.utils.data import DataLoader"
   ]
  },
  {
   "cell_type": "code",
   "execution_count": 8,
   "id": "78f6daad-ae22-438a-9ed7-81a64b1c71f0",
   "metadata": {},
   "outputs": [],
   "source": [
    "dloader=DataLoader(dset,collate_fn=utils_gbm.custom_collate_fn,batch_size=4) "
   ]
  },
  {
   "cell_type": "code",
   "execution_count": 9,
   "id": "33761e90-3be1-4ae0-ba13-3718db968148",
   "metadata": {},
   "outputs": [
    {
     "data": {
      "text/plain": [
       "<torch.utils.data.dataloader.DataLoader at 0x7f657a418e80>"
      ]
     },
     "execution_count": 9,
     "metadata": {},
     "output_type": "execute_result"
    }
   ],
   "source": [
    "dloader"
   ]
  },
  {
   "cell_type": "code",
   "execution_count": 10,
   "id": "02518df8-6aff-4b67-9407-601eeec724b5",
   "metadata": {},
   "outputs": [
    {
     "data": {
      "text/plain": [
       "[('HK_G_001a',\n",
       "  tensor([ 0.1128, -0.3456, -0.0970,  ...,  0.1700,  0.2618, -0.1506]),\n",
       "  array([[-0.31912524, -0.11272641,  0.2837144 , ..., -0.09955969,\n",
       "           0.03288715, -0.36776334],\n",
       "         [-0.3330066 , -0.03813721,  0.26050317, ..., -0.15780449,\n",
       "           0.03129857, -0.29435375],\n",
       "         [ 0.12384544,  0.11602774,  0.44294336, ..., -0.402109  ,\n",
       "          -0.19718835, -0.04662852],\n",
       "         ...,\n",
       "         [-0.23171404, -0.13475265,  0.3546657 , ..., -0.05644633,\n",
       "           0.12796688, -0.40540335],\n",
       "         [ 0.34226498,  0.10448818,  0.3366263 , ..., -0.48089442,\n",
       "          -0.24782735, -0.01127741],\n",
       "         [-0.34072948, -0.00999007,  0.27253863, ..., -0.10768241,\n",
       "           0.00071271, -0.33029935]], dtype=float32),\n",
       "  tensor([ 0.2964, -0.3047, -0.4976,  0.1129, -0.3132,  0.2259, -0.3958, -0.5512,\n",
       "           0.3165,  0.1710,  0.3456,  0.1055,  0.2759, -0.1251,  0.4415,  0.3482,\n",
       "          -0.0402,  0.2798,  0.1872, -0.3473, -0.2127,  0.0388,  0.0254,  0.2111,\n",
       "          -0.0251, -0.2525,  0.2501,  0.2088, -0.0543, -0.1255, -0.2218,  0.2183,\n",
       "          -0.1706, -0.1604,  0.0552, -0.0709,  0.2370, -0.5587,  0.1100, -0.0372,\n",
       "           0.1662, -0.0266,  0.0750,  0.0851, -0.4250, -0.0588,  0.0942,  0.5375,\n",
       "           0.0053, -0.4642, -0.2608, -0.0246, -0.0895, -0.2642, -0.0520,  0.0118,\n",
       "           0.1032, -0.2549, -0.0042,  0.2019, -0.2554, -0.0761,  0.4141, -0.2248])),\n",
       " ('HK_G_002a',\n",
       "  tensor([ 0.0158, -0.4350, -0.0512,  ...,  0.0176,  0.0971, -0.1793]),\n",
       "  array([[-0.26963663, -0.07992981,  0.18574283, ..., -0.10479557,\n",
       "          -0.04408744, -0.3014545 ],\n",
       "         [-0.17910966,  0.03044075,  0.2845866 , ..., -0.32706526,\n",
       "          -0.30947345, -0.17104314],\n",
       "         [-0.11633328,  0.00402572,  0.19869089, ..., -0.1756422 ,\n",
       "          -0.13632794, -0.2201111 ],\n",
       "         ...,\n",
       "         [-0.14454857, -0.06002745,  0.50040203, ..., -0.27434903,\n",
       "          -0.11132917, -0.2492834 ],\n",
       "         [ 0.1829515 ,  0.11039772,  0.3206059 , ..., -0.59091634,\n",
       "          -0.34532675, -0.07920092],\n",
       "         [-0.26498356, -0.03830179,  0.29613155, ..., -0.3105328 ,\n",
       "          -0.2623565 , -0.21343684]], dtype=float32),\n",
       "  tensor([ 0.2703, -0.1387, -0.2117, -0.0130, -0.3170,  0.1876, -0.3479, -0.3871,\n",
       "           0.3130,  0.0504,  0.3149,  0.0023,  0.3142, -0.0746,  0.3272,  0.3854,\n",
       "          -0.0490,  0.1860,  0.2198, -0.2298, -0.2629, -0.0301, -0.0097,  0.1835,\n",
       "          -0.1038, -0.0617,  0.1098,  0.1860, -0.0619, -0.0831, -0.1648,  0.2986,\n",
       "          -0.1152, -0.0891,  0.0441, -0.1128,  0.1171, -0.4084,  0.0857,  0.0875,\n",
       "           0.2490, -0.0183,  0.0967,  0.1229, -0.3334, -0.1165,  0.1304,  0.3754,\n",
       "           0.1247, -0.3377, -0.1228, -0.0891, -0.2030, -0.2402, -0.0451,  0.0962,\n",
       "           0.0580, -0.1559, -0.0068,  0.2075, -0.2834,  0.1179,  0.2869, -0.2090])),\n",
       " ('HK_G_003a',\n",
       "  tensor([ 0.0783, -0.4527, -0.0748,  ...,  0.0886,  0.3966, -0.2469]),\n",
       "  array([[-0.07345605,  0.04206056,  0.23294738, ..., -0.4877375 ,\n",
       "          -0.45329142, -0.09175935],\n",
       "         [ 0.31232038, -0.14074647,  0.13668586, ..., -0.5013189 ,\n",
       "          -0.4230754 ,  0.08153956],\n",
       "         [-0.21747524, -0.00888796,  0.194518  , ..., -0.1937425 ,\n",
       "          -0.02645611, -0.3360787 ],\n",
       "         ...,\n",
       "         [ 0.09168355, -0.1061569 ,  0.30709207, ..., -0.41053241,\n",
       "          -0.2593102 , -0.03423549],\n",
       "         [ 0.37964705,  0.07252906,  0.26856306, ..., -0.5286469 ,\n",
       "          -0.29828358,  0.05611388],\n",
       "         [ 0.35928184, -0.156446  ,  0.02809498, ..., -0.3721546 ,\n",
       "          -0.5141338 ,  0.09032366]], dtype=float32),\n",
       "  tensor([ 0.2423, -0.0601, -0.1108, -0.0152, -0.1432, -0.0508, -0.1940, -0.1714,\n",
       "           0.2495, -0.0383,  0.1690, -0.0650,  0.2324, -0.1142,  0.2106,  0.2041,\n",
       "           0.0135,  0.1273,  0.0680, -0.0745, -0.0788, -0.0632,  0.0157,  0.0650,\n",
       "           0.0565,  0.0834,  0.1378,  0.0592,  0.0700, -0.1706, -0.2404,  0.1720,\n",
       "          -0.1237, -0.0530,  0.0111, -0.2118,  0.0632, -0.2852,  0.0976,  0.1133,\n",
       "           0.1836, -0.0029,  0.0331,  0.0762, -0.1814, -0.1525, -0.0151,  0.2586,\n",
       "           0.1019, -0.2614, -0.0762, -0.0582, -0.2371, -0.0552,  0.0814,  0.1584,\n",
       "          -0.0220, -0.0776,  0.0751,  0.1522, -0.2079,  0.1798,  0.1572, -0.0613])),\n",
       " ('HK_G_004a',\n",
       "  tensor([-0.0197, -0.3094,  0.0533,  ...,  0.1443, -0.0992, -0.1470]),\n",
       "  array([[-0.22549503, -0.0729673 ,  0.28083953, ..., -0.42898887,\n",
       "          -0.37699267, -0.07800737],\n",
       "         [-0.13445207, -0.07150038,  0.47127327, ..., -0.35047126,\n",
       "          -0.12064837, -0.23601069],\n",
       "         [-0.40880463, -0.0846013 ,  0.39446256, ..., -0.26714242,\n",
       "          -0.1708264 , -0.21530184],\n",
       "         ...,\n",
       "         [ 0.00897049, -0.12988515,  0.38558024, ..., -0.42948163,\n",
       "          -0.40901127, -0.15289019],\n",
       "         [-0.18797974,  0.09968652,  0.46492335, ..., -0.40015963,\n",
       "          -0.07653091, -0.26741463],\n",
       "         [-0.27361482,  0.05737705,  0.29250357, ..., -0.11356904,\n",
       "           0.17980841, -0.42122278]], dtype=float32),\n",
       "  tensor([ 0.6275, -0.3560, -0.7058,  0.0256, -0.4210,  0.4082, -0.6292, -0.5229,\n",
       "           0.7385, -0.2468,  0.3940, -0.1670,  0.6872, -0.5279,  0.8487,  0.9703,\n",
       "          -0.2864,  0.5243,  0.3074, -0.4331, -0.3193, -0.2907,  0.2599, -0.0506,\n",
       "           0.0543, -0.2342, -0.0565,  0.1863, -0.3805, -0.1299, -0.5884,  0.1143,\n",
       "          -0.4144,  0.0599,  0.1282, -0.0472,  0.1742, -1.1071, -0.0845,  0.3059,\n",
       "          -0.0120, -0.0965, -0.1576,  0.2694, -0.7311, -0.6359,  0.3435,  0.6385,\n",
       "           0.1983, -0.8209,  0.0433,  0.0976, -0.0428, -0.1174,  0.5357,  0.2550,\n",
       "           0.0921, -0.7624,  0.1361,  0.2548, -0.3549,  0.2763,  0.4238, -0.6478]))]"
      ]
     },
     "execution_count": 10,
     "metadata": {},
     "output_type": "execute_result"
    }
   ],
   "source": [
    "next(iter(dloader))"
   ]
  },
  {
   "cell_type": "code",
   "execution_count": 16,
   "id": "29bf3f5a-a1c1-4b0e-a2aa-35bcf69cdea2",
   "metadata": {
    "scrolled": true
   },
   "outputs": [
    {
     "name": "stdout",
     "output_type": "stream",
     "text": [
      "torch.Size([1024]) (1462, 64) torch.Size([64])\n",
      "torch.Size([1024]) (4467, 64) torch.Size([64])\n",
      "torch.Size([1024]) (2876, 64) torch.Size([64])\n",
      "torch.Size([1024]) (2237, 64) torch.Size([64])\n",
      "torch.Size([1024]) (3589, 64) torch.Size([64])\n",
      "torch.Size([1024]) (4832, 64) torch.Size([64])\n",
      "torch.Size([1024]) (4773, 64) torch.Size([64])\n",
      "torch.Size([1024]) (4672, 64) torch.Size([64])\n",
      "torch.Size([1024]) (4583, 64) torch.Size([64])\n",
      "torch.Size([1024]) (2771, 64) torch.Size([64])\n"
     ]
    }
   ],
   "source": [
    "for i in range(10) : \n",
    "    a=dset[i]\n",
    "    print(a[1].shape,a[2].shape,a[3].shape)"
   ]
  },
  {
   "cell_type": "code",
   "execution_count": 12,
   "id": "003a1624-6992-4a88-8fb6-9f975921c336",
   "metadata": {},
   "outputs": [
    {
     "data": {
      "text/plain": [
       "('HK_G_047a',\n",
       " tensor([-0.0539, -0.5297, -0.0642,  ...,  0.1789,  0.2197,  0.0056]),\n",
       " array([[-0.08014719,  0.0226677 ,  0.38683406, ..., -0.45547077,\n",
       "         -0.20303065,  0.0350931 ],\n",
       "        [-0.24648541,  0.04048198,  0.2664573 , ..., -0.26297712,\n",
       "         -0.24758446,  0.00399087],\n",
       "        [ 0.03167073, -0.05216624,  0.19348897, ..., -0.43161196,\n",
       "         -0.44735575, -0.07595025],\n",
       "        ...,\n",
       "        [ 0.20879792,  0.14114872,  0.25307524, ..., -0.5615834 ,\n",
       "         -0.39529395, -0.12393145],\n",
       "        [-0.27814874, -0.04083267,  0.2853797 , ..., -0.2901719 ,\n",
       "         -0.30477586, -0.09112598],\n",
       "        [ 0.09548052, -0.11962387,  0.20562878, ..., -0.44987673,\n",
       "         -0.3828746 , -0.13531055]], dtype=float32),\n",
       " tensor([ 0.4144,  0.1532,  0.2813, -0.1155, -0.1642,  0.4287, -0.3540, -0.2343,\n",
       "          0.2888, -0.1073,  0.4480, -0.2075,  0.4261, -0.2090,  0.3310,  0.4626,\n",
       "         -0.0562,  0.4025,  0.3577, -0.1854, -0.0333, -0.3231,  0.2222,  0.2143,\n",
       "         -0.1169,  0.1423, -0.1979,  0.3016, -0.0560, -0.1646, -0.3148,  0.2875,\n",
       "         -0.0957,  0.0428,  0.0512, -0.2746, -0.0847, -0.4677, -0.1443,  0.1715,\n",
       "          0.1158, -0.1328, -0.1529,  0.3380, -0.2282, -0.3301,  0.4042,  0.3046,\n",
       "          0.1617, -0.3957,  0.2660,  0.1778, -0.2609, -0.1511,  0.3095,  0.4744,\n",
       "          0.0549, -0.2257, -0.0156,  0.3968, -0.1997,  0.3691, -0.1759, -0.3116]))"
      ]
     },
     "execution_count": 12,
     "metadata": {},
     "output_type": "execute_result"
    }
   ],
   "source": [
    "dset[45]\n"
   ]
  },
  {
   "cell_type": "code",
   "execution_count": null,
   "id": "d2210bd8-5a67-400a-b5d8-b0bffda8e8f4",
   "metadata": {},
   "outputs": [],
   "source": []
  }
 ],
 "metadata": {
  "kernelspec": {
   "display_name": "conda_gbmhackathon",
   "language": "python",
   "name": "conda_gbmhackathon"
  },
  "language_info": {
   "codemirror_mode": {
    "name": "ipython",
    "version": 3
   },
   "file_extension": ".py",
   "mimetype": "text/x-python",
   "name": "python",
   "nbconvert_exporter": "python",
   "pygments_lexer": "ipython3",
   "version": "3.10.16"
  }
 },
 "nbformat": 4,
 "nbformat_minor": 5
}
