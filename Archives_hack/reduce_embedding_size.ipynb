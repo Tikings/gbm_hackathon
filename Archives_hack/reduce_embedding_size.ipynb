{
 "cells": [
  {
   "cell_type": "code",
   "execution_count": 1,
   "id": "d2bb9617-9a56-4f09-9ff9-3e50d3be9cd8",
   "metadata": {},
   "outputs": [
    {
     "name": "stderr",
     "output_type": "stream",
     "text": [
      "/home/ec2-user/SageMaker/.conda/envs/gbmhackathon/lib/python3.10/site-packages/sklearn/utils/deprecation.py:151: FutureWarning: 'force_all_finite' was renamed to 'ensure_all_finite' in 1.6 and will be removed in 1.8.\n",
      "  warnings.warn(\n",
      "/home/ec2-user/SageMaker/.conda/envs/gbmhackathon/lib/python3.10/site-packages/sklearn/utils/deprecation.py:151: FutureWarning: 'force_all_finite' was renamed to 'ensure_all_finite' in 1.6 and will be removed in 1.8.\n",
      "  warnings.warn(\n"
     ]
    },
    {
     "name": "stdout",
     "output_type": "stream",
     "text": [
      "Signal Embedding Shape: (18614, 64)\n",
      "Background Embedding Shape: (104, 64)\n"
     ]
    }
   ],
   "source": [
    "import numpy as np\n",
    "import umap\n",
    "from sklearn.preprocessing import StandardScaler\n",
    "\n",
    "# Load data (Modify file paths)\n",
    "X_signal = np.load(\"embedding.npy\")       # Shape: (10000, 3072) (scRNA-seq or bulk)\n",
    "X_background = np.load(\"embedding_bulk.npy\")  # Shape: (104, 3072) (Unwanted variation)\n",
    "\n",
    "# Combine datasets\n",
    "X_combined = np.vstack([X_signal, X_background])\n",
    "y_labels = np.array([1] * X_signal.shape[0] + [0] * X_background.shape[0])  # 1 = Signal, 0 = Background\n",
    "\n",
    "# Standardize the data\n",
    "scaler = StandardScaler()\n",
    "X_combined_scaled = scaler.fit_transform(X_combined)\n",
    "\n",
    "# Apply UMAP with 64 components\n",
    "n_components = 64  # Desired reduced dimension\n",
    "mapper = umap.UMAP(n_components=n_components, metric=\"euclidean\", n_neighbors=15, min_dist=0.3).fit(X_combined_scaled, y=y_labels)\n",
    "\n",
    "# Extract embeddings\n",
    "X_transformed = mapper.embedding_\n",
    "\n",
    "# Split back into separate datasets\n",
    "X_signal_transformed = X_transformed[:X_signal.shape[0], :]  # Shape: (10000, 64)\n",
    "X_background_transformed = X_transformed[X_signal.shape[0]:, :]  # Shape: (104, 64)\n",
    "\n",
    "# Save embeddings for further analysis\n",
    "np.save(\"reduced_embedding_sc.npy\", X_signal_transformed)\n",
    "np.save(\"reduced_embedding_bulk.npy\", X_background_transformed)\n",
    "\n",
    "# Print output shapes\n",
    "print(\"Signal Embedding Shape:\", X_signal_transformed.shape)  # Expected: (10000, 64)\n",
    "print(\"Background Embedding Shape:\", X_background_transformed.shape)  # Expected: (104, 64)\n"
   ]
  },
  {
   "cell_type": "code",
   "execution_count": null,
   "id": "d5edef83-eec6-4b18-a26e-1d68f1303fdc",
   "metadata": {},
   "outputs": [],
   "source": []
  }
 ],
 "metadata": {
  "kernelspec": {
   "display_name": "conda_gbmhackathon",
   "language": "python",
   "name": "conda_gbmhackathon"
  },
  "language_info": {
   "codemirror_mode": {
    "name": "ipython",
    "version": 3
   },
   "file_extension": ".py",
   "mimetype": "text/x-python",
   "name": "python",
   "nbconvert_exporter": "python",
   "pygments_lexer": "ipython3",
   "version": "3.10.16"
  }
 },
 "nbformat": 4,
 "nbformat_minor": 5
}
